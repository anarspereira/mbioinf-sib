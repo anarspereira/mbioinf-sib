{
 "cells": [
  {
   "cell_type": "markdown",
   "source": [
    "# 4. Testing KNN module (classifier and regressor)."
   ],
   "metadata": {
    "collapsed": false,
    "pycharm": {
     "name": "#%% md\n"
    }
   }
  },
  {
   "cell_type": "code",
   "execution_count": 3,
   "outputs": [],
   "source": [
    "from si.io_package.csv_file import read_csv\n",
    "from si.model_selection.split import train_test_split\n",
    "from si.neighbors.knn_classifier import KNNClassifier\n",
    "from si.neighbors.knn_regressor import KNNRegressor"
   ],
   "metadata": {
    "collapsed": false,
    "pycharm": {
     "name": "#%%\n"
    }
   }
  },
  {
   "cell_type": "code",
   "execution_count": 4,
   "outputs": [],
   "source": [
    "# datasets\n",
    "filename_iris = \"C:/Users/Ana/Documents/GitHub/mbioinf-sib/datasets/iris.csv\"\n",
    "iris = read_csv(filename_iris, sep=\",\", label=True, features=True)\n",
    "\n",
    "filename_bb = \"C:/Users/Ana/Documents/GitHub/mbioinf-sib/datasets/breast-bin.csv\"\n",
    "breastbin = read_csv(filename_bb, sep=\",\", label=True, features=True)"
   ],
   "metadata": {
    "collapsed": false,
    "pycharm": {
     "name": "#%%\n"
    }
   }
  },
  {
   "cell_type": "code",
   "execution_count": 5,
   "outputs": [
    {
     "data": {
      "text/plain": "array([[6.1, 2.8, 4.7, 1.2],\n       [5.7, 3.8, 1.7, 0.3],\n       [7.7, 2.6, 6.9, 2.3],\n       [6. , 2.9, 4.5, 1.5],\n       [6.8, 2.8, 4.8, 1.4],\n       [5.4, 3.4, 1.5, 0.4],\n       [5.6, 2.9, 3.6, 1.3],\n       [6.9, 3.1, 5.1, 2.3],\n       [6.2, 2.2, 4.5, 1.5],\n       [5.8, 2.7, 3.9, 1.2],\n       [6.5, 3.2, 5.1, 2. ],\n       [4.8, 3. , 1.4, 0.1],\n       [5.5, 3.5, 1.3, 0.2],\n       [4.9, 3.1, 1.5, 0.1],\n       [5.1, 3.8, 1.5, 0.3],\n       [6.3, 3.3, 4.7, 1.6],\n       [6.5, 3. , 5.8, 2.2],\n       [5.6, 2.5, 3.9, 1.1],\n       [5.7, 2.8, 4.5, 1.3],\n       [6.4, 2.8, 5.6, 2.2],\n       [4.7, 3.2, 1.6, 0.2],\n       [6.1, 3. , 4.9, 1.8],\n       [5. , 3.4, 1.6, 0.4],\n       [6.4, 2.8, 5.6, 2.1],\n       [7.9, 3.8, 6.4, 2. ],\n       [6.7, 3. , 5.2, 2.3],\n       [6.7, 2.5, 5.8, 1.8],\n       [6.8, 3.2, 5.9, 2.3],\n       [4.8, 3. , 1.4, 0.3],\n       [4.8, 3.1, 1.6, 0.2]])"
     },
     "execution_count": 5,
     "metadata": {},
     "output_type": "execute_result"
    }
   ],
   "source": [
    "# split dataset\n",
    "train_dataset, test_dataset = train_test_split(iris)\n",
    "test_dataset.X"
   ],
   "metadata": {
    "collapsed": false,
    "pycharm": {
     "name": "#%%\n"
    }
   }
  },
  {
   "cell_type": "code",
   "execution_count": 6,
   "outputs": [
    {
     "data": {
      "text/plain": "array(['Iris-versicolor', 'Iris-setosa', 'Iris-virginica',\n       'Iris-versicolor', 'Iris-versicolor', 'Iris-setosa',\n       'Iris-versicolor', 'Iris-virginica', 'Iris-versicolor',\n       'Iris-versicolor', 'Iris-virginica', 'Iris-setosa', 'Iris-setosa',\n       'Iris-setosa', 'Iris-setosa', 'Iris-versicolor', 'Iris-virginica',\n       'Iris-versicolor', 'Iris-versicolor', 'Iris-virginica',\n       'Iris-setosa', 'Iris-virginica', 'Iris-setosa', 'Iris-virginica',\n       'Iris-virginica', 'Iris-virginica', 'Iris-virginica',\n       'Iris-virginica', 'Iris-setosa', 'Iris-setosa'], dtype='<U15')"
     },
     "execution_count": 6,
     "metadata": {},
     "output_type": "execute_result"
    }
   ],
   "source": [
    "# knn classifier\n",
    "k = 2\n",
    "kmeans = KNNClassifier(k)\n",
    "kmeans.fit(train_dataset)\n",
    "predictions = kmeans.predict(test_dataset)\n",
    "predictions"
   ],
   "metadata": {
    "collapsed": false,
    "pycharm": {
     "name": "#%%\n"
    }
   }
  },
  {
   "cell_type": "code",
   "execution_count": 7,
   "outputs": [
    {
     "data": {
      "text/plain": "1.0"
     },
     "execution_count": 7,
     "metadata": {},
     "output_type": "execute_result"
    }
   ],
   "source": [
    "kmeans.score(test_dataset)"
   ],
   "metadata": {
    "collapsed": false,
    "pycharm": {
     "name": "#%%\n"
    }
   }
  },
  {
   "cell_type": "code",
   "execution_count": 8,
   "outputs": [
    {
     "data": {
      "text/plain": "array([[ 4.,  4.,  4., ...,  7.,  3.,  1.],\n       [ 5., 10., 10., ...,  6.,  5.,  2.],\n       [ 5.,  2.,  4., ...,  1.,  1.,  1.],\n       ...,\n       [ 3.,  1.,  1., ...,  2.,  1.,  1.],\n       [ 3.,  1.,  1., ...,  1.,  1.,  1.],\n       [ 5.,  5.,  7., ...,  7.,  4.,  1.]])"
     },
     "execution_count": 8,
     "metadata": {},
     "output_type": "execute_result"
    }
   ],
   "source": [
    "# split dataset\n",
    "train_dataset, test_dataset = train_test_split(breastbin)\n",
    "test_dataset.X"
   ],
   "metadata": {
    "collapsed": false,
    "pycharm": {
     "name": "#%%\n"
    }
   }
  },
  {
   "cell_type": "code",
   "execution_count": 9,
   "outputs": [
    {
     "data": {
      "text/plain": "array([0.5, 1. , 0. , 0. , 0. , 0. , 1. , 0. , 0. , 1. , 0. , 1. , 1. ,\n       1. , 0. , 0. , 0. , 0. , 1. , 0. , 0. , 1. , 0. , 1. , 1. , 0. ,\n       0. , 0. , 0. , 0. , 1. , 0. , 1. , 0. , 0. , 0. , 0. , 0. , 1. ,\n       1. , 0. , 0. , 1. , 0. , 0. , 1. , 1. , 0. , 0. , 1. , 1. , 0. ,\n       0.5, 0. , 0. , 1. , 0. , 0. , 1. , 0. , 1. , 1. , 1. , 0. , 0. ,\n       1. , 0. , 0. , 1. , 0. , 0. , 0. , 0. , 0. , 0.5, 0. , 0. , 1. ,\n       0. , 1. , 0. , 1. , 0. , 0. , 0. , 1. , 1. , 0. , 0. , 0. , 0. ,\n       1. , 0. , 1. , 1. , 0. , 0. , 0. , 0. , 1. , 1. , 0. , 1. , 1. ,\n       0. , 1. , 0. , 0. , 0. , 1. , 1. , 1. , 0. , 0. , 0. , 1. , 0. ,\n       1. , 1. , 0. , 0. , 0. , 0.5, 0. , 0. , 0. , 0. , 0. , 0. , 0. ,\n       0. , 1. , 0. , 0. , 0. , 1. , 0. , 0. , 1. ])"
     },
     "execution_count": 9,
     "metadata": {},
     "output_type": "execute_result"
    }
   ],
   "source": [
    "# knn regressor\n",
    "k = 2\n",
    "kmeans = KNNRegressor(k)\n",
    "kmeans.fit(train_dataset)\n",
    "predictions = kmeans.predict(test_dataset)\n",
    "predictions"
   ],
   "metadata": {
    "collapsed": false,
    "pycharm": {
     "name": "#%%\n"
    }
   }
  },
  {
   "cell_type": "code",
   "execution_count": 10,
   "outputs": [
    {
     "data": {
      "text/plain": "(0.08481889296799709+0j)"
     },
     "execution_count": 10,
     "metadata": {},
     "output_type": "execute_result"
    }
   ],
   "source": [
    "kmeans.score(test_dataset)"
   ],
   "metadata": {
    "collapsed": false,
    "pycharm": {
     "name": "#%%\n"
    }
   }
  }
 ],
 "metadata": {
  "kernelspec": {
   "display_name": "Python 3",
   "language": "python",
   "name": "python3"
  },
  "language_info": {
   "codemirror_mode": {
    "name": "ipython",
    "version": 2
   },
   "file_extension": ".py",
   "mimetype": "text/x-python",
   "name": "python",
   "nbconvert_exporter": "python",
   "pygments_lexer": "ipython2",
   "version": "2.7.6"
  }
 },
 "nbformat": 4,
 "nbformat_minor": 0
}