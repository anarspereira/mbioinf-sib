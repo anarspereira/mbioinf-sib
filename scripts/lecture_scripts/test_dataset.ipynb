{
 "cells": [
  {
   "cell_type": "markdown",
   "source": [
    "# 1. Testing Dataset object"
   ],
   "metadata": {
    "collapsed": false,
    "pycharm": {
     "name": "#%% md\n"
    }
   }
  },
  {
   "cell_type": "code",
   "execution_count": 64,
   "metadata": {
    "collapsed": true,
    "pycharm": {
     "name": "#%%\n"
    }
   },
   "outputs": [],
   "source": [
    "from si.data.dataset_module import Dataset\n",
    "import numpy as np"
   ]
  },
  {
   "cell_type": "code",
   "execution_count": 65,
   "outputs": [],
   "source": [
    "# create a dataset\n",
    "X = np.random.rand(50, 3)\n",
    "y = np.random.randint(0, 2, 50)\n",
    "features = ['1', '2', '3']\n",
    "label = 'y'\n",
    "dataset = Dataset(X, y, features, label)"
   ],
   "metadata": {
    "collapsed": false,
    "pycharm": {
     "name": "#%%\n"
    }
   }
  },
  {
   "cell_type": "code",
   "execution_count": 66,
   "outputs": [
    {
     "data": {
      "text/plain": "(50, 3)"
     },
     "execution_count": 66,
     "metadata": {},
     "output_type": "execute_result"
    }
   ],
   "source": [
    "dataset.shape()"
   ],
   "metadata": {
    "collapsed": false,
    "pycharm": {
     "name": "#%%\n"
    }
   }
  },
  {
   "cell_type": "code",
   "execution_count": 67,
   "outputs": [
    {
     "data": {
      "text/plain": "array([[0.21297314, 0.11603796, 0.59794077],\n       [0.16594932, 0.28654393, 0.07031028],\n       [0.33733168, 0.72249666, 0.72588555],\n       [0.33940697, 0.59058792, 0.08415238],\n       [0.25168877, 0.41079277, 0.51342521],\n       [0.65308556, 0.0077654 , 0.23498334],\n       [0.64766444, 0.93568986, 0.22880375],\n       [0.68219148, 0.35660682, 0.17762595],\n       [0.03145186, 0.96586586, 0.32398335],\n       [0.28465905, 0.10191172, 0.96095604],\n       [0.53408834, 0.71832925, 0.03054765],\n       [0.07160023, 0.67695408, 0.75831185],\n       [0.71176014, 0.81282196, 0.88105899],\n       [0.47262807, 0.76301546, 0.680144  ],\n       [0.86536999, 0.16054223, 0.1889809 ],\n       [0.68640567, 0.84592669, 0.13645401],\n       [0.4699762 , 0.18233375, 0.28394094],\n       [0.46864681, 0.29404307, 0.17095275],\n       [0.43279107, 0.13618103, 0.1329044 ],\n       [0.68648641, 0.42187329, 0.69150391],\n       [0.17054451, 0.09615277, 0.07207546],\n       [0.25208704, 0.51429987, 0.34112289],\n       [0.84903233, 0.66639697, 0.06325091],\n       [0.72156032, 0.38753045, 0.63718887],\n       [0.44109716, 0.98430296, 0.23443008],\n       [0.88009088, 0.93861042, 0.09803896],\n       [0.11315552, 0.85281479, 0.42916515],\n       [0.53864784, 0.40167759, 0.84321447],\n       [0.18434086, 0.10332516, 0.6319727 ],\n       [0.08773169, 0.61483092, 0.75984958],\n       [0.44762793, 0.06511203, 0.43044222],\n       [0.68638445, 0.72793276, 0.94940118],\n       [0.37631186, 0.02210342, 0.14713886],\n       [0.01638624, 0.45475932, 0.81784186],\n       [0.76138953, 0.45191372, 0.47981931],\n       [0.15319135, 0.36115601, 0.92058809],\n       [0.57544242, 0.17474195, 0.20385613],\n       [0.36673258, 0.87036175, 0.29859044],\n       [0.74624048, 0.66315184, 0.78796715],\n       [0.84750837, 0.61230123, 0.62552909],\n       [0.24621335, 0.83016562, 0.03134001],\n       [0.83632334, 0.23596881, 0.37504768],\n       [0.92140717, 0.95497978, 0.78979355],\n       [0.491965  , 0.05041487, 0.04670718],\n       [0.13650105, 0.38278681, 0.52719962],\n       [0.27171172, 0.51096433, 0.98875797],\n       [0.54943999, 0.33031353, 0.61453608],\n       [0.15680742, 0.00115536, 0.02603786],\n       [0.29477588, 0.81060203, 0.05683794],\n       [0.96050511, 0.15191359, 0.09689303]])"
     },
     "execution_count": 67,
     "metadata": {},
     "output_type": "execute_result"
    }
   ],
   "source": [
    "dataset.X"
   ],
   "metadata": {
    "collapsed": false,
    "pycharm": {
     "name": "#%%\n"
    }
   }
  },
  {
   "cell_type": "code",
   "execution_count": 69,
   "outputs": [
    {
     "data": {
      "text/plain": "['1', '2', '3']"
     },
     "execution_count": 69,
     "metadata": {},
     "output_type": "execute_result"
    }
   ],
   "source": [
    "dataset.features_names"
   ],
   "metadata": {
    "collapsed": false,
    "pycharm": {
     "name": "#%%\n"
    }
   }
  },
  {
   "cell_type": "code",
   "execution_count": 70,
   "outputs": [
    {
     "data": {
      "text/plain": "True"
     },
     "execution_count": 70,
     "metadata": {},
     "output_type": "execute_result"
    }
   ],
   "source": [
    "# Supervised or unsupervised\n",
    "dataset.has_label()"
   ],
   "metadata": {
    "collapsed": false,
    "pycharm": {
     "name": "#%%\n"
    }
   }
  },
  {
   "cell_type": "code",
   "execution_count": 71,
   "outputs": [
    {
     "data": {
      "text/plain": "array([1, 1, 1, 1, 0, 0, 0, 0, 1, 0, 1, 0, 1, 1, 0, 1, 1, 0, 1, 0, 0, 1,\n       0, 0, 1, 0, 0, 0, 1, 0, 0, 1, 1, 0, 1, 0, 1, 0, 1, 1, 0, 1, 0, 1,\n       0, 1, 0, 1, 0, 0])"
     },
     "execution_count": 71,
     "metadata": {},
     "output_type": "execute_result"
    }
   ],
   "source": [
    "# Print the label\n",
    "dataset.y"
   ],
   "metadata": {
    "collapsed": false,
    "pycharm": {
     "name": "#%%\n"
    }
   }
  },
  {
   "cell_type": "code",
   "execution_count": 72,
   "outputs": [
    {
     "data": {
      "text/plain": "array([0, 1])"
     },
     "execution_count": 72,
     "metadata": {},
     "output_type": "execute_result"
    }
   ],
   "source": [
    "dataset.get_classes()"
   ],
   "metadata": {
    "collapsed": false,
    "pycharm": {
     "name": "#%%\n"
    }
   }
  },
  {
   "cell_type": "code",
   "execution_count": 73,
   "outputs": [
    {
     "data": {
      "text/plain": "       mean    median  variance       min       max\n0  0.461746  0.458137  0.070446  0.016386  0.960505\n1  0.474581  0.436894  0.092496  0.001155  0.984303\n2  0.423950  0.358085  0.093915  0.026038  0.988758",
      "text/html": "<div>\n<style scoped>\n    .dataframe tbody tr th:only-of-type {\n        vertical-align: middle;\n    }\n\n    .dataframe tbody tr th {\n        vertical-align: top;\n    }\n\n    .dataframe thead th {\n        text-align: right;\n    }\n</style>\n<table border=\"1\" class=\"dataframe\">\n  <thead>\n    <tr style=\"text-align: right;\">\n      <th></th>\n      <th>mean</th>\n      <th>median</th>\n      <th>variance</th>\n      <th>min</th>\n      <th>max</th>\n    </tr>\n  </thead>\n  <tbody>\n    <tr>\n      <th>0</th>\n      <td>0.461746</td>\n      <td>0.458137</td>\n      <td>0.070446</td>\n      <td>0.016386</td>\n      <td>0.960505</td>\n    </tr>\n    <tr>\n      <th>1</th>\n      <td>0.474581</td>\n      <td>0.436894</td>\n      <td>0.092496</td>\n      <td>0.001155</td>\n      <td>0.984303</td>\n    </tr>\n    <tr>\n      <th>2</th>\n      <td>0.423950</td>\n      <td>0.358085</td>\n      <td>0.093915</td>\n      <td>0.026038</td>\n      <td>0.988758</td>\n    </tr>\n  </tbody>\n</table>\n</div>"
     },
     "execution_count": 73,
     "metadata": {},
     "output_type": "execute_result"
    }
   ],
   "source": [
    "dataset.summary()"
   ],
   "metadata": {
    "collapsed": false,
    "pycharm": {
     "name": "#%%\n"
    }
   }
  },
  {
   "cell_type": "code",
   "execution_count": 80,
   "outputs": [
    {
     "ename": "TypeError",
     "evalue": "__init__() missing 2 required positional arguments: 'features_names' and 'label_names'",
     "output_type": "error",
     "traceback": [
      "\u001B[1;31m---------------------------------------------------------------------------\u001B[0m",
      "\u001B[1;31mTypeError\u001B[0m                                 Traceback (most recent call last)",
      "Cell \u001B[1;32mIn [80], line 5\u001B[0m\n\u001B[0;32m      3\u001B[0m \u001B[38;5;66;03m# read breast dataset from data file\u001B[39;00m\n\u001B[0;32m      4\u001B[0m filename \u001B[38;5;241m=\u001B[39m \u001B[38;5;124mr\u001B[39m\u001B[38;5;124m'\u001B[39m\u001B[38;5;124mC:\u001B[39m\u001B[38;5;124m\\\u001B[39m\u001B[38;5;124mUsers\u001B[39m\u001B[38;5;124m\\\u001B[39m\u001B[38;5;124mAna\u001B[39m\u001B[38;5;124m\\\u001B[39m\u001B[38;5;124mDocuments\u001B[39m\u001B[38;5;124m\\\u001B[39m\u001B[38;5;124mGitHub\u001B[39m\u001B[38;5;124m\\\u001B[39m\u001B[38;5;124mmbioinf-sib\u001B[39m\u001B[38;5;124m\\\u001B[39m\u001B[38;5;124mdatasets\u001B[39m\u001B[38;5;124m\\\u001B[39m\u001B[38;5;124mbreast-bin.data\u001B[39m\u001B[38;5;124m'\u001B[39m\n\u001B[1;32m----> 5\u001B[0m breast_dataset \u001B[38;5;241m=\u001B[39m read_data_file(filename, sep\u001B[38;5;241m=\u001B[39m\u001B[38;5;124m'\u001B[39m\u001B[38;5;124m,\u001B[39m\u001B[38;5;124m'\u001B[39m, label\u001B[38;5;241m=\u001B[39m\u001B[38;5;28;01mTrue\u001B[39;00m)\n",
      "File \u001B[1;32m~\\Documents\\GitHub\\mbioinf-sib\\src\\si\\io_package\\data_file.py:36\u001B[0m, in \u001B[0;36mread_data_file\u001B[1;34m(filename, sep, label)\u001B[0m\n\u001B[0;32m     33\u001B[0m     X \u001B[38;5;241m=\u001B[39m raw_data\n\u001B[0;32m     34\u001B[0m     y \u001B[38;5;241m=\u001B[39m \u001B[38;5;28;01mNone\u001B[39;00m\n\u001B[1;32m---> 36\u001B[0m \u001B[38;5;28;01mreturn\u001B[39;00m \u001B[43mDataset\u001B[49m\u001B[43m(\u001B[49m\u001B[43mX\u001B[49m\u001B[43m,\u001B[49m\u001B[43m \u001B[49m\u001B[43my\u001B[49m\u001B[43m)\u001B[49m\n",
      "\u001B[1;31mTypeError\u001B[0m: __init__() missing 2 required positional arguments: 'features_names' and 'label_names'"
     ]
    }
   ],
   "source": [
    "from si.io_package.data_file import read_data_file\n",
    "\n",
    "# read breast dataset from data file\n",
    "filename = r'C:\\Users\\Ana\\Documents\\GitHub\\mbioinf-sib\\datasets\\breast-bin.data'\n",
    "breast_dataset = read_data_file(filename, sep=',', label=True)"
   ],
   "metadata": {
    "collapsed": false,
    "pycharm": {
     "name": "#%%\n"
    }
   }
  },
  {
   "cell_type": "code",
   "execution_count": 57,
   "outputs": [
    {
     "ename": "NameError",
     "evalue": "name 'breast_dataset' is not defined",
     "output_type": "error",
     "traceback": [
      "\u001B[1;31m---------------------------------------------------------------------------\u001B[0m",
      "\u001B[1;31mNameError\u001B[0m                                 Traceback (most recent call last)",
      "Cell \u001B[1;32mIn [57], line 1\u001B[0m\n\u001B[1;32m----> 1\u001B[0m breast_dataset\u001B[38;5;241m.\u001B[39msummary()\n",
      "\u001B[1;31mNameError\u001B[0m: name 'breast_dataset' is not defined"
     ]
    }
   ],
   "source": [
    "breast_dataset.summary()"
   ],
   "metadata": {
    "collapsed": false,
    "pycharm": {
     "name": "#%%\n"
    }
   }
  },
  {
   "cell_type": "code",
   "execution_count": null,
   "outputs": [],
   "source": [
    "breast_dataset.y"
   ],
   "metadata": {
    "collapsed": false,
    "pycharm": {
     "name": "#%%\n"
    }
   }
  },
  {
   "cell_type": "code",
   "execution_count": null,
   "outputs": [],
   "source": [
    "print('Features', breast_dataset.features)\n",
    "print('Label', breast_dataset.label)"
   ],
   "metadata": {
    "collapsed": false,
    "pycharm": {
     "name": "#%%\n"
    }
   }
  },
  {
   "cell_type": "code",
   "execution_count": 58,
   "outputs": [
    {
     "ename": "NameError",
     "evalue": "name 'breast_dataset' is not defined",
     "output_type": "error",
     "traceback": [
      "\u001B[1;31m---------------------------------------------------------------------------\u001B[0m",
      "\u001B[1;31mNameError\u001B[0m                                 Traceback (most recent call last)",
      "Cell \u001B[1;32mIn [58], line 3\u001B[0m\n\u001B[0;32m      1\u001B[0m \u001B[38;5;66;03m# write the same fila with a different name\u001B[39;00m\n\u001B[0;32m      2\u001B[0m \u001B[38;5;28;01mfrom\u001B[39;00m \u001B[38;5;21;01msi\u001B[39;00m\u001B[38;5;21;01m.\u001B[39;00m\u001B[38;5;21;01mio\u001B[39;00m\u001B[38;5;21;01m.\u001B[39;00m\u001B[38;5;21;01mdata_file\u001B[39;00m \u001B[38;5;28;01mimport\u001B[39;00m write_data_file\n\u001B[1;32m----> 3\u001B[0m write_data_file(\u001B[38;5;124m'\u001B[39m\u001B[38;5;124m../datasets/breast-bin_tabular.tsv\u001B[39m\u001B[38;5;124m'\u001B[39m, breast_dataset, sep\u001B[38;5;241m=\u001B[39m\u001B[38;5;124m'\u001B[39m\u001B[38;5;130;01m\\t\u001B[39;00m\u001B[38;5;124m'\u001B[39m, label\u001B[38;5;241m=\u001B[39m\u001B[38;5;28;01mTrue\u001B[39;00m)\n",
      "\u001B[1;31mNameError\u001B[0m: name 'breast_dataset' is not defined"
     ]
    }
   ],
   "source": [
    "# write the same fila with a different name\n",
    "from si.io_package.data_file import write_data_file\n",
    "write_data_file('../datasets/breast-bin_tabular.tsv', breast_dataset, sep='\\t', label=True)"
   ],
   "metadata": {
    "collapsed": false,
    "pycharm": {
     "name": "#%%\n"
    }
   }
  },
  {
   "cell_type": "code",
   "execution_count": null,
   "outputs": [],
   "source": [
    "from si.io_package.csv import read_csv\n",
    "\n",
    "# read iris dataset from data file\n",
    "iris_dataset = read_csv('../datasets/iris.csv', sep=',', features=True, label=True)\n",
    "iris_dataset.summary()"
   ],
   "metadata": {
    "collapsed": false,
    "pycharm": {
     "name": "#%%\n"
    }
   }
  },
  {
   "cell_type": "code",
   "execution_count": null,
   "outputs": [],
   "source": [
    "iris_dataset.get_classes()"
   ],
   "metadata": {
    "collapsed": false,
    "pycharm": {
     "name": "#%%\n"
    }
   }
  },
  {
   "cell_type": "code",
   "execution_count": null,
   "outputs": [],
   "source": [
    "# write the same file with a different name\n",
    "from si.io_package.csv import write_csv\n",
    "write_csv('../datasets/iris_tabular.tsv', iris_dataset, sep='\\t', features=True, label=True)"
   ],
   "metadata": {
    "collapsed": false,
    "pycharm": {
     "name": "#%%\n"
    }
   }
  }
 ],
 "metadata": {
  "kernelspec": {
   "display_name": "Python 3",
   "language": "python",
   "name": "python3"
  },
  "language_info": {
   "codemirror_mode": {
    "name": "ipython",
    "version": 2
   },
   "file_extension": ".py",
   "mimetype": "text/x-python",
   "name": "python",
   "nbconvert_exporter": "python",
   "pygments_lexer": "ipython2",
   "version": "2.7.6"
  }
 },
 "nbformat": 4,
 "nbformat_minor": 0
}