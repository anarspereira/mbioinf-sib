{
 "cells": [
  {
   "cell_type": "markdown",
   "source": [
    "# 1. Testing Dataset object"
   ],
   "metadata": {
    "collapsed": false,
    "pycharm": {
     "name": "#%% md\n"
    }
   }
  },
  {
   "cell_type": "code",
   "execution_count": 1,
   "metadata": {
    "collapsed": true,
    "pycharm": {
     "name": "#%%\n"
    }
   },
   "outputs": [],
   "source": [
    "from si.data.dataset_module import Dataset\n",
    "import numpy as np"
   ]
  },
  {
   "cell_type": "code",
   "execution_count": 2,
   "outputs": [],
   "source": [
    "# create a dataset\n",
    "X = np.random.rand(50, 3)\n",
    "y = np.random.randint(0, 2, 50)\n",
    "features = ['1', '2', '3']\n",
    "label = 'y'\n",
    "dataset = Dataset(X, y, features, label)"
   ],
   "metadata": {
    "collapsed": false,
    "pycharm": {
     "name": "#%%\n"
    }
   }
  },
  {
   "cell_type": "code",
   "execution_count": 3,
   "outputs": [
    {
     "data": {
      "text/plain": "(50, 3)"
     },
     "execution_count": 3,
     "metadata": {},
     "output_type": "execute_result"
    }
   ],
   "source": [
    "dataset.shape()"
   ],
   "metadata": {
    "collapsed": false,
    "pycharm": {
     "name": "#%%\n"
    }
   }
  },
  {
   "cell_type": "code",
   "execution_count": 4,
   "outputs": [
    {
     "data": {
      "text/plain": "array([[0.08267321, 0.31799891, 0.6678633 ],\n       [0.4630569 , 0.77530919, 0.10238716],\n       [0.02063998, 0.77024575, 0.31014046],\n       [0.93082336, 0.81028871, 0.58111003],\n       [0.49175199, 0.47446634, 0.52151527],\n       [0.53899442, 0.10432191, 0.20988616],\n       [0.04256587, 0.42443615, 0.60340006],\n       [0.82899144, 0.69703083, 0.8785475 ],\n       [0.17618625, 0.61055537, 0.1631975 ],\n       [0.54552218, 0.65879149, 0.74118017],\n       [0.29806305, 0.56406446, 0.57486697],\n       [0.79821928, 0.94612863, 0.50277181],\n       [0.05474293, 0.85525787, 0.54033265],\n       [0.27363911, 0.26369912, 0.89472469],\n       [0.4779716 , 0.46082809, 0.08478402],\n       [0.83760228, 0.2157024 , 0.2514338 ],\n       [0.41794557, 0.54890129, 0.94497719],\n       [0.16256941, 0.6059596 , 0.87810856],\n       [0.3057696 , 0.83577196, 0.2345844 ],\n       [0.82405685, 0.52402511, 0.41018496],\n       [0.70266517, 0.58454929, 0.96596482],\n       [0.97261728, 0.14369607, 0.06151624],\n       [0.84354043, 0.57472416, 0.92759785],\n       [0.95493986, 0.65515457, 0.97255936],\n       [0.88947365, 0.71146039, 0.12980797],\n       [0.43001637, 0.59215507, 0.88557418],\n       [0.79543793, 0.40761985, 0.62813236],\n       [0.19835212, 0.43224073, 0.5025652 ],\n       [0.7213287 , 0.29968856, 0.74986169],\n       [0.23911681, 0.7712792 , 0.13885299],\n       [0.29577953, 0.54704842, 0.777608  ],\n       [0.93905937, 0.9910985 , 0.86784224],\n       [0.03461077, 0.16491809, 0.95690815],\n       [0.23485377, 0.10930919, 0.50122379],\n       [0.08953864, 0.85020376, 0.88618234],\n       [0.30480022, 0.08750313, 0.54108963],\n       [0.43092707, 0.42248892, 0.76067697],\n       [0.3856962 , 0.70089351, 0.39916297],\n       [0.52404017, 0.53053639, 0.08657827],\n       [0.84607617, 0.85496758, 0.70901833],\n       [0.8171478 , 0.74564542, 0.75044346],\n       [0.76691594, 0.86491182, 0.98053934],\n       [0.68059255, 0.59258904, 0.24242445],\n       [0.16470869, 0.16473582, 0.36955386],\n       [0.72059809, 0.51696931, 0.90211086],\n       [0.47925853, 0.8308472 , 0.42660713],\n       [0.80454052, 0.50642799, 0.60425697],\n       [0.90474581, 0.56563752, 0.01754093],\n       [0.83110416, 0.73120487, 0.28531623],\n       [0.62086787, 0.41505617, 0.28838152]])"
     },
     "execution_count": 4,
     "metadata": {},
     "output_type": "execute_result"
    }
   ],
   "source": [
    "dataset.X"
   ],
   "metadata": {
    "collapsed": false,
    "pycharm": {
     "name": "#%%\n"
    }
   }
  },
  {
   "cell_type": "code",
   "execution_count": 5,
   "outputs": [
    {
     "data": {
      "text/plain": "['1', '2', '3']"
     },
     "execution_count": 5,
     "metadata": {},
     "output_type": "execute_result"
    }
   ],
   "source": [
    "dataset.features_names"
   ],
   "metadata": {
    "collapsed": false,
    "pycharm": {
     "name": "#%%\n"
    }
   }
  },
  {
   "cell_type": "code",
   "execution_count": 6,
   "outputs": [
    {
     "data": {
      "text/plain": "True"
     },
     "execution_count": 6,
     "metadata": {},
     "output_type": "execute_result"
    }
   ],
   "source": [
    "# Supervised or unsupervised\n",
    "dataset.has_label()"
   ],
   "metadata": {
    "collapsed": false,
    "pycharm": {
     "name": "#%%\n"
    }
   }
  },
  {
   "cell_type": "code",
   "execution_count": 7,
   "outputs": [
    {
     "data": {
      "text/plain": "array([1, 0, 1, 0, 0, 0, 0, 0, 0, 0, 1, 1, 0, 1, 1, 1, 0, 0, 0, 0, 1, 0,\n       0, 0, 0, 1, 1, 1, 1, 0, 1, 1, 1, 0, 0, 0, 0, 1, 0, 0, 1, 0, 1, 1,\n       0, 0, 0, 1, 0, 1])"
     },
     "execution_count": 7,
     "metadata": {},
     "output_type": "execute_result"
    }
   ],
   "source": [
    "# Print the label\n",
    "dataset.y"
   ],
   "metadata": {
    "collapsed": false,
    "pycharm": {
     "name": "#%%\n"
    }
   }
  },
  {
   "cell_type": "code",
   "execution_count": 8,
   "outputs": [
    {
     "data": {
      "text/plain": "array([0, 1])"
     },
     "execution_count": 8,
     "metadata": {},
     "output_type": "execute_result"
    }
   ],
   "source": [
    "dataset.get_classes()"
   ],
   "metadata": {
    "collapsed": false,
    "pycharm": {
     "name": "#%%\n"
    }
   }
  },
  {
   "cell_type": "code",
   "execution_count": 9,
   "outputs": [
    {
     "data": {
      "text/plain": "       mean    median  variance       min       max\n0  0.523903  0.507896  0.087992  0.020640  0.972617\n1  0.556587  0.570181  0.055185  0.087503  0.991098\n2  0.548238  0.557978  0.087866  0.017541  0.980539",
      "text/html": "<div>\n<style scoped>\n    .dataframe tbody tr th:only-of-type {\n        vertical-align: middle;\n    }\n\n    .dataframe tbody tr th {\n        vertical-align: top;\n    }\n\n    .dataframe thead th {\n        text-align: right;\n    }\n</style>\n<table border=\"1\" class=\"dataframe\">\n  <thead>\n    <tr style=\"text-align: right;\">\n      <th></th>\n      <th>mean</th>\n      <th>median</th>\n      <th>variance</th>\n      <th>min</th>\n      <th>max</th>\n    </tr>\n  </thead>\n  <tbody>\n    <tr>\n      <th>0</th>\n      <td>0.523903</td>\n      <td>0.507896</td>\n      <td>0.087992</td>\n      <td>0.020640</td>\n      <td>0.972617</td>\n    </tr>\n    <tr>\n      <th>1</th>\n      <td>0.556587</td>\n      <td>0.570181</td>\n      <td>0.055185</td>\n      <td>0.087503</td>\n      <td>0.991098</td>\n    </tr>\n    <tr>\n      <th>2</th>\n      <td>0.548238</td>\n      <td>0.557978</td>\n      <td>0.087866</td>\n      <td>0.017541</td>\n      <td>0.980539</td>\n    </tr>\n  </tbody>\n</table>\n</div>"
     },
     "execution_count": 9,
     "metadata": {},
     "output_type": "execute_result"
    }
   ],
   "source": [
    "dataset.summary()"
   ],
   "metadata": {
    "collapsed": false,
    "pycharm": {
     "name": "#%%\n"
    }
   }
  },
  {
   "cell_type": "code",
   "execution_count": 10,
   "outputs": [],
   "source": [
    "from si.io_package.data_file import read_data_file\n",
    "\n",
    "# read breast dataset from data file\n",
    "filename = r'C:\\Users\\Ana\\Documents\\GitHub\\mbioinf-sib\\datasets\\breast-bin.data'\n",
    "breast_dataset = read_data_file(filename, sep=',', label=True)"
   ],
   "metadata": {
    "collapsed": false,
    "pycharm": {
     "name": "#%%\n"
    }
   }
  },
  {
   "cell_type": "code",
   "execution_count": 11,
   "outputs": [
    {
     "data": {
      "text/plain": "       mean  median   variance  min   max\n0  4.417740     4.0   7.917053  1.0  10.0\n1  3.134478     1.0   9.298082  1.0  10.0\n2  3.207439     1.0   8.819630  1.0  10.0\n3  2.806867     1.0   8.141527  1.0  10.0\n4  3.216023     2.0   4.896110  1.0  10.0\n5  3.486409     1.0  13.099601  1.0  10.0\n6  3.437768     3.0   5.937114  1.0  10.0\n7  2.866953     1.0   9.311340  1.0  10.0\n8  1.589413     1.0   2.937284  1.0  10.0",
      "text/html": "<div>\n<style scoped>\n    .dataframe tbody tr th:only-of-type {\n        vertical-align: middle;\n    }\n\n    .dataframe tbody tr th {\n        vertical-align: top;\n    }\n\n    .dataframe thead th {\n        text-align: right;\n    }\n</style>\n<table border=\"1\" class=\"dataframe\">\n  <thead>\n    <tr style=\"text-align: right;\">\n      <th></th>\n      <th>mean</th>\n      <th>median</th>\n      <th>variance</th>\n      <th>min</th>\n      <th>max</th>\n    </tr>\n  </thead>\n  <tbody>\n    <tr>\n      <th>0</th>\n      <td>4.417740</td>\n      <td>4.0</td>\n      <td>7.917053</td>\n      <td>1.0</td>\n      <td>10.0</td>\n    </tr>\n    <tr>\n      <th>1</th>\n      <td>3.134478</td>\n      <td>1.0</td>\n      <td>9.298082</td>\n      <td>1.0</td>\n      <td>10.0</td>\n    </tr>\n    <tr>\n      <th>2</th>\n      <td>3.207439</td>\n      <td>1.0</td>\n      <td>8.819630</td>\n      <td>1.0</td>\n      <td>10.0</td>\n    </tr>\n    <tr>\n      <th>3</th>\n      <td>2.806867</td>\n      <td>1.0</td>\n      <td>8.141527</td>\n      <td>1.0</td>\n      <td>10.0</td>\n    </tr>\n    <tr>\n      <th>4</th>\n      <td>3.216023</td>\n      <td>2.0</td>\n      <td>4.896110</td>\n      <td>1.0</td>\n      <td>10.0</td>\n    </tr>\n    <tr>\n      <th>5</th>\n      <td>3.486409</td>\n      <td>1.0</td>\n      <td>13.099601</td>\n      <td>1.0</td>\n      <td>10.0</td>\n    </tr>\n    <tr>\n      <th>6</th>\n      <td>3.437768</td>\n      <td>3.0</td>\n      <td>5.937114</td>\n      <td>1.0</td>\n      <td>10.0</td>\n    </tr>\n    <tr>\n      <th>7</th>\n      <td>2.866953</td>\n      <td>1.0</td>\n      <td>9.311340</td>\n      <td>1.0</td>\n      <td>10.0</td>\n    </tr>\n    <tr>\n      <th>8</th>\n      <td>1.589413</td>\n      <td>1.0</td>\n      <td>2.937284</td>\n      <td>1.0</td>\n      <td>10.0</td>\n    </tr>\n  </tbody>\n</table>\n</div>"
     },
     "execution_count": 11,
     "metadata": {},
     "output_type": "execute_result"
    }
   ],
   "source": [
    "breast_dataset.summary()"
   ],
   "metadata": {
    "collapsed": false,
    "pycharm": {
     "name": "#%%\n"
    }
   }
  },
  {
   "cell_type": "code",
   "execution_count": 12,
   "outputs": [
    {
     "data": {
      "text/plain": "array([1., 0., 0., 0., 1., 0., 0., 0., 0., 1., 0., 0., 0., 0., 0., 0., 0.,\n       0., 0., 1., 0., 0., 0., 0., 0., 1., 1., 1., 1., 1., 1., 0., 1., 1.,\n       0., 1., 0., 1., 0., 0., 1., 1., 0., 0., 0., 0., 1., 1., 0., 0., 0.,\n       1., 0., 0., 0., 0., 0., 0., 0., 0., 1., 1., 0., 0., 0., 0., 0., 0.,\n       0., 0., 0., 1., 1., 0., 0., 0., 0., 0., 0., 1., 0., 0., 0., 1., 1.,\n       1., 0., 0., 1., 0., 1., 0., 1., 0., 0., 1., 0., 0., 0., 0., 0., 0.,\n       0., 1., 1., 1., 1., 0., 0., 0., 0., 0., 1., 0., 0., 0., 1., 1., 0.,\n       0., 0., 0., 0., 0., 0., 0., 0., 0., 0., 0., 0., 0., 0., 1., 1., 0.,\n       1., 1., 0., 1., 1., 0., 0., 0., 0., 0., 0., 1., 0., 1., 0., 0., 1.,\n       0., 0., 0., 0., 0., 0., 0., 0., 0., 0., 0., 1., 0., 1., 0., 0., 0.,\n       0., 0., 1., 1., 1., 0., 0., 0., 1., 0., 0., 0., 0., 1., 1., 0., 0.,\n       0., 0., 1., 0., 0., 0., 0., 0., 0., 1., 1., 0., 1., 1., 0., 1., 0.,\n       0., 0., 0., 0., 0., 1., 0., 1., 0., 0., 0., 0., 0., 0., 0., 0., 1.,\n       1., 0., 1., 0., 0., 0., 0., 0., 1., 1., 0., 0., 1., 0., 1., 1., 0.,\n       1., 1., 0., 0., 1., 1., 1., 1., 0., 1., 1., 0., 0., 0., 0., 1., 0.,\n       1., 1., 1., 1., 0., 1., 1., 0., 0., 0., 0., 1., 0., 0., 0., 0., 0.,\n       0., 0., 1., 1., 1., 0., 1., 0., 0., 1., 1., 1., 1., 1., 0., 0., 0.,\n       0., 0., 1., 0., 0., 0., 0., 0., 1., 0., 1., 1., 0., 1., 0., 1., 0.,\n       0., 0., 0., 1., 1., 0., 1., 0., 0., 0., 0., 1., 0., 1., 0., 0., 0.,\n       0., 1., 1., 0., 0., 0., 1., 0., 0., 0., 0., 1., 0., 1., 0., 1., 1.,\n       0., 0., 0., 0., 0., 0., 0., 1., 0., 0., 0., 0., 0., 0., 0., 0., 0.,\n       1., 0., 0., 0., 0., 0., 0., 0., 1., 0., 1., 1., 1., 1., 0., 0., 0.,\n       0., 1., 0., 0., 0., 0., 0., 0., 0., 1., 1., 0., 0., 0., 0., 0., 0.,\n       1., 0., 0., 1., 0., 0., 0., 0., 0., 1., 0., 1., 0., 1., 0., 0., 0.,\n       0., 1., 1., 1., 1., 0., 0., 1., 0., 1., 0., 0., 1., 0., 1., 1., 1.,\n       0., 1., 0., 0., 1., 1., 1., 0., 0., 0., 0., 0., 0., 1., 0., 1., 1.,\n       0., 1., 0., 1., 1., 0., 1., 1., 0., 0., 1., 0., 1., 0., 0., 0., 0.,\n       1., 0., 0., 1., 0., 0., 1., 0., 0., 0., 0., 0., 1., 1., 1., 1., 0.,\n       0., 0., 0., 1., 1., 0., 0., 0., 0., 1., 0., 0., 0., 0., 1., 1., 0.,\n       0., 0., 0., 1., 1., 0., 0., 1., 0., 1., 0., 1., 0., 0., 0., 1., 0.,\n       0., 1., 1., 0., 1., 0., 0., 1., 1., 0., 0., 1., 1., 1., 1., 0., 0.,\n       1., 0., 1., 0., 0., 1., 0., 0., 0., 1., 1., 1., 0., 0., 1., 0., 0.,\n       0., 0., 1., 0., 0., 1., 1., 1., 1., 0., 1., 0., 0., 0., 0., 1., 0.,\n       0., 0., 0., 0., 0., 0., 0., 1., 0., 0., 1., 0., 0., 0., 0., 0., 0.,\n       1., 0., 0., 0., 0., 0., 0., 0., 1., 1., 0., 1., 0., 0., 1., 1., 1.,\n       1., 1., 0., 0., 0., 0., 0., 0., 0., 1., 1., 0., 1., 0., 1., 0., 0.,\n       1., 0., 0., 0., 1., 0., 0., 1., 1., 0., 0., 1., 0., 1., 1., 1., 0.,\n       0., 0., 0., 0., 0., 0., 1., 1., 1., 1., 1., 0., 1., 0., 0., 0., 1.,\n       0., 0., 1., 0., 0., 0., 0., 1., 0., 1., 0., 1., 1., 0., 0., 1., 1.,\n       0., 1., 0., 1., 0., 0., 0., 0., 0., 0., 1., 1., 0., 0., 0., 1., 0.,\n       1., 0., 1., 0., 0., 0., 0., 0., 0., 0., 1., 0., 1., 0., 0., 0., 0.,\n       0., 1.])"
     },
     "execution_count": 12,
     "metadata": {},
     "output_type": "execute_result"
    }
   ],
   "source": [
    "breast_dataset.y"
   ],
   "metadata": {
    "collapsed": false,
    "pycharm": {
     "name": "#%%\n"
    }
   }
  },
  {
   "cell_type": "code",
   "execution_count": 17,
   "outputs": [
    {
     "name": "stdout",
     "output_type": "stream",
     "text": [
      "Features:  None\n",
      "Label: y\n"
     ]
    }
   ],
   "source": [
    "print('Features: ', breast_dataset.features_names)\n",
    "print('Label:', breast_dataset.label_names)"
   ],
   "metadata": {
    "collapsed": false,
    "pycharm": {
     "name": "#%%\n"
    }
   }
  },
  {
   "cell_type": "code",
   "execution_count": 19,
   "outputs": [],
   "source": [
    "# write the same fila with a different name\n",
    "from si.io_package.data_file import write_data_file\n",
    "write_data_file(r'C:/Users/Ana/Documents/GitHub/mbioinf-sib/datasets/breast-bin_tabular.tsv', breast_dataset, sep='\\t', label=True)"
   ],
   "metadata": {
    "collapsed": false,
    "pycharm": {
     "name": "#%%\n"
    }
   }
  },
  {
   "cell_type": "code",
   "execution_count": 20,
   "outputs": [],
   "source": [
    "from si.io_package.csv_file import read_csv\n",
    "\n",
    "# read iris dataset from data file\n",
    "filename = r'C:\\Users\\Ana\\Documents\\GitHub\\mbioinf-sib\\datasets\\iris.csv'\n",
    "iris_dataset = read_csv(filename, sep=',', features=True, label=True)"
   ],
   "metadata": {
    "collapsed": false,
    "pycharm": {
     "name": "#%%\n"
    }
   }
  },
  {
   "cell_type": "code",
   "execution_count": 21,
   "outputs": [
    {
     "data": {
      "text/plain": "       mean  median  variance  min  max\n0  5.843333    5.80  0.681122  4.3  7.9\n1  3.054000    3.00  0.186751  2.0  4.4\n2  3.758667    4.35  3.092425  1.0  6.9\n3  1.198667    1.30  0.578532  0.1  2.5",
      "text/html": "<div>\n<style scoped>\n    .dataframe tbody tr th:only-of-type {\n        vertical-align: middle;\n    }\n\n    .dataframe tbody tr th {\n        vertical-align: top;\n    }\n\n    .dataframe thead th {\n        text-align: right;\n    }\n</style>\n<table border=\"1\" class=\"dataframe\">\n  <thead>\n    <tr style=\"text-align: right;\">\n      <th></th>\n      <th>mean</th>\n      <th>median</th>\n      <th>variance</th>\n      <th>min</th>\n      <th>max</th>\n    </tr>\n  </thead>\n  <tbody>\n    <tr>\n      <th>0</th>\n      <td>5.843333</td>\n      <td>5.80</td>\n      <td>0.681122</td>\n      <td>4.3</td>\n      <td>7.9</td>\n    </tr>\n    <tr>\n      <th>1</th>\n      <td>3.054000</td>\n      <td>3.00</td>\n      <td>0.186751</td>\n      <td>2.0</td>\n      <td>4.4</td>\n    </tr>\n    <tr>\n      <th>2</th>\n      <td>3.758667</td>\n      <td>4.35</td>\n      <td>3.092425</td>\n      <td>1.0</td>\n      <td>6.9</td>\n    </tr>\n    <tr>\n      <th>3</th>\n      <td>1.198667</td>\n      <td>1.30</td>\n      <td>0.578532</td>\n      <td>0.1</td>\n      <td>2.5</td>\n    </tr>\n  </tbody>\n</table>\n</div>"
     },
     "execution_count": 21,
     "metadata": {},
     "output_type": "execute_result"
    }
   ],
   "source": [
    "iris_dataset.summary()"
   ],
   "metadata": {
    "collapsed": false,
    "pycharm": {
     "name": "#%%\n"
    }
   }
  },
  {
   "cell_type": "code",
   "execution_count": 22,
   "outputs": [
    {
     "data": {
      "text/plain": "array(['Iris-setosa', 'Iris-versicolor', 'Iris-virginica'], dtype=object)"
     },
     "execution_count": 22,
     "metadata": {},
     "output_type": "execute_result"
    }
   ],
   "source": [
    "iris_dataset.get_classes()"
   ],
   "metadata": {
    "collapsed": false,
    "pycharm": {
     "name": "#%%\n"
    }
   }
  },
  {
   "cell_type": "code",
   "execution_count": 23,
   "outputs": [],
   "source": [
    "# write the same file with a different name\n",
    "from si.io_package.csv_file import write_csv\n",
    "write_csv(r'C:/Users/Ana/Documents/GitHub/mbioinf-sib/datasets/iris_tabular.tsv', iris_dataset, sep='\\t', features=True, label=True)"
   ],
   "metadata": {
    "collapsed": false,
    "pycharm": {
     "name": "#%%\n"
    }
   }
  }
 ],
 "metadata": {
  "kernelspec": {
   "display_name": "Python 3",
   "language": "python",
   "name": "python3"
  },
  "language_info": {
   "codemirror_mode": {
    "name": "ipython",
    "version": 2
   },
   "file_extension": ".py",
   "mimetype": "text/x-python",
   "name": "python",
   "nbconvert_exporter": "python",
   "pygments_lexer": "ipython2",
   "version": "2.7.6"
  }
 },
 "nbformat": 4,
 "nbformat_minor": 0
}