{
 "cells": [
  {
   "cell_type": "markdown",
   "source": [
    "# 6. Testing the Cross Validation and Grid Search modules"
   ],
   "metadata": {
    "collapsed": false,
    "pycharm": {
     "name": "#%% md\n"
    }
   }
  },
  {
   "cell_type": "code",
   "execution_count": 1,
   "metadata": {
    "collapsed": true,
    "pycharm": {
     "name": "#%%\n"
    }
   },
   "outputs": [],
   "source": [
    "# imports\n",
    "from si.io_package.csv_file import read_csv\n",
    "from si.linear_model.logistic_regression import LogisticRegression\n",
    "from si.model_selection.cross_validate import cross_validate\n",
    "from si.model_selection.grid_search import grid_search_cv"
   ]
  },
  {
   "cell_type": "code",
   "execution_count": 2,
   "outputs": [],
   "source": [
    "# datasets\n",
    "filename_bb = \"C:/Users/Ana/Documents/GitHub/mbioinf-sib/datasets/breast-bin.csv\"\n",
    "breast_bin_dataset = read_csv(filename_bb, sep=\",\", features=False, label=True)"
   ],
   "metadata": {
    "collapsed": false,
    "pycharm": {
     "name": "#%%\n"
    }
   }
  },
  {
   "cell_type": "code",
   "execution_count": 3,
   "outputs": [
    {
     "data": {
      "text/plain": "array([[ 0.20885295, -0.69912815, -0.74242297, ..., -1.0000359 ,\n        -0.61132565, -0.34418721],\n       [-0.8578253 , -0.69912815, -0.74242297, ..., -0.58991542,\n        -0.61132565, -0.34418721],\n       [-0.8578253 , -0.69912815, -0.74242297, ..., -0.17979494,\n        -0.61132565, -0.34418721],\n       ...,\n       [ 0.20885295, -0.37139715, -0.40592217, ..., -1.0000359 ,\n        -0.61132565,  0.23892607],\n       [-0.8578253 , -0.04366616, -0.40592217, ..., -0.17979494,\n        -0.61132565, -0.34418721],\n       [ 0.91997179,  0.93952681,  0.94008103, ...,  1.46068699,\n        -0.61132565, -0.34418721]])"
     },
     "execution_count": 3,
     "metadata": {},
     "output_type": "execute_result"
    }
   ],
   "source": [
    "# standardization\n",
    "from sklearn.preprocessing import StandardScaler\n",
    "breast_bin_dataset.X = StandardScaler().fit_transform(breast_bin_dataset.X)\n",
    "breast_bin_dataset.X"
   ],
   "metadata": {
    "collapsed": false,
    "pycharm": {
     "name": "#%%\n"
    }
   }
  },
  {
   "cell_type": "code",
   "execution_count": 4,
   "outputs": [
    {
     "data": {
      "text/plain": "{'seeds': [121, 372, 496, 846, 937],\n 'train': [0.964221824686941,\n  0.9677996422182469,\n  0.9713774597495528,\n  0.964221824686941,\n  0.9713774597495528],\n 'test': [0.9784172661870504,\n  0.9640287769784173,\n  0.9496402877697842,\n  0.9784172661870504,\n  0.9496402877697842]}"
     },
     "execution_count": 4,
     "metadata": {},
     "output_type": "execute_result"
    }
   ],
   "source": [
    "# cross validation\n",
    "lg = LogisticRegression()\n",
    "scores = cross_validate(lg, breast_bin_dataset, cv=5)\n",
    "scores"
   ],
   "metadata": {
    "collapsed": false,
    "pycharm": {
     "name": "#%%\n"
    }
   }
  },
  {
   "cell_type": "code",
   "execution_count": 5,
   "outputs": [
    {
     "data": {
      "text/plain": "[{'seeds': [632, 813, 27],\n  'train': [0.962432915921288, 0.960644007155635, 0.962432915921288],\n  'test': [0.9856115107913669, 0.9928057553956835, 0.9856115107913669],\n  'parameters': {'l2_penalty': 1, 'alpha': 0.001, 'max_iter': 1000}},\n {'seeds': [779, 898, 672],\n  'train': [0.9677996422182469, 0.9660107334525939, 0.9695885509838998],\n  'test': [0.9640287769784173, 0.9712230215827338, 0.9568345323741008],\n  'parameters': {'l2_penalty': 1, 'alpha': 0.001, 'max_iter': 2000}},\n {'seeds': [986, 358, 662],\n  'train': [0.964221824686941, 0.964221824686941, 0.9677996422182469],\n  'test': [0.9856115107913669, 0.9784172661870504, 0.9640287769784173],\n  'parameters': {'l2_penalty': 1, 'alpha': 0.001, 'max_iter': 3000}},\n {'seeds': [509, 441, 471],\n  'train': [0.9731663685152058, 0.9677996422182469, 0.9731663685152058],\n  'test': [0.9424460431654677, 0.9640287769784173, 0.9424460431654677],\n  'parameters': {'l2_penalty': 1, 'alpha': 0.001, 'max_iter': 4000}},\n {'seeds': [325, 200, 928],\n  'train': [0.962432915921288, 0.964221824686941, 0.9660107334525939],\n  'test': [0.9856115107913669, 0.9784172661870504, 0.9712230215827338],\n  'parameters': {'l2_penalty': 1, 'alpha': 0.001, 'max_iter': 5000}},\n {'seeds': [21, 11, 653],\n  'train': [0.962432915921288, 0.964221824686941, 0.9731663685152058],\n  'test': [0.9856115107913669, 0.9784172661870504, 0.9424460431654677],\n  'parameters': {'l2_penalty': 1, 'alpha': 0.001, 'max_iter': 6000}},\n {'seeds': [805, 353, 980],\n  'train': [0.960644007155635, 0.9677996422182469, 0.960644007155635],\n  'test': [0.9928057553956835, 0.9640287769784173, 0.9928057553956835],\n  'parameters': {'l2_penalty': 1, 'alpha': 0.0001, 'max_iter': 1000}},\n {'seeds': [292, 701, 651],\n  'train': [0.9713774597495528, 0.962432915921288, 0.9695885509838998],\n  'test': [0.9496402877697842, 0.9856115107913669, 0.9568345323741008],\n  'parameters': {'l2_penalty': 1, 'alpha': 0.0001, 'max_iter': 2000}},\n {'seeds': [961, 45, 612],\n  'train': [0.960644007155635, 0.9713774597495528, 0.964221824686941],\n  'test': [0.9928057553956835, 0.9496402877697842, 0.9784172661870504],\n  'parameters': {'l2_penalty': 1, 'alpha': 0.0001, 'max_iter': 3000}},\n {'seeds': [421, 700, 555],\n  'train': [0.9731663685152058, 0.964221824686941, 0.9695885509838998],\n  'test': [0.9424460431654677, 0.9784172661870504, 0.9568345323741008],\n  'parameters': {'l2_penalty': 1, 'alpha': 0.0001, 'max_iter': 4000}},\n {'seeds': [572, 70, 768],\n  'train': [0.9731663685152058, 0.964221824686941, 0.964221824686941],\n  'test': [0.9424460431654677, 0.9784172661870504, 0.9784172661870504],\n  'parameters': {'l2_penalty': 1, 'alpha': 0.0001, 'max_iter': 5000}},\n {'seeds': [128, 827, 331],\n  'train': [0.9695885509838998, 0.9695885509838998, 0.964221824686941],\n  'test': [0.9568345323741008, 0.9568345323741008, 0.9784172661870504],\n  'parameters': {'l2_penalty': 1, 'alpha': 0.0001, 'max_iter': 6000}},\n {'seeds': [433, 141, 550],\n  'train': [0.960644007155635, 0.962432915921288, 0.9677996422182469],\n  'test': [0.9928057553956835, 0.9856115107913669, 0.9640287769784173],\n  'parameters': {'l2_penalty': 1, 'alpha': 1e-05, 'max_iter': 1000}},\n {'seeds': [965, 116, 45],\n  'train': [0.9695885509838998, 0.9677996422182469, 0.9713774597495528],\n  'test': [0.9568345323741008, 0.9640287769784173, 0.9496402877697842],\n  'parameters': {'l2_penalty': 1, 'alpha': 1e-05, 'max_iter': 2000}},\n {'seeds': [612, 421, 700],\n  'train': [0.964221824686941, 0.9731663685152058, 0.964221824686941],\n  'test': [0.9784172661870504, 0.9424460431654677, 0.9784172661870504],\n  'parameters': {'l2_penalty': 1, 'alpha': 1e-05, 'max_iter': 3000}},\n {'seeds': [555, 572, 70],\n  'train': [0.9695885509838998, 0.9731663685152058, 0.964221824686941],\n  'test': [0.9568345323741008, 0.9424460431654677, 0.9784172661870504],\n  'parameters': {'l2_penalty': 1, 'alpha': 1e-05, 'max_iter': 4000}},\n {'seeds': [768, 128, 827],\n  'train': [0.964221824686941, 0.9695885509838998, 0.9695885509838998],\n  'test': [0.9784172661870504, 0.9568345323741008, 0.9568345323741008],\n  'parameters': {'l2_penalty': 1, 'alpha': 1e-05, 'max_iter': 5000}},\n {'seeds': [331, 433, 141],\n  'train': [0.964221824686941, 0.960644007155635, 0.962432915921288],\n  'test': [0.9784172661870504, 0.9928057553956835, 0.9856115107913669],\n  'parameters': {'l2_penalty': 1, 'alpha': 1e-05, 'max_iter': 6000}},\n {'seeds': [550, 965, 116],\n  'train': [0.9677996422182469, 0.9695885509838998, 0.9677996422182469],\n  'test': [0.9640287769784173, 0.9568345323741008, 0.9640287769784173],\n  'parameters': {'l2_penalty': 10, 'alpha': 0.001, 'max_iter': 1000}},\n {'seeds': [45, 612, 421],\n  'train': [0.9713774597495528, 0.964221824686941, 0.9731663685152058],\n  'test': [0.9496402877697842, 0.9784172661870504, 0.9424460431654677],\n  'parameters': {'l2_penalty': 10, 'alpha': 0.001, 'max_iter': 2000}},\n {'seeds': [700, 555, 572],\n  'train': [0.9660107334525939, 0.9695885509838998, 0.9749552772808586],\n  'test': [0.9784172661870504, 0.9568345323741008, 0.9424460431654677],\n  'parameters': {'l2_penalty': 10, 'alpha': 0.001, 'max_iter': 3000}},\n {'seeds': [70, 768, 128],\n  'train': [0.9660107334525939, 0.964221824686941, 0.9695885509838998],\n  'test': [0.9784172661870504, 0.9784172661870504, 0.9568345323741008],\n  'parameters': {'l2_penalty': 10, 'alpha': 0.001, 'max_iter': 4000}},\n {'seeds': [827, 331, 433],\n  'train': [0.9695885509838998, 0.964221824686941, 0.960644007155635],\n  'test': [0.9568345323741008, 0.9784172661870504, 0.9928057553956835],\n  'parameters': {'l2_penalty': 10, 'alpha': 0.001, 'max_iter': 5000}},\n {'seeds': [141, 550, 965],\n  'train': [0.962432915921288, 0.9677996422182469, 0.9695885509838998],\n  'test': [0.9856115107913669, 0.9640287769784173, 0.9568345323741008],\n  'parameters': {'l2_penalty': 10, 'alpha': 0.001, 'max_iter': 6000}},\n {'seeds': [116, 45, 612],\n  'train': [0.9677996422182469, 0.9713774597495528, 0.964221824686941],\n  'test': [0.9640287769784173, 0.9496402877697842, 0.9784172661870504],\n  'parameters': {'l2_penalty': 10, 'alpha': 0.0001, 'max_iter': 1000}},\n {'seeds': [421, 700, 555],\n  'train': [0.9731663685152058, 0.964221824686941, 0.9695885509838998],\n  'test': [0.9424460431654677, 0.9784172661870504, 0.9568345323741008],\n  'parameters': {'l2_penalty': 10, 'alpha': 0.0001, 'max_iter': 2000}},\n {'seeds': [572, 70, 768],\n  'train': [0.9731663685152058, 0.964221824686941, 0.964221824686941],\n  'test': [0.9424460431654677, 0.9784172661870504, 0.9784172661870504],\n  'parameters': {'l2_penalty': 10, 'alpha': 0.0001, 'max_iter': 3000}},\n {'seeds': [128, 827, 331],\n  'train': [0.9695885509838998, 0.9695885509838998, 0.964221824686941],\n  'test': [0.9568345323741008, 0.9568345323741008, 0.9784172661870504],\n  'parameters': {'l2_penalty': 10, 'alpha': 0.0001, 'max_iter': 4000}},\n {'seeds': [433, 141, 550],\n  'train': [0.960644007155635, 0.962432915921288, 0.9677996422182469],\n  'test': [0.9928057553956835, 0.9856115107913669, 0.9640287769784173],\n  'parameters': {'l2_penalty': 10, 'alpha': 0.0001, 'max_iter': 5000}},\n {'seeds': [965, 116, 45],\n  'train': [0.9695885509838998, 0.9677996422182469, 0.9713774597495528],\n  'test': [0.9568345323741008, 0.9640287769784173, 0.9496402877697842],\n  'parameters': {'l2_penalty': 10, 'alpha': 0.0001, 'max_iter': 6000}},\n {'seeds': [612, 421, 700],\n  'train': [0.964221824686941, 0.9731663685152058, 0.964221824686941],\n  'test': [0.9784172661870504, 0.9424460431654677, 0.9784172661870504],\n  'parameters': {'l2_penalty': 10, 'alpha': 1e-05, 'max_iter': 1000}},\n {'seeds': [555, 572, 70],\n  'train': [0.9695885509838998, 0.9731663685152058, 0.964221824686941],\n  'test': [0.9568345323741008, 0.9424460431654677, 0.9784172661870504],\n  'parameters': {'l2_penalty': 10, 'alpha': 1e-05, 'max_iter': 2000}},\n {'seeds': [768, 128, 827],\n  'train': [0.964221824686941, 0.9695885509838998, 0.9695885509838998],\n  'test': [0.9784172661870504, 0.9568345323741008, 0.9568345323741008],\n  'parameters': {'l2_penalty': 10, 'alpha': 1e-05, 'max_iter': 3000}},\n {'seeds': [331, 433, 141],\n  'train': [0.964221824686941, 0.960644007155635, 0.962432915921288],\n  'test': [0.9784172661870504, 0.9928057553956835, 0.9856115107913669],\n  'parameters': {'l2_penalty': 10, 'alpha': 1e-05, 'max_iter': 4000}},\n {'seeds': [550, 965, 116],\n  'train': [0.9677996422182469, 0.9695885509838998, 0.9677996422182469],\n  'test': [0.9640287769784173, 0.9568345323741008, 0.9640287769784173],\n  'parameters': {'l2_penalty': 10, 'alpha': 1e-05, 'max_iter': 5000}},\n {'seeds': [45, 612, 421],\n  'train': [0.9713774597495528, 0.964221824686941, 0.9731663685152058],\n  'test': [0.9496402877697842, 0.9784172661870504, 0.9424460431654677],\n  'parameters': {'l2_penalty': 10, 'alpha': 1e-05, 'max_iter': 6000}}]"
     },
     "execution_count": 5,
     "metadata": {},
     "output_type": "execute_result"
    }
   ],
   "source": [
    "# grid search cv\n",
    "\n",
    "lg = LogisticRegression()\n",
    "\n",
    "# parameter grid\n",
    "parameter_grid = {\n",
    "    'l2_penalty': (1, 10),\n",
    "    'alpha': (0.001, 0.0001, 0.00001),\n",
    "    'max_iter': (1000, 2000, 3000, 4000, 5000, 6000)\n",
    "}\n",
    "\n",
    "# cross validate the model\n",
    "scores = grid_search_cv(lg,\n",
    "                        breast_bin_dataset,\n",
    "                        parameter_grid=parameter_grid,\n",
    "                        cv=3)\n",
    "\n",
    "scores"
   ],
   "metadata": {
    "collapsed": false,
    "pycharm": {
     "name": "#%%\n"
    }
   }
  },
  {
   "cell_type": "code",
   "execution_count": 6,
   "outputs": [
    {
     "data": {
      "text/plain": "     l2_penalty    alpha  max_iter     train      test  cv\n0             1  0.00100      1000  0.962433  0.985612   0\n1             1  0.00100      1000  0.960644  0.992806   1\n2             1  0.00100      1000  0.962433  0.985612   2\n3             1  0.00100      2000  0.967800  0.964029   0\n4             1  0.00100      2000  0.966011  0.971223   1\n..          ...      ...       ...       ...       ...  ..\n103          10  0.00001      5000  0.969589  0.956835   1\n104          10  0.00001      5000  0.967800  0.964029   2\n105          10  0.00001      6000  0.971377  0.949640   0\n106          10  0.00001      6000  0.964222  0.978417   1\n107          10  0.00001      6000  0.973166  0.942446   2\n\n[108 rows x 6 columns]",
      "text/html": "<div>\n<style scoped>\n    .dataframe tbody tr th:only-of-type {\n        vertical-align: middle;\n    }\n\n    .dataframe tbody tr th {\n        vertical-align: top;\n    }\n\n    .dataframe thead th {\n        text-align: right;\n    }\n</style>\n<table border=\"1\" class=\"dataframe\">\n  <thead>\n    <tr style=\"text-align: right;\">\n      <th></th>\n      <th>l2_penalty</th>\n      <th>alpha</th>\n      <th>max_iter</th>\n      <th>train</th>\n      <th>test</th>\n      <th>cv</th>\n    </tr>\n  </thead>\n  <tbody>\n    <tr>\n      <th>0</th>\n      <td>1</td>\n      <td>0.00100</td>\n      <td>1000</td>\n      <td>0.962433</td>\n      <td>0.985612</td>\n      <td>0</td>\n    </tr>\n    <tr>\n      <th>1</th>\n      <td>1</td>\n      <td>0.00100</td>\n      <td>1000</td>\n      <td>0.960644</td>\n      <td>0.992806</td>\n      <td>1</td>\n    </tr>\n    <tr>\n      <th>2</th>\n      <td>1</td>\n      <td>0.00100</td>\n      <td>1000</td>\n      <td>0.962433</td>\n      <td>0.985612</td>\n      <td>2</td>\n    </tr>\n    <tr>\n      <th>3</th>\n      <td>1</td>\n      <td>0.00100</td>\n      <td>2000</td>\n      <td>0.967800</td>\n      <td>0.964029</td>\n      <td>0</td>\n    </tr>\n    <tr>\n      <th>4</th>\n      <td>1</td>\n      <td>0.00100</td>\n      <td>2000</td>\n      <td>0.966011</td>\n      <td>0.971223</td>\n      <td>1</td>\n    </tr>\n    <tr>\n      <th>...</th>\n      <td>...</td>\n      <td>...</td>\n      <td>...</td>\n      <td>...</td>\n      <td>...</td>\n      <td>...</td>\n    </tr>\n    <tr>\n      <th>103</th>\n      <td>10</td>\n      <td>0.00001</td>\n      <td>5000</td>\n      <td>0.969589</td>\n      <td>0.956835</td>\n      <td>1</td>\n    </tr>\n    <tr>\n      <th>104</th>\n      <td>10</td>\n      <td>0.00001</td>\n      <td>5000</td>\n      <td>0.967800</td>\n      <td>0.964029</td>\n      <td>2</td>\n    </tr>\n    <tr>\n      <th>105</th>\n      <td>10</td>\n      <td>0.00001</td>\n      <td>6000</td>\n      <td>0.971377</td>\n      <td>0.949640</td>\n      <td>0</td>\n    </tr>\n    <tr>\n      <th>106</th>\n      <td>10</td>\n      <td>0.00001</td>\n      <td>6000</td>\n      <td>0.964222</td>\n      <td>0.978417</td>\n      <td>1</td>\n    </tr>\n    <tr>\n      <th>107</th>\n      <td>10</td>\n      <td>0.00001</td>\n      <td>6000</td>\n      <td>0.973166</td>\n      <td>0.942446</td>\n      <td>2</td>\n    </tr>\n  </tbody>\n</table>\n<p>108 rows × 6 columns</p>\n</div>"
     },
     "execution_count": 6,
     "metadata": {},
     "output_type": "execute_result"
    }
   ],
   "source": [
    "import pandas as pd\n",
    "cols = list(scores[0]['parameters'].keys())\n",
    "cols = cols + ['train', 'test', 'cv']\n",
    "\n",
    "dict_df = {col: [] for col in cols}\n",
    "for score in scores:\n",
    "    for i, (train_val, test_val) in enumerate(zip(score['train'], score['test'])):\n",
    "        dict_df['cv'].append(i)\n",
    "        dict_df['train'].append(train_val)\n",
    "        dict_df['test'].append(test_val)\n",
    "        for p_key, p_val in score['parameters'].items():\n",
    "            dict_df[p_key].append(p_val)\n",
    "\n",
    "df = pd.DataFrame(dict_df)\n",
    "df"
   ],
   "metadata": {
    "collapsed": false,
    "pycharm": {
     "name": "#%%\n"
    }
   }
  }
 ],
 "metadata": {
  "kernelspec": {
   "display_name": "Python 3",
   "language": "python",
   "name": "python3"
  },
  "language_info": {
   "codemirror_mode": {
    "name": "ipython",
    "version": 2
   },
   "file_extension": ".py",
   "mimetype": "text/x-python",
   "name": "python",
   "nbconvert_exporter": "python",
   "pygments_lexer": "ipython2",
   "version": "2.7.6"
  }
 },
 "nbformat": 4,
 "nbformat_minor": 0
}