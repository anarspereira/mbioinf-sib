{
 "cells": [
  {
   "cell_type": "markdown",
   "source": [
    "# 2. Testing feature selection module"
   ],
   "metadata": {
    "collapsed": false,
    "pycharm": {
     "name": "#%% md\n"
    }
   }
  },
  {
   "cell_type": "code",
   "execution_count": 19,
   "metadata": {
    "collapsed": true,
    "pycharm": {
     "name": "#%%\n"
    }
   },
   "outputs": [],
   "source": [
    "from si.io_package.csv_file import read_csv\n",
    "from si.data.dataset_module import Dataset\n",
    "from si.feature_selection.variance_threshold import VarianceThreshold\n",
    "from si.feature_selection.select_k_best import SelectKBest\n",
    "from si.feature_selection.select_percentile import SelectPercentile\n",
    "from si.statistics.f_classification import f_classification"
   ]
  },
  {
   "cell_type": "code",
   "execution_count": 6,
   "outputs": [],
   "source": [
    "# datasets\n",
    "filename = r'C:\\Users\\Ana\\Documents\\GitHub\\mbioinf-sib\\datasets\\iris.csv'\n",
    "iris_dataset = read_csv(filename, features=True, label=True)\n",
    "\n",
    "random_dataset = Dataset.from_random(100, 10)\n",
    "random_dataset.X[:, 2] = 0"
   ],
   "metadata": {
    "collapsed": false,
    "pycharm": {
     "name": "#%%\n"
    }
   }
  },
  {
   "cell_type": "code",
   "execution_count": 7,
   "outputs": [
    {
     "data": {
      "text/plain": "(150, 1, 4)"
     },
     "execution_count": 7,
     "metadata": {},
     "output_type": "execute_result"
    }
   ],
   "source": [
    "# Variance Threshold\n",
    "var_threshold = VarianceThreshold(0.5)\n",
    "var_threshold.fit(iris_dataset)\n",
    "transformed_dataset = var_threshold.transform(iris_dataset)\n",
    "transformed_dataset.shape()"
   ],
   "metadata": {
    "collapsed": false,
    "pycharm": {
     "name": "#%%\n"
    }
   }
  },
  {
   "cell_type": "code",
   "execution_count": 8,
   "outputs": [
    {
     "data": {
      "text/plain": "array([[[5.1, 3.5, 1.4, 0.2]],\n\n       [[4.9, 3. , 1.4, 0.2]],\n\n       [[4.7, 3.2, 1.3, 0.2]],\n\n       [[4.6, 3.1, 1.5, 0.2]],\n\n       [[5. , 3.6, 1.4, 0.2]],\n\n       [[5.4, 3.9, 1.7, 0.4]],\n\n       [[4.6, 3.4, 1.4, 0.3]],\n\n       [[5. , 3.4, 1.5, 0.2]],\n\n       [[4.4, 2.9, 1.4, 0.2]],\n\n       [[4.9, 3.1, 1.5, 0.1]],\n\n       [[5.4, 3.7, 1.5, 0.2]],\n\n       [[4.8, 3.4, 1.6, 0.2]],\n\n       [[4.8, 3. , 1.4, 0.1]],\n\n       [[4.3, 3. , 1.1, 0.1]],\n\n       [[5.8, 4. , 1.2, 0.2]],\n\n       [[5.7, 4.4, 1.5, 0.4]],\n\n       [[5.4, 3.9, 1.3, 0.4]],\n\n       [[5.1, 3.5, 1.4, 0.3]],\n\n       [[5.7, 3.8, 1.7, 0.3]],\n\n       [[5.1, 3.8, 1.5, 0.3]],\n\n       [[5.4, 3.4, 1.7, 0.2]],\n\n       [[5.1, 3.7, 1.5, 0.4]],\n\n       [[4.6, 3.6, 1. , 0.2]],\n\n       [[5.1, 3.3, 1.7, 0.5]],\n\n       [[4.8, 3.4, 1.9, 0.2]],\n\n       [[5. , 3. , 1.6, 0.2]],\n\n       [[5. , 3.4, 1.6, 0.4]],\n\n       [[5.2, 3.5, 1.5, 0.2]],\n\n       [[5.2, 3.4, 1.4, 0.2]],\n\n       [[4.7, 3.2, 1.6, 0.2]],\n\n       [[4.8, 3.1, 1.6, 0.2]],\n\n       [[5.4, 3.4, 1.5, 0.4]],\n\n       [[5.2, 4.1, 1.5, 0.1]],\n\n       [[5.5, 4.2, 1.4, 0.2]],\n\n       [[4.9, 3.1, 1.5, 0.1]],\n\n       [[5. , 3.2, 1.2, 0.2]],\n\n       [[5.5, 3.5, 1.3, 0.2]],\n\n       [[4.9, 3.1, 1.5, 0.1]],\n\n       [[4.4, 3. , 1.3, 0.2]],\n\n       [[5.1, 3.4, 1.5, 0.2]],\n\n       [[5. , 3.5, 1.3, 0.3]],\n\n       [[4.5, 2.3, 1.3, 0.3]],\n\n       [[4.4, 3.2, 1.3, 0.2]],\n\n       [[5. , 3.5, 1.6, 0.6]],\n\n       [[5.1, 3.8, 1.9, 0.4]],\n\n       [[4.8, 3. , 1.4, 0.3]],\n\n       [[5.1, 3.8, 1.6, 0.2]],\n\n       [[4.6, 3.2, 1.4, 0.2]],\n\n       [[5.3, 3.7, 1.5, 0.2]],\n\n       [[5. , 3.3, 1.4, 0.2]],\n\n       [[7. , 3.2, 4.7, 1.4]],\n\n       [[6.4, 3.2, 4.5, 1.5]],\n\n       [[6.9, 3.1, 4.9, 1.5]],\n\n       [[5.5, 2.3, 4. , 1.3]],\n\n       [[6.5, 2.8, 4.6, 1.5]],\n\n       [[5.7, 2.8, 4.5, 1.3]],\n\n       [[6.3, 3.3, 4.7, 1.6]],\n\n       [[4.9, 2.4, 3.3, 1. ]],\n\n       [[6.6, 2.9, 4.6, 1.3]],\n\n       [[5.2, 2.7, 3.9, 1.4]],\n\n       [[5. , 2. , 3.5, 1. ]],\n\n       [[5.9, 3. , 4.2, 1.5]],\n\n       [[6. , 2.2, 4. , 1. ]],\n\n       [[6.1, 2.9, 4.7, 1.4]],\n\n       [[5.6, 2.9, 3.6, 1.3]],\n\n       [[6.7, 3.1, 4.4, 1.4]],\n\n       [[5.6, 3. , 4.5, 1.5]],\n\n       [[5.8, 2.7, 4.1, 1. ]],\n\n       [[6.2, 2.2, 4.5, 1.5]],\n\n       [[5.6, 2.5, 3.9, 1.1]],\n\n       [[5.9, 3.2, 4.8, 1.8]],\n\n       [[6.1, 2.8, 4. , 1.3]],\n\n       [[6.3, 2.5, 4.9, 1.5]],\n\n       [[6.1, 2.8, 4.7, 1.2]],\n\n       [[6.4, 2.9, 4.3, 1.3]],\n\n       [[6.6, 3. , 4.4, 1.4]],\n\n       [[6.8, 2.8, 4.8, 1.4]],\n\n       [[6.7, 3. , 5. , 1.7]],\n\n       [[6. , 2.9, 4.5, 1.5]],\n\n       [[5.7, 2.6, 3.5, 1. ]],\n\n       [[5.5, 2.4, 3.8, 1.1]],\n\n       [[5.5, 2.4, 3.7, 1. ]],\n\n       [[5.8, 2.7, 3.9, 1.2]],\n\n       [[6. , 2.7, 5.1, 1.6]],\n\n       [[5.4, 3. , 4.5, 1.5]],\n\n       [[6. , 3.4, 4.5, 1.6]],\n\n       [[6.7, 3.1, 4.7, 1.5]],\n\n       [[6.3, 2.3, 4.4, 1.3]],\n\n       [[5.6, 3. , 4.1, 1.3]],\n\n       [[5.5, 2.5, 4. , 1.3]],\n\n       [[5.5, 2.6, 4.4, 1.2]],\n\n       [[6.1, 3. , 4.6, 1.4]],\n\n       [[5.8, 2.6, 4. , 1.2]],\n\n       [[5. , 2.3, 3.3, 1. ]],\n\n       [[5.6, 2.7, 4.2, 1.3]],\n\n       [[5.7, 3. , 4.2, 1.2]],\n\n       [[5.7, 2.9, 4.2, 1.3]],\n\n       [[6.2, 2.9, 4.3, 1.3]],\n\n       [[5.1, 2.5, 3. , 1.1]],\n\n       [[5.7, 2.8, 4.1, 1.3]],\n\n       [[6.3, 3.3, 6. , 2.5]],\n\n       [[5.8, 2.7, 5.1, 1.9]],\n\n       [[7.1, 3. , 5.9, 2.1]],\n\n       [[6.3, 2.9, 5.6, 1.8]],\n\n       [[6.5, 3. , 5.8, 2.2]],\n\n       [[7.6, 3. , 6.6, 2.1]],\n\n       [[4.9, 2.5, 4.5, 1.7]],\n\n       [[7.3, 2.9, 6.3, 1.8]],\n\n       [[6.7, 2.5, 5.8, 1.8]],\n\n       [[7.2, 3.6, 6.1, 2.5]],\n\n       [[6.5, 3.2, 5.1, 2. ]],\n\n       [[6.4, 2.7, 5.3, 1.9]],\n\n       [[6.8, 3. , 5.5, 2.1]],\n\n       [[5.7, 2.5, 5. , 2. ]],\n\n       [[5.8, 2.8, 5.1, 2.4]],\n\n       [[6.4, 3.2, 5.3, 2.3]],\n\n       [[6.5, 3. , 5.5, 1.8]],\n\n       [[7.7, 3.8, 6.7, 2.2]],\n\n       [[7.7, 2.6, 6.9, 2.3]],\n\n       [[6. , 2.2, 5. , 1.5]],\n\n       [[6.9, 3.2, 5.7, 2.3]],\n\n       [[5.6, 2.8, 4.9, 2. ]],\n\n       [[7.7, 2.8, 6.7, 2. ]],\n\n       [[6.3, 2.7, 4.9, 1.8]],\n\n       [[6.7, 3.3, 5.7, 2.1]],\n\n       [[7.2, 3.2, 6. , 1.8]],\n\n       [[6.2, 2.8, 4.8, 1.8]],\n\n       [[6.1, 3. , 4.9, 1.8]],\n\n       [[6.4, 2.8, 5.6, 2.1]],\n\n       [[7.2, 3. , 5.8, 1.6]],\n\n       [[7.4, 2.8, 6.1, 1.9]],\n\n       [[7.9, 3.8, 6.4, 2. ]],\n\n       [[6.4, 2.8, 5.6, 2.2]],\n\n       [[6.3, 2.8, 5.1, 1.5]],\n\n       [[6.1, 2.6, 5.6, 1.4]],\n\n       [[7.7, 3. , 6.1, 2.3]],\n\n       [[6.3, 3.4, 5.6, 2.4]],\n\n       [[6.4, 3.1, 5.5, 1.8]],\n\n       [[6. , 3. , 4.8, 1.8]],\n\n       [[6.9, 3.1, 5.4, 2.1]],\n\n       [[6.7, 3.1, 5.6, 2.4]],\n\n       [[6.9, 3.1, 5.1, 2.3]],\n\n       [[5.8, 2.7, 5.1, 1.9]],\n\n       [[6.8, 3.2, 5.9, 2.3]],\n\n       [[6.7, 3.3, 5.7, 2.5]],\n\n       [[6.7, 3. , 5.2, 2.3]],\n\n       [[6.3, 2.5, 5. , 1.9]],\n\n       [[6.5, 3. , 5.2, 2. ]],\n\n       [[6.2, 3.4, 5.4, 2.3]],\n\n       [[5.9, 3. , 5.1, 1.8]]])"
     },
     "execution_count": 8,
     "metadata": {},
     "output_type": "execute_result"
    }
   ],
   "source": [
    "transformed_dataset.X"
   ],
   "metadata": {
    "collapsed": false,
    "pycharm": {
     "name": "#%%\n"
    }
   }
  },
  {
   "cell_type": "code",
   "execution_count": 25,
   "outputs": [
    {
     "data": {
      "text/plain": "[None]"
     },
     "execution_count": 25,
     "metadata": {},
     "output_type": "execute_result"
    }
   ],
   "source": [
    "# low variance 3rd column\n",
    "VarianceThreshold(0).fit_transform(dataset=random_dataset).features_names"
   ],
   "metadata": {
    "collapsed": false,
    "pycharm": {
     "name": "#%%\n"
    }
   }
  },
  {
   "cell_type": "code",
   "execution_count": 12,
   "outputs": [
    {
     "data": {
      "text/plain": "['petal_width', 'petal_length']"
     },
     "execution_count": 12,
     "metadata": {},
     "output_type": "execute_result"
    }
   ],
   "source": [
    "# Select K Best with f_classification\n",
    "k_best = SelectKBest(score_func=f_classification, k=2)\n",
    "k_best.fit_transform(iris_dataset).features_names"
   ],
   "metadata": {
    "collapsed": false,
    "pycharm": {
     "name": "#%%\n"
    }
   }
  },
  {
   "cell_type": "code",
   "execution_count": 21,
   "outputs": [
    {
     "data": {
      "text/plain": "['petal_length']"
     },
     "execution_count": 21,
     "metadata": {},
     "output_type": "execute_result"
    }
   ],
   "source": [
    "# Select percentile with f_classification\n",
    "percentile = SelectPercentile(score_func=f_classification, percentile=25)\n",
    "percentile.fit_transform(iris_dataset).features_names"
   ],
   "metadata": {
    "collapsed": false,
    "pycharm": {
     "name": "#%%\n"
    }
   }
  }
 ],
 "metadata": {
  "kernelspec": {
   "display_name": "Python 3",
   "language": "python",
   "name": "python3"
  },
  "language_info": {
   "codemirror_mode": {
    "name": "ipython",
    "version": 2
   },
   "file_extension": ".py",
   "mimetype": "text/x-python",
   "name": "python",
   "nbconvert_exporter": "python",
   "pygments_lexer": "ipython2",
   "version": "2.7.6"
  }
 },
 "nbformat": 4,
 "nbformat_minor": 0
}