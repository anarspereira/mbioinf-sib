{
 "cells": [
  {
   "cell_type": "markdown",
   "id": "c4858b3d",
   "metadata": {},
   "source": [
    "## Exercício "
   ]
  },
  {
   "cell_type": "markdown",
   "id": "252600b8",
   "metadata": {},
   "source": [
    "O dataset seguinte foi extraido do paper \"Deep Neural Nets as a Method for Quantitative Structure–Activity Relationships\" - https://pubs.acs.org/doi/10.1021/ci500747n\n",
    "O código seguinte carrega o dataset e faz um conjunto de operações de pré-processamento para garantir que as partições de treino e teste têm os mesmos atributos."
   ]
  },
  {
   "cell_type": "code",
   "execution_count": 4,
   "id": "acacf907",
   "metadata": {},
   "outputs": [
    {
     "name": "stdout",
     "output_type": "stream",
     "text": [
      "Tamanho original (treino e teste)\n",
      "(1815, 4188)\n",
      "(598, 2952)\n",
      "Tamanho mantendo colunas comuns no treino e teste\n",
      "(1815, 2832)\n",
      "(598, 2832)\n",
      "Tamanho final\n",
      "(1815, 2830) (1815,)\n",
      "(598, 2830) (598,)\n"
     ]
    }
   ],
   "source": [
    "## Importar o dataset: partições de treino e teste\n",
    "import pandas as pd\n",
    "dataset_training = pd.read_csv(\"HIVINT_training_disguised.csv\")\n",
    "print(\"Tamanho original (treino e teste)\")\n",
    "print(dataset_training.shape)\n",
    "\n",
    "dataset_test = pd.read_csv(\"HIVINT_test_disguised.csv\")\n",
    "print(dataset_test.shape)\n",
    "\n",
    "## determinar colunas comuns e filtrar mantendo estas\n",
    "common_cols = list(set(dataset_training.columns) & set(dataset_test.columns))\n",
    "\n",
    "dataset_training_eq, dataset_test_eq = dataset_training[common_cols], dataset_test[common_cols]\n",
    "\n",
    "print(\"Tamanho mantendo colunas comuns no treino e teste\")\n",
    "print(dataset_training_eq.shape)\n",
    "print(dataset_test_eq.shape)\n",
    "\n",
    "dataset_training_eq.set_index('MOLECULE', inplace=True)\n",
    "dataset_test_eq.set_index('MOLECULE', inplace=True)\n",
    "\n",
    "## separar output para y; manter inputs em X\n",
    "x_train, y_train = dataset_training_eq.loc[:,dataset_training_eq.columns != \"Act\"], dataset_training_eq[\"Act\"]\n",
    "x_test, y_test = dataset_test_eq.loc[:,dataset_test_eq.columns != \"Act\"], dataset_test_eq[\"Act\"]\n",
    "\n",
    "print(\"Tamanho final\")\n",
    "print(x_train.shape,y_train.shape)\n",
    "print(x_test.shape,y_test.shape)"
   ]
  },
  {
   "cell_type": "markdown",
   "id": "00b4ef75",
   "metadata": {},
   "source": [
    "Note que a variável a prever mede a atvidade do composto, sendo numérica. Os inputs foram calculados a partir de descritores dos compostos. O objetivo do exercício será obter o melhor modelo possível para este dataset."
   ]
  },
  {
   "cell_type": "code",
   "execution_count": null,
   "id": "9bf2864e",
   "metadata": {},
   "outputs": [],
   "source": []
  }
 ],
 "metadata": {
  "kernelspec": {
   "display_name": "Python 3 (ipykernel)",
   "language": "python",
   "name": "python3"
  },
  "language_info": {
   "codemirror_mode": {
    "name": "ipython",
    "version": 3
   },
   "file_extension": ".py",
   "mimetype": "text/x-python",
   "name": "python",
   "nbconvert_exporter": "python",
   "pygments_lexer": "ipython3",
   "version": "3.9.7"
  }
 },
 "nbformat": 4,
 "nbformat_minor": 5
}
