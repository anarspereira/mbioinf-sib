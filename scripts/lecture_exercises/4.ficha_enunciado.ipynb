{
 "cells": [
  {
   "cell_type": "markdown",
   "metadata": {
    "pycharm": {
     "name": "#%% md\n"
    }
   },
   "source": [
    "# Ficha de trabalho 4\n",
    "\n",
    "1- Considera o dataset cachexia. Lê os dados usando a função read_csv do pandas (dados e metadados)."
   ]
  },
  {
   "cell_type": "code",
   "execution_count": 2,
   "outputs": [],
   "source": [
    "import pandas as pd"
   ],
   "metadata": {
    "collapsed": false,
    "pycharm": {
     "name": "#%%\n"
    }
   }
  },
  {
   "cell_type": "code",
   "execution_count": 9,
   "metadata": {
    "pycharm": {
     "name": "#%%\n"
    }
   },
   "outputs": [],
   "source": [
    "data = pd.read_csv('data_cachexia.csv', sep = ',', index_col = 0)\n",
    "meta = pd.read_csv('meta_cachexia.csv', sep = ',', index_col = 0)"
   ]
  },
  {
   "cell_type": "code",
   "execution_count": 11,
   "outputs": [
    {
     "data": {
      "text/plain": "              1.6-Anhydro-beta-D-glucose  1-Methylnicotinamide  \\\nPatient ID                                                       \nPIF_178                            40.85                 65.37   \nPIF_087                            62.18                340.36   \nPIF_090                           270.43                 64.72   \nNETL_005_V1                       154.47                 52.98   \nPIF_115                            22.20                 73.70   \n...                                  ...                   ...   \nNETCR_019_V2                       35.16                 52.46   \nNETL_012_V1                        16.95                 15.80   \nNETL_012_V2                         9.39                 14.01   \nNETL_003_V1                        37.71                 18.17   \nNETL_003_V2                        38.47                 12.55   \n\n              2-Aminobutyrate  2-Hydroxyisobutyrate  2-Oxoglutarate  \\\nPatient ID                                                            \nPIF_178                 18.73                 26.05           71.52   \nPIF_087                 24.29                 41.68           67.36   \nPIF_090                 12.18                 65.37           23.81   \nNETL_005_V1            172.43                 74.44         1199.91   \nPIF_115                 15.64                 83.93           33.12   \n...                       ...                   ...             ...   \nNETCR_019_V2            13.87                 44.26           99.48   \nNETL_012_V1             10.49                 22.42           62.80   \nNETL_012_V2              5.16                 23.57           46.99   \nNETL_003_V1             26.05                 15.03           23.34   \nNETL_003_V2             15.03                 12.55           22.20   \n\n              3-Aminoisobutyrate  3-Hydroxybutyrate  3-Hydroxyisovalerate  \\\nPatient ID                                                                  \nPIF_178                  1480.30              56.83                 10.07   \nPIF_087                   116.75              43.82                 79.84   \nPIF_090                    14.30               5.64                 23.34   \nNETL_005_V1               555.57             175.91                 25.03   \nPIF_115                    29.67              76.71                 69.41   \n...                          ...                ...                   ...   \nNETCR_019_V2              208.51              11.25                  6.49   \nNETL_012_V1                10.91               6.96                  3.46   \nNETL_012_V2                13.33               3.35                  2.69   \nNETL_003_V1                33.45               6.05                  5.26   \nNETL_003_V2                21.33               5.99                  3.42   \n\n              3-Indoxylsulfate  4-Hydroxyphenylacetate  ...  Tryptophan  \\\nPatient ID                                              ...               \nPIF_178                 566.80                  120.30  ...      259.82   \nPIF_087                 368.71                  432.68  ...       83.10   \nPIF_090                 665.14                  292.95  ...       82.27   \nNETL_005_V1             411.58                  214.86  ...      235.10   \nPIF_115                 165.67                   97.51  ...      103.54   \n...                        ...                     ...  ...         ...   \nNETCR_019_V2            179.47                   82.27  ...       46.06   \nNETL_012_V1             164.02                   31.50  ...       21.33   \nNETL_012_V2              82.27                   36.97  ...       14.88   \nNETL_003_V1             105.64                   45.60  ...       17.46   \nNETL_003_V2             113.30                   22.87  ...       27.66   \n\n              Tyrosine  Uracil  Valine   Xylose  cis-Aconitate  myo-Inositol  \\\nPatient ID                                                                     \nPIF_178         290.03  111.05   86.49    72.24         237.46        135.64   \nPIF_087         167.34   46.99  109.95   192.48         333.62        376.15   \nPIF_090          60.34   31.50   59.15  2164.62         330.30         86.49   \nNETL_005_V1     323.76   30.57  102.51   125.21        1863.11        247.15   \nPIF_115         142.59   44.26  160.77   186.79         101.49        749.95   \n...                ...     ...     ...      ...            ...           ...   \nNETCR_019_V2     45.15   62.18   33.45    62.80         103.54         78.26   \nNETL_012_V1      21.33   31.19   13.20    14.30          36.23         11.59   \nNETL_012_V2      15.18   39.65   13.74    21.76          40.85         30.88   \nNETL_003_V1      29.96   13.46   14.59    36.97          90.92         17.64   \nNETL_003_V2      23.57    9.58   10.59    19.89          58.56         24.29   \n\n              trans-Aconitate  pi-Methylhistidine  tau-Methylhistidine  \nPatient ID                                                              \nPIF_178                 51.94              157.59               160.77  \nPIF_087                217.02              307.97               130.32  \nPIF_090                 58.56              145.47                83.93  \nNETL_005_V1             75.94              249.64               254.68  \nPIF_115                 98.49               84.77                79.84  \n...                       ...                 ...                  ...  \nNETCR_019_V2            18.17              871.31                84.77  \nNETL_012_V1             12.30               53.52                44.70  \nNETL_012_V2              8.50               90.02                28.22  \nNETL_003_V1             12.43              897.85                90.02  \nNETL_003_V2             13.07               83.93                27.39  \n\n[77 rows x 63 columns]",
      "text/html": "<div>\n<style scoped>\n    .dataframe tbody tr th:only-of-type {\n        vertical-align: middle;\n    }\n\n    .dataframe tbody tr th {\n        vertical-align: top;\n    }\n\n    .dataframe thead th {\n        text-align: right;\n    }\n</style>\n<table border=\"1\" class=\"dataframe\">\n  <thead>\n    <tr style=\"text-align: right;\">\n      <th></th>\n      <th>1.6-Anhydro-beta-D-glucose</th>\n      <th>1-Methylnicotinamide</th>\n      <th>2-Aminobutyrate</th>\n      <th>2-Hydroxyisobutyrate</th>\n      <th>2-Oxoglutarate</th>\n      <th>3-Aminoisobutyrate</th>\n      <th>3-Hydroxybutyrate</th>\n      <th>3-Hydroxyisovalerate</th>\n      <th>3-Indoxylsulfate</th>\n      <th>4-Hydroxyphenylacetate</th>\n      <th>...</th>\n      <th>Tryptophan</th>\n      <th>Tyrosine</th>\n      <th>Uracil</th>\n      <th>Valine</th>\n      <th>Xylose</th>\n      <th>cis-Aconitate</th>\n      <th>myo-Inositol</th>\n      <th>trans-Aconitate</th>\n      <th>pi-Methylhistidine</th>\n      <th>tau-Methylhistidine</th>\n    </tr>\n    <tr>\n      <th>Patient ID</th>\n      <th></th>\n      <th></th>\n      <th></th>\n      <th></th>\n      <th></th>\n      <th></th>\n      <th></th>\n      <th></th>\n      <th></th>\n      <th></th>\n      <th></th>\n      <th></th>\n      <th></th>\n      <th></th>\n      <th></th>\n      <th></th>\n      <th></th>\n      <th></th>\n      <th></th>\n      <th></th>\n      <th></th>\n    </tr>\n  </thead>\n  <tbody>\n    <tr>\n      <th>PIF_178</th>\n      <td>40.85</td>\n      <td>65.37</td>\n      <td>18.73</td>\n      <td>26.05</td>\n      <td>71.52</td>\n      <td>1480.30</td>\n      <td>56.83</td>\n      <td>10.07</td>\n      <td>566.80</td>\n      <td>120.30</td>\n      <td>...</td>\n      <td>259.82</td>\n      <td>290.03</td>\n      <td>111.05</td>\n      <td>86.49</td>\n      <td>72.24</td>\n      <td>237.46</td>\n      <td>135.64</td>\n      <td>51.94</td>\n      <td>157.59</td>\n      <td>160.77</td>\n    </tr>\n    <tr>\n      <th>PIF_087</th>\n      <td>62.18</td>\n      <td>340.36</td>\n      <td>24.29</td>\n      <td>41.68</td>\n      <td>67.36</td>\n      <td>116.75</td>\n      <td>43.82</td>\n      <td>79.84</td>\n      <td>368.71</td>\n      <td>432.68</td>\n      <td>...</td>\n      <td>83.10</td>\n      <td>167.34</td>\n      <td>46.99</td>\n      <td>109.95</td>\n      <td>192.48</td>\n      <td>333.62</td>\n      <td>376.15</td>\n      <td>217.02</td>\n      <td>307.97</td>\n      <td>130.32</td>\n    </tr>\n    <tr>\n      <th>PIF_090</th>\n      <td>270.43</td>\n      <td>64.72</td>\n      <td>12.18</td>\n      <td>65.37</td>\n      <td>23.81</td>\n      <td>14.30</td>\n      <td>5.64</td>\n      <td>23.34</td>\n      <td>665.14</td>\n      <td>292.95</td>\n      <td>...</td>\n      <td>82.27</td>\n      <td>60.34</td>\n      <td>31.50</td>\n      <td>59.15</td>\n      <td>2164.62</td>\n      <td>330.30</td>\n      <td>86.49</td>\n      <td>58.56</td>\n      <td>145.47</td>\n      <td>83.93</td>\n    </tr>\n    <tr>\n      <th>NETL_005_V1</th>\n      <td>154.47</td>\n      <td>52.98</td>\n      <td>172.43</td>\n      <td>74.44</td>\n      <td>1199.91</td>\n      <td>555.57</td>\n      <td>175.91</td>\n      <td>25.03</td>\n      <td>411.58</td>\n      <td>214.86</td>\n      <td>...</td>\n      <td>235.10</td>\n      <td>323.76</td>\n      <td>30.57</td>\n      <td>102.51</td>\n      <td>125.21</td>\n      <td>1863.11</td>\n      <td>247.15</td>\n      <td>75.94</td>\n      <td>249.64</td>\n      <td>254.68</td>\n    </tr>\n    <tr>\n      <th>PIF_115</th>\n      <td>22.20</td>\n      <td>73.70</td>\n      <td>15.64</td>\n      <td>83.93</td>\n      <td>33.12</td>\n      <td>29.67</td>\n      <td>76.71</td>\n      <td>69.41</td>\n      <td>165.67</td>\n      <td>97.51</td>\n      <td>...</td>\n      <td>103.54</td>\n      <td>142.59</td>\n      <td>44.26</td>\n      <td>160.77</td>\n      <td>186.79</td>\n      <td>101.49</td>\n      <td>749.95</td>\n      <td>98.49</td>\n      <td>84.77</td>\n      <td>79.84</td>\n    </tr>\n    <tr>\n      <th>...</th>\n      <td>...</td>\n      <td>...</td>\n      <td>...</td>\n      <td>...</td>\n      <td>...</td>\n      <td>...</td>\n      <td>...</td>\n      <td>...</td>\n      <td>...</td>\n      <td>...</td>\n      <td>...</td>\n      <td>...</td>\n      <td>...</td>\n      <td>...</td>\n      <td>...</td>\n      <td>...</td>\n      <td>...</td>\n      <td>...</td>\n      <td>...</td>\n      <td>...</td>\n      <td>...</td>\n    </tr>\n    <tr>\n      <th>NETCR_019_V2</th>\n      <td>35.16</td>\n      <td>52.46</td>\n      <td>13.87</td>\n      <td>44.26</td>\n      <td>99.48</td>\n      <td>208.51</td>\n      <td>11.25</td>\n      <td>6.49</td>\n      <td>179.47</td>\n      <td>82.27</td>\n      <td>...</td>\n      <td>46.06</td>\n      <td>45.15</td>\n      <td>62.18</td>\n      <td>33.45</td>\n      <td>62.80</td>\n      <td>103.54</td>\n      <td>78.26</td>\n      <td>18.17</td>\n      <td>871.31</td>\n      <td>84.77</td>\n    </tr>\n    <tr>\n      <th>NETL_012_V1</th>\n      <td>16.95</td>\n      <td>15.80</td>\n      <td>10.49</td>\n      <td>22.42</td>\n      <td>62.80</td>\n      <td>10.91</td>\n      <td>6.96</td>\n      <td>3.46</td>\n      <td>164.02</td>\n      <td>31.50</td>\n      <td>...</td>\n      <td>21.33</td>\n      <td>21.33</td>\n      <td>31.19</td>\n      <td>13.20</td>\n      <td>14.30</td>\n      <td>36.23</td>\n      <td>11.59</td>\n      <td>12.30</td>\n      <td>53.52</td>\n      <td>44.70</td>\n    </tr>\n    <tr>\n      <th>NETL_012_V2</th>\n      <td>9.39</td>\n      <td>14.01</td>\n      <td>5.16</td>\n      <td>23.57</td>\n      <td>46.99</td>\n      <td>13.33</td>\n      <td>3.35</td>\n      <td>2.69</td>\n      <td>82.27</td>\n      <td>36.97</td>\n      <td>...</td>\n      <td>14.88</td>\n      <td>15.18</td>\n      <td>39.65</td>\n      <td>13.74</td>\n      <td>21.76</td>\n      <td>40.85</td>\n      <td>30.88</td>\n      <td>8.50</td>\n      <td>90.02</td>\n      <td>28.22</td>\n    </tr>\n    <tr>\n      <th>NETL_003_V1</th>\n      <td>37.71</td>\n      <td>18.17</td>\n      <td>26.05</td>\n      <td>15.03</td>\n      <td>23.34</td>\n      <td>33.45</td>\n      <td>6.05</td>\n      <td>5.26</td>\n      <td>105.64</td>\n      <td>45.60</td>\n      <td>...</td>\n      <td>17.46</td>\n      <td>29.96</td>\n      <td>13.46</td>\n      <td>14.59</td>\n      <td>36.97</td>\n      <td>90.92</td>\n      <td>17.64</td>\n      <td>12.43</td>\n      <td>897.85</td>\n      <td>90.02</td>\n    </tr>\n    <tr>\n      <th>NETL_003_V2</th>\n      <td>38.47</td>\n      <td>12.55</td>\n      <td>15.03</td>\n      <td>12.55</td>\n      <td>22.20</td>\n      <td>21.33</td>\n      <td>5.99</td>\n      <td>3.42</td>\n      <td>113.30</td>\n      <td>22.87</td>\n      <td>...</td>\n      <td>27.66</td>\n      <td>23.57</td>\n      <td>9.58</td>\n      <td>10.59</td>\n      <td>19.89</td>\n      <td>58.56</td>\n      <td>24.29</td>\n      <td>13.07</td>\n      <td>83.93</td>\n      <td>27.39</td>\n    </tr>\n  </tbody>\n</table>\n<p>77 rows × 63 columns</p>\n</div>"
     },
     "execution_count": 11,
     "metadata": {},
     "output_type": "execute_result"
    }
   ],
   "source": [
    "data"
   ],
   "metadata": {
    "collapsed": false,
    "pycharm": {
     "name": "#%%\n"
    }
   }
  },
  {
   "cell_type": "code",
   "execution_count": 12,
   "outputs": [
    {
     "data": {
      "text/plain": "             Muscle.loss\nsample                  \nPIF_178         cachexic\nPIF_087         cachexic\nPIF_090         cachexic\nNETL_005_V1     cachexic\nPIF_115         cachexic\n...                  ...\nNETCR_019_V2     control\nNETL_012_V1      control\nNETL_012_V2      control\nNETL_003_V1      control\nNETL_003_V2      control\n\n[77 rows x 1 columns]",
      "text/html": "<div>\n<style scoped>\n    .dataframe tbody tr th:only-of-type {\n        vertical-align: middle;\n    }\n\n    .dataframe tbody tr th {\n        vertical-align: top;\n    }\n\n    .dataframe thead th {\n        text-align: right;\n    }\n</style>\n<table border=\"1\" class=\"dataframe\">\n  <thead>\n    <tr style=\"text-align: right;\">\n      <th></th>\n      <th>Muscle.loss</th>\n    </tr>\n    <tr>\n      <th>sample</th>\n      <th></th>\n    </tr>\n  </thead>\n  <tbody>\n    <tr>\n      <th>PIF_178</th>\n      <td>cachexic</td>\n    </tr>\n    <tr>\n      <th>PIF_087</th>\n      <td>cachexic</td>\n    </tr>\n    <tr>\n      <th>PIF_090</th>\n      <td>cachexic</td>\n    </tr>\n    <tr>\n      <th>NETL_005_V1</th>\n      <td>cachexic</td>\n    </tr>\n    <tr>\n      <th>PIF_115</th>\n      <td>cachexic</td>\n    </tr>\n    <tr>\n      <th>...</th>\n      <td>...</td>\n    </tr>\n    <tr>\n      <th>NETCR_019_V2</th>\n      <td>control</td>\n    </tr>\n    <tr>\n      <th>NETL_012_V1</th>\n      <td>control</td>\n    </tr>\n    <tr>\n      <th>NETL_012_V2</th>\n      <td>control</td>\n    </tr>\n    <tr>\n      <th>NETL_003_V1</th>\n      <td>control</td>\n    </tr>\n    <tr>\n      <th>NETL_003_V2</th>\n      <td>control</td>\n    </tr>\n  </tbody>\n</table>\n<p>77 rows × 1 columns</p>\n</div>"
     },
     "execution_count": 12,
     "metadata": {},
     "output_type": "execute_result"
    }
   ],
   "source": [
    "meta"
   ],
   "metadata": {
    "collapsed": false,
    "pycharm": {
     "name": "#%%\n"
    }
   }
  },
  {
   "cell_type": "markdown",
   "metadata": {
    "pycharm": {
     "name": "#%% md\n"
    }
   },
   "source": [
    "2 -Aplica a transformação necessária para que os dados seja escalonados para ter média 0 e desvio padrão 1. Verifica que as médias de todas as colunas é aproximadamente zero."
   ]
  },
  {
   "cell_type": "code",
   "execution_count": null,
   "metadata": {
    "pycharm": {
     "name": "#%%\n",
     "is_executing": true
    }
   },
   "outputs": [],
   "source": []
  },
  {
   "cell_type": "markdown",
   "metadata": {
    "pycharm": {
     "name": "#%% md\n"
    }
   },
   "source": [
    "3 - Cria dois conjuntos de dados treino e teste para serem usados na criação e validação de modelos de aprendizagem máquina. Considera 30% das amostras para formar o conjunto de teste. "
   ]
  },
  {
   "cell_type": "code",
   "execution_count": 18,
   "metadata": {
    "pycharm": {
     "name": "#%%\n"
    }
   },
   "outputs": [
    {
     "data": {
      "text/plain": "(77, 63)"
     },
     "execution_count": 18,
     "metadata": {},
     "output_type": "execute_result"
    }
   ],
   "source": [
    "data.shape"
   ]
  },
  {
   "cell_type": "code",
   "execution_count": 19,
   "outputs": [
    {
     "ename": "NameError",
     "evalue": "name 'input_ac' is not defined",
     "output_type": "error",
     "traceback": [
      "\u001B[1;31m---------------------------------------------------------------------------\u001B[0m",
      "\u001B[1;31mNameError\u001B[0m                                 Traceback (most recent call last)",
      "Cell \u001B[1;32mIn [19], line 3\u001B[0m\n\u001B[0;32m      1\u001B[0m \u001B[38;5;28;01mimport\u001B[39;00m \u001B[38;5;21;01mnumpy\u001B[39;00m \u001B[38;5;28;01mas\u001B[39;00m \u001B[38;5;21;01mnp\u001B[39;00m\n\u001B[1;32m----> 3\u001B[0m numtet \u001B[38;5;241m=\u001B[39m \u001B[38;5;28mint\u001B[39m(input_ac\u001B[38;5;241m.\u001B[39mshape(\u001B[38;5;241m0\u001B[39m) \u001B[38;5;241m*\u001B[39m \u001B[38;5;241m0.3\u001B[39m)\n\u001B[0;32m      4\u001B[0m \u001B[38;5;28mprint\u001B[39m(\u001B[38;5;124m\"\u001B[39m\u001B[38;5;124mNúmero de exemplos para teste: \u001B[39m\u001B[38;5;124m\"\u001B[39m)\n",
      "\u001B[1;31mNameError\u001B[0m: name 'input_ac' is not defined"
     ]
    }
   ],
   "source": [
    "import numpy as np\n",
    "\n",
    "numtet = int(input_ac.shape(0) * 0.3)\n",
    "print(\"Número de exemplos para teste: \")"
   ],
   "metadata": {
    "collapsed": false,
    "pycharm": {
     "name": "#%%\n"
    }
   }
  },
  {
   "cell_type": "markdown",
   "metadata": {
    "pycharm": {
     "name": "#%% md\n"
    }
   },
   "source": [
    "4 - Constroi diversos tipos de modelos de classificação treinando e testando com os conjuntos criados anteriormente. Calcula, para cada um dos modelos no test set, as métricas de erro PECC e F1-score, e calcula a matriz de confusão. Considere como classe positiva a classe \"cachexic\""
   ]
  },
  {
   "cell_type": "code",
   "execution_count": null,
   "metadata": {
    "pycharm": {
     "name": "#%%\n"
    }
   },
   "outputs": [],
   "source": [
    "from sklearn.neighbors import KNeighborsClassifier\n",
    "\n",
    "knn = KNeighborsClassifier()\n",
    "knn.fit(train_in, train_out)\n",
    "prev = knn.predict(test_in)\n",
    "\n",
    "print(knn.score(test_in, test_out))"
   ]
  },
  {
   "cell_type": "markdown",
   "metadata": {
    "pycharm": {
     "name": "#%% md\n"
    }
   },
   "source": [
    "5 - Usando apenas o melhor modelo do exercício anterior, compare o seu desempenho considerando dados com transformação logaritmica e posteriormente standardizados"
   ]
  },
  {
   "cell_type": "code",
   "execution_count": null,
   "metadata": {
    "pycharm": {
     "name": "#%%\n"
    }
   },
   "outputs": [],
   "source": []
  }
 ],
 "metadata": {
  "kernelspec": {
   "display_name": "Python 3 (ipykernel)",
   "language": "python",
   "name": "python3"
  },
  "language_info": {
   "codemirror_mode": {
    "name": "ipython",
    "version": 3
   },
   "file_extension": ".py",
   "mimetype": "text/x-python",
   "name": "python",
   "nbconvert_exporter": "python",
   "pygments_lexer": "ipython3",
   "version": "3.9.7"
  }
 },
 "nbformat": 4,
 "nbformat_minor": 2
}