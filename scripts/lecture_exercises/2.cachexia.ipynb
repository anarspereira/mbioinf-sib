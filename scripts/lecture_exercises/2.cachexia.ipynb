{
 "cells": [
  {
   "cell_type": "markdown",
   "metadata": {
    "pycharm": {
     "name": "#%% md\n"
    }
   },
   "source": [
    "## Dataset cachexia - Exploração de dados, pré-processamento e análise estatística univariada\n",
    "Nesta secção vamos trabalhar com os dados do dataset Cachexia : \n",
    "\n",
    "*\"Concentrations of 63 metabolites in 77 urine samples from cancer patients, measured by 1H NMR (Eisner et al, 2011). Metadata defines the two groups: control and cachexic patients.\"*\n",
    "\n",
    "Importação e análise da dimensão dos dados"
   ]
  },
  {
   "cell_type": "code",
   "execution_count": 1,
   "metadata": {
    "pycharm": {
     "name": "#%%\n"
    }
   },
   "outputs": [],
   "source": [
    "import numpy as np \n",
    "import pandas as pd\n",
    "import matplotlib.pyplot as plt \n",
    "# para desenhar os gráficos dentro do notebook\n",
    "%matplotlib inline\n"
   ]
  },
  {
   "cell_type": "code",
   "execution_count": 2,
   "metadata": {
    "pycharm": {
     "name": "#%%\n"
    }
   },
   "outputs": [
    {
     "name": "stdout",
     "output_type": "stream",
     "text": [
      "(77, 63)\n",
      "(77, 1)\n"
     ]
    },
    {
     "data": {
      "text/html": [
       "<div>\n",
       "<style scoped>\n",
       "    .dataframe tbody tr th:only-of-type {\n",
       "        vertical-align: middle;\n",
       "    }\n",
       "\n",
       "    .dataframe tbody tr th {\n",
       "        vertical-align: top;\n",
       "    }\n",
       "\n",
       "    .dataframe thead th {\n",
       "        text-align: right;\n",
       "    }\n",
       "</style>\n",
       "<table border=\"1\" class=\"dataframe\">\n",
       "  <thead>\n",
       "    <tr style=\"text-align: right;\">\n",
       "      <th></th>\n",
       "      <th>1.6-Anhydro-beta-D-glucose</th>\n",
       "      <th>1-Methylnicotinamide</th>\n",
       "      <th>2-Aminobutyrate</th>\n",
       "      <th>2-Hydroxyisobutyrate</th>\n",
       "      <th>2-Oxoglutarate</th>\n",
       "      <th>3-Aminoisobutyrate</th>\n",
       "      <th>3-Hydroxybutyrate</th>\n",
       "      <th>3-Hydroxyisovalerate</th>\n",
       "      <th>3-Indoxylsulfate</th>\n",
       "      <th>4-Hydroxyphenylacetate</th>\n",
       "      <th>...</th>\n",
       "      <th>Tryptophan</th>\n",
       "      <th>Tyrosine</th>\n",
       "      <th>Uracil</th>\n",
       "      <th>Valine</th>\n",
       "      <th>Xylose</th>\n",
       "      <th>cis-Aconitate</th>\n",
       "      <th>myo-Inositol</th>\n",
       "      <th>trans-Aconitate</th>\n",
       "      <th>pi-Methylhistidine</th>\n",
       "      <th>tau-Methylhistidine</th>\n",
       "    </tr>\n",
       "    <tr>\n",
       "      <th>Patient ID</th>\n",
       "      <th></th>\n",
       "      <th></th>\n",
       "      <th></th>\n",
       "      <th></th>\n",
       "      <th></th>\n",
       "      <th></th>\n",
       "      <th></th>\n",
       "      <th></th>\n",
       "      <th></th>\n",
       "      <th></th>\n",
       "      <th></th>\n",
       "      <th></th>\n",
       "      <th></th>\n",
       "      <th></th>\n",
       "      <th></th>\n",
       "      <th></th>\n",
       "      <th></th>\n",
       "      <th></th>\n",
       "      <th></th>\n",
       "      <th></th>\n",
       "      <th></th>\n",
       "    </tr>\n",
       "  </thead>\n",
       "  <tbody>\n",
       "    <tr>\n",
       "      <th>PIF_178</th>\n",
       "      <td>40.85</td>\n",
       "      <td>65.37</td>\n",
       "      <td>18.73</td>\n",
       "      <td>26.05</td>\n",
       "      <td>71.52</td>\n",
       "      <td>1480.30</td>\n",
       "      <td>56.83</td>\n",
       "      <td>10.07</td>\n",
       "      <td>566.80</td>\n",
       "      <td>120.30</td>\n",
       "      <td>...</td>\n",
       "      <td>259.82</td>\n",
       "      <td>290.03</td>\n",
       "      <td>111.05</td>\n",
       "      <td>86.49</td>\n",
       "      <td>72.24</td>\n",
       "      <td>237.46</td>\n",
       "      <td>135.64</td>\n",
       "      <td>51.94</td>\n",
       "      <td>157.59</td>\n",
       "      <td>160.77</td>\n",
       "    </tr>\n",
       "    <tr>\n",
       "      <th>PIF_087</th>\n",
       "      <td>62.18</td>\n",
       "      <td>340.36</td>\n",
       "      <td>24.29</td>\n",
       "      <td>41.68</td>\n",
       "      <td>67.36</td>\n",
       "      <td>116.75</td>\n",
       "      <td>43.82</td>\n",
       "      <td>79.84</td>\n",
       "      <td>368.71</td>\n",
       "      <td>432.68</td>\n",
       "      <td>...</td>\n",
       "      <td>83.10</td>\n",
       "      <td>167.34</td>\n",
       "      <td>46.99</td>\n",
       "      <td>109.95</td>\n",
       "      <td>192.48</td>\n",
       "      <td>333.62</td>\n",
       "      <td>376.15</td>\n",
       "      <td>217.02</td>\n",
       "      <td>307.97</td>\n",
       "      <td>130.32</td>\n",
       "    </tr>\n",
       "    <tr>\n",
       "      <th>PIF_090</th>\n",
       "      <td>270.43</td>\n",
       "      <td>64.72</td>\n",
       "      <td>12.18</td>\n",
       "      <td>65.37</td>\n",
       "      <td>23.81</td>\n",
       "      <td>14.30</td>\n",
       "      <td>5.64</td>\n",
       "      <td>23.34</td>\n",
       "      <td>665.14</td>\n",
       "      <td>292.95</td>\n",
       "      <td>...</td>\n",
       "      <td>82.27</td>\n",
       "      <td>60.34</td>\n",
       "      <td>31.50</td>\n",
       "      <td>59.15</td>\n",
       "      <td>2164.62</td>\n",
       "      <td>330.30</td>\n",
       "      <td>86.49</td>\n",
       "      <td>58.56</td>\n",
       "      <td>145.47</td>\n",
       "      <td>83.93</td>\n",
       "    </tr>\n",
       "    <tr>\n",
       "      <th>NETL_005_V1</th>\n",
       "      <td>154.47</td>\n",
       "      <td>52.98</td>\n",
       "      <td>172.43</td>\n",
       "      <td>74.44</td>\n",
       "      <td>1199.91</td>\n",
       "      <td>555.57</td>\n",
       "      <td>175.91</td>\n",
       "      <td>25.03</td>\n",
       "      <td>411.58</td>\n",
       "      <td>214.86</td>\n",
       "      <td>...</td>\n",
       "      <td>235.10</td>\n",
       "      <td>323.76</td>\n",
       "      <td>30.57</td>\n",
       "      <td>102.51</td>\n",
       "      <td>125.21</td>\n",
       "      <td>1863.11</td>\n",
       "      <td>247.15</td>\n",
       "      <td>75.94</td>\n",
       "      <td>249.64</td>\n",
       "      <td>254.68</td>\n",
       "    </tr>\n",
       "    <tr>\n",
       "      <th>PIF_115</th>\n",
       "      <td>22.20</td>\n",
       "      <td>73.70</td>\n",
       "      <td>15.64</td>\n",
       "      <td>83.93</td>\n",
       "      <td>33.12</td>\n",
       "      <td>29.67</td>\n",
       "      <td>76.71</td>\n",
       "      <td>69.41</td>\n",
       "      <td>165.67</td>\n",
       "      <td>97.51</td>\n",
       "      <td>...</td>\n",
       "      <td>103.54</td>\n",
       "      <td>142.59</td>\n",
       "      <td>44.26</td>\n",
       "      <td>160.77</td>\n",
       "      <td>186.79</td>\n",
       "      <td>101.49</td>\n",
       "      <td>749.95</td>\n",
       "      <td>98.49</td>\n",
       "      <td>84.77</td>\n",
       "      <td>79.84</td>\n",
       "    </tr>\n",
       "  </tbody>\n",
       "</table>\n",
       "<p>5 rows × 63 columns</p>\n",
       "</div>"
      ],
      "text/plain": [
       "             1.6-Anhydro-beta-D-glucose  1-Methylnicotinamide  \\\n",
       "Patient ID                                                      \n",
       "PIF_178                           40.85                 65.37   \n",
       "PIF_087                           62.18                340.36   \n",
       "PIF_090                          270.43                 64.72   \n",
       "NETL_005_V1                      154.47                 52.98   \n",
       "PIF_115                           22.20                 73.70   \n",
       "\n",
       "             2-Aminobutyrate  2-Hydroxyisobutyrate  2-Oxoglutarate  \\\n",
       "Patient ID                                                           \n",
       "PIF_178                18.73                 26.05           71.52   \n",
       "PIF_087                24.29                 41.68           67.36   \n",
       "PIF_090                12.18                 65.37           23.81   \n",
       "NETL_005_V1           172.43                 74.44         1199.91   \n",
       "PIF_115                15.64                 83.93           33.12   \n",
       "\n",
       "             3-Aminoisobutyrate  3-Hydroxybutyrate  3-Hydroxyisovalerate  \\\n",
       "Patient ID                                                                 \n",
       "PIF_178                 1480.30              56.83                 10.07   \n",
       "PIF_087                  116.75              43.82                 79.84   \n",
       "PIF_090                   14.30               5.64                 23.34   \n",
       "NETL_005_V1              555.57             175.91                 25.03   \n",
       "PIF_115                   29.67              76.71                 69.41   \n",
       "\n",
       "             3-Indoxylsulfate  4-Hydroxyphenylacetate  ...  Tryptophan  \\\n",
       "Patient ID                                             ...               \n",
       "PIF_178                566.80                  120.30  ...      259.82   \n",
       "PIF_087                368.71                  432.68  ...       83.10   \n",
       "PIF_090                665.14                  292.95  ...       82.27   \n",
       "NETL_005_V1            411.58                  214.86  ...      235.10   \n",
       "PIF_115                165.67                   97.51  ...      103.54   \n",
       "\n",
       "             Tyrosine  Uracil  Valine   Xylose  cis-Aconitate  myo-Inositol  \\\n",
       "Patient ID                                                                    \n",
       "PIF_178        290.03  111.05   86.49    72.24         237.46        135.64   \n",
       "PIF_087        167.34   46.99  109.95   192.48         333.62        376.15   \n",
       "PIF_090         60.34   31.50   59.15  2164.62         330.30         86.49   \n",
       "NETL_005_V1    323.76   30.57  102.51   125.21        1863.11        247.15   \n",
       "PIF_115        142.59   44.26  160.77   186.79         101.49        749.95   \n",
       "\n",
       "             trans-Aconitate  pi-Methylhistidine  tau-Methylhistidine  \n",
       "Patient ID                                                             \n",
       "PIF_178                51.94              157.59               160.77  \n",
       "PIF_087               217.02              307.97               130.32  \n",
       "PIF_090                58.56              145.47                83.93  \n",
       "NETL_005_V1            75.94              249.64               254.68  \n",
       "PIF_115                98.49               84.77                79.84  \n",
       "\n",
       "[5 rows x 63 columns]"
      ]
     },
     "execution_count": 2,
     "metadata": {},
     "output_type": "execute_result"
    }
   ],
   "source": [
    "data = pd.read_csv('data_cachexia.csv',sep=',', index_col = 0)\n",
    "meta = pd.read_csv('meta_cachexia.csv',sep=',', index_col = 0)\n",
    "print (data.shape)\n",
    "print (meta.shape)\n",
    "data.head()"
   ]
  },
  {
   "cell_type": "markdown",
   "metadata": {
    "pycharm": {
     "name": "#%% md\n"
    }
   },
   "source": [
    "Sumário dos dados"
   ]
  },
  {
   "cell_type": "code",
   "execution_count": 3,
   "metadata": {
    "pycharm": {
     "name": "#%%\n"
    }
   },
   "outputs": [
    {
     "data": {
      "text/html": [
       "<div>\n",
       "<style scoped>\n",
       "    .dataframe tbody tr th:only-of-type {\n",
       "        vertical-align: middle;\n",
       "    }\n",
       "\n",
       "    .dataframe tbody tr th {\n",
       "        vertical-align: top;\n",
       "    }\n",
       "\n",
       "    .dataframe thead th {\n",
       "        text-align: right;\n",
       "    }\n",
       "</style>\n",
       "<table border=\"1\" class=\"dataframe\">\n",
       "  <thead>\n",
       "    <tr style=\"text-align: right;\">\n",
       "      <th></th>\n",
       "      <th>1.6-Anhydro-beta-D-glucose</th>\n",
       "      <th>1-Methylnicotinamide</th>\n",
       "      <th>2-Aminobutyrate</th>\n",
       "      <th>2-Hydroxyisobutyrate</th>\n",
       "      <th>2-Oxoglutarate</th>\n",
       "      <th>3-Aminoisobutyrate</th>\n",
       "      <th>3-Hydroxybutyrate</th>\n",
       "      <th>3-Hydroxyisovalerate</th>\n",
       "      <th>3-Indoxylsulfate</th>\n",
       "      <th>4-Hydroxyphenylacetate</th>\n",
       "      <th>...</th>\n",
       "      <th>Tryptophan</th>\n",
       "      <th>Tyrosine</th>\n",
       "      <th>Uracil</th>\n",
       "      <th>Valine</th>\n",
       "      <th>Xylose</th>\n",
       "      <th>cis-Aconitate</th>\n",
       "      <th>myo-Inositol</th>\n",
       "      <th>trans-Aconitate</th>\n",
       "      <th>pi-Methylhistidine</th>\n",
       "      <th>tau-Methylhistidine</th>\n",
       "    </tr>\n",
       "  </thead>\n",
       "  <tbody>\n",
       "    <tr>\n",
       "      <th>count</th>\n",
       "      <td>77.000000</td>\n",
       "      <td>77.000000</td>\n",
       "      <td>77.000000</td>\n",
       "      <td>77.000000</td>\n",
       "      <td>77.000000</td>\n",
       "      <td>77.000000</td>\n",
       "      <td>77.000000</td>\n",
       "      <td>77.000000</td>\n",
       "      <td>77.000000</td>\n",
       "      <td>77.000000</td>\n",
       "      <td>...</td>\n",
       "      <td>77.000000</td>\n",
       "      <td>77.000000</td>\n",
       "      <td>77.000000</td>\n",
       "      <td>77.000000</td>\n",
       "      <td>77.000000</td>\n",
       "      <td>77.000000</td>\n",
       "      <td>77.000000</td>\n",
       "      <td>77.000000</td>\n",
       "      <td>77.000000</td>\n",
       "      <td>77.000000</td>\n",
       "    </tr>\n",
       "    <tr>\n",
       "      <th>mean</th>\n",
       "      <td>105.630390</td>\n",
       "      <td>71.573636</td>\n",
       "      <td>18.159740</td>\n",
       "      <td>37.250649</td>\n",
       "      <td>145.087143</td>\n",
       "      <td>76.756364</td>\n",
       "      <td>21.717013</td>\n",
       "      <td>21.647792</td>\n",
       "      <td>218.879221</td>\n",
       "      <td>112.021039</td>\n",
       "      <td>...</td>\n",
       "      <td>66.243117</td>\n",
       "      <td>81.757273</td>\n",
       "      <td>35.557662</td>\n",
       "      <td>35.667013</td>\n",
       "      <td>100.933377</td>\n",
       "      <td>204.219740</td>\n",
       "      <td>135.397532</td>\n",
       "      <td>40.630390</td>\n",
       "      <td>370.288312</td>\n",
       "      <td>89.686883</td>\n",
       "    </tr>\n",
       "    <tr>\n",
       "      <th>std</th>\n",
       "      <td>130.025595</td>\n",
       "      <td>133.192811</td>\n",
       "      <td>27.614526</td>\n",
       "      <td>23.956807</td>\n",
       "      <td>342.522174</td>\n",
       "      <td>191.014237</td>\n",
       "      <td>26.198904</td>\n",
       "      <td>24.946091</td>\n",
       "      <td>196.868730</td>\n",
       "      <td>120.812569</td>\n",
       "      <td>...</td>\n",
       "      <td>56.333318</td>\n",
       "      <td>83.248486</td>\n",
       "      <td>35.002894</td>\n",
       "      <td>29.697365</td>\n",
       "      <td>250.216325</td>\n",
       "      <td>278.141989</td>\n",
       "      <td>170.266474</td>\n",
       "      <td>39.566754</td>\n",
       "      <td>530.689300</td>\n",
       "      <td>77.239064</td>\n",
       "    </tr>\n",
       "    <tr>\n",
       "      <th>min</th>\n",
       "      <td>4.710000</td>\n",
       "      <td>6.420000</td>\n",
       "      <td>1.280000</td>\n",
       "      <td>4.850000</td>\n",
       "      <td>5.530000</td>\n",
       "      <td>2.610000</td>\n",
       "      <td>1.700000</td>\n",
       "      <td>0.920000</td>\n",
       "      <td>27.660000</td>\n",
       "      <td>15.490000</td>\n",
       "      <td>...</td>\n",
       "      <td>8.670000</td>\n",
       "      <td>4.220000</td>\n",
       "      <td>3.100000</td>\n",
       "      <td>4.100000</td>\n",
       "      <td>10.070000</td>\n",
       "      <td>12.940000</td>\n",
       "      <td>11.590000</td>\n",
       "      <td>4.900000</td>\n",
       "      <td>11.360000</td>\n",
       "      <td>8.000000</td>\n",
       "    </tr>\n",
       "    <tr>\n",
       "      <th>25%</th>\n",
       "      <td>28.790000</td>\n",
       "      <td>15.800000</td>\n",
       "      <td>5.260000</td>\n",
       "      <td>15.800000</td>\n",
       "      <td>22.420000</td>\n",
       "      <td>11.700000</td>\n",
       "      <td>5.990000</td>\n",
       "      <td>5.260000</td>\n",
       "      <td>82.270000</td>\n",
       "      <td>41.680000</td>\n",
       "      <td>...</td>\n",
       "      <td>21.330000</td>\n",
       "      <td>23.570000</td>\n",
       "      <td>11.940000</td>\n",
       "      <td>12.180000</td>\n",
       "      <td>29.960000</td>\n",
       "      <td>36.230000</td>\n",
       "      <td>30.270000</td>\n",
       "      <td>12.430000</td>\n",
       "      <td>67.360000</td>\n",
       "      <td>27.390000</td>\n",
       "    </tr>\n",
       "    <tr>\n",
       "      <th>50%</th>\n",
       "      <td>45.600000</td>\n",
       "      <td>36.600000</td>\n",
       "      <td>10.490000</td>\n",
       "      <td>32.460000</td>\n",
       "      <td>55.150000</td>\n",
       "      <td>22.650000</td>\n",
       "      <td>11.700000</td>\n",
       "      <td>12.550000</td>\n",
       "      <td>144.030000</td>\n",
       "      <td>70.110000</td>\n",
       "      <td>...</td>\n",
       "      <td>46.990000</td>\n",
       "      <td>60.340000</td>\n",
       "      <td>27.390000</td>\n",
       "      <td>33.120000</td>\n",
       "      <td>50.400000</td>\n",
       "      <td>129.020000</td>\n",
       "      <td>78.260000</td>\n",
       "      <td>26.840000</td>\n",
       "      <td>162.390000</td>\n",
       "      <td>68.720000</td>\n",
       "    </tr>\n",
       "    <tr>\n",
       "      <th>75%</th>\n",
       "      <td>141.170000</td>\n",
       "      <td>73.700000</td>\n",
       "      <td>19.490000</td>\n",
       "      <td>54.600000</td>\n",
       "      <td>92.760000</td>\n",
       "      <td>56.260000</td>\n",
       "      <td>29.960000</td>\n",
       "      <td>30.270000</td>\n",
       "      <td>333.620000</td>\n",
       "      <td>145.470000</td>\n",
       "      <td>...</td>\n",
       "      <td>96.540000</td>\n",
       "      <td>113.300000</td>\n",
       "      <td>44.260000</td>\n",
       "      <td>50.400000</td>\n",
       "      <td>89.120000</td>\n",
       "      <td>254.680000</td>\n",
       "      <td>167.340000</td>\n",
       "      <td>57.400000</td>\n",
       "      <td>387.610000</td>\n",
       "      <td>130.320000</td>\n",
       "    </tr>\n",
       "    <tr>\n",
       "      <th>max</th>\n",
       "      <td>685.400000</td>\n",
       "      <td>1032.770000</td>\n",
       "      <td>172.430000</td>\n",
       "      <td>93.690000</td>\n",
       "      <td>2465.130000</td>\n",
       "      <td>1480.300000</td>\n",
       "      <td>175.910000</td>\n",
       "      <td>164.020000</td>\n",
       "      <td>1043.150000</td>\n",
       "      <td>796.320000</td>\n",
       "      <td>...</td>\n",
       "      <td>259.820000</td>\n",
       "      <td>539.150000</td>\n",
       "      <td>179.470000</td>\n",
       "      <td>160.770000</td>\n",
       "      <td>2164.620000</td>\n",
       "      <td>1863.110000</td>\n",
       "      <td>854.060000</td>\n",
       "      <td>217.020000</td>\n",
       "      <td>2697.280000</td>\n",
       "      <td>317.350000</td>\n",
       "    </tr>\n",
       "  </tbody>\n",
       "</table>\n",
       "<p>8 rows × 63 columns</p>\n",
       "</div>"
      ],
      "text/plain": [
       "       1.6-Anhydro-beta-D-glucose  1-Methylnicotinamide  2-Aminobutyrate  \\\n",
       "count                   77.000000             77.000000        77.000000   \n",
       "mean                   105.630390             71.573636        18.159740   \n",
       "std                    130.025595            133.192811        27.614526   \n",
       "min                      4.710000              6.420000         1.280000   \n",
       "25%                     28.790000             15.800000         5.260000   \n",
       "50%                     45.600000             36.600000        10.490000   \n",
       "75%                    141.170000             73.700000        19.490000   \n",
       "max                    685.400000           1032.770000       172.430000   \n",
       "\n",
       "       2-Hydroxyisobutyrate  2-Oxoglutarate  3-Aminoisobutyrate  \\\n",
       "count             77.000000       77.000000           77.000000   \n",
       "mean              37.250649      145.087143           76.756364   \n",
       "std               23.956807      342.522174          191.014237   \n",
       "min                4.850000        5.530000            2.610000   \n",
       "25%               15.800000       22.420000           11.700000   \n",
       "50%               32.460000       55.150000           22.650000   \n",
       "75%               54.600000       92.760000           56.260000   \n",
       "max               93.690000     2465.130000         1480.300000   \n",
       "\n",
       "       3-Hydroxybutyrate  3-Hydroxyisovalerate  3-Indoxylsulfate  \\\n",
       "count          77.000000             77.000000         77.000000   \n",
       "mean           21.717013             21.647792        218.879221   \n",
       "std            26.198904             24.946091        196.868730   \n",
       "min             1.700000              0.920000         27.660000   \n",
       "25%             5.990000              5.260000         82.270000   \n",
       "50%            11.700000             12.550000        144.030000   \n",
       "75%            29.960000             30.270000        333.620000   \n",
       "max           175.910000            164.020000       1043.150000   \n",
       "\n",
       "       4-Hydroxyphenylacetate  ...  Tryptophan    Tyrosine      Uracil  \\\n",
       "count               77.000000  ...   77.000000   77.000000   77.000000   \n",
       "mean               112.021039  ...   66.243117   81.757273   35.557662   \n",
       "std                120.812569  ...   56.333318   83.248486   35.002894   \n",
       "min                 15.490000  ...    8.670000    4.220000    3.100000   \n",
       "25%                 41.680000  ...   21.330000   23.570000   11.940000   \n",
       "50%                 70.110000  ...   46.990000   60.340000   27.390000   \n",
       "75%                145.470000  ...   96.540000  113.300000   44.260000   \n",
       "max                796.320000  ...  259.820000  539.150000  179.470000   \n",
       "\n",
       "           Valine       Xylose  cis-Aconitate  myo-Inositol  trans-Aconitate  \\\n",
       "count   77.000000    77.000000      77.000000     77.000000        77.000000   \n",
       "mean    35.667013   100.933377     204.219740    135.397532        40.630390   \n",
       "std     29.697365   250.216325     278.141989    170.266474        39.566754   \n",
       "min      4.100000    10.070000      12.940000     11.590000         4.900000   \n",
       "25%     12.180000    29.960000      36.230000     30.270000        12.430000   \n",
       "50%     33.120000    50.400000     129.020000     78.260000        26.840000   \n",
       "75%     50.400000    89.120000     254.680000    167.340000        57.400000   \n",
       "max    160.770000  2164.620000    1863.110000    854.060000       217.020000   \n",
       "\n",
       "       pi-Methylhistidine  tau-Methylhistidine  \n",
       "count           77.000000            77.000000  \n",
       "mean           370.288312            89.686883  \n",
       "std            530.689300            77.239064  \n",
       "min             11.360000             8.000000  \n",
       "25%             67.360000            27.390000  \n",
       "50%            162.390000            68.720000  \n",
       "75%            387.610000           130.320000  \n",
       "max           2697.280000           317.350000  \n",
       "\n",
       "[8 rows x 63 columns]"
      ]
     },
     "execution_count": 3,
     "metadata": {},
     "output_type": "execute_result"
    }
   ],
   "source": [
    "data.describe()"
   ]
  },
  {
   "cell_type": "markdown",
   "metadata": {
    "pycharm": {
     "name": "#%% md\n"
    }
   },
   "source": [
    "Sumário dos metadados "
   ]
  },
  {
   "cell_type": "code",
   "execution_count": 4,
   "metadata": {
    "pycharm": {
     "name": "#%%\n"
    }
   },
   "outputs": [
    {
     "data": {
      "text/html": [
       "<div>\n",
       "<style scoped>\n",
       "    .dataframe tbody tr th:only-of-type {\n",
       "        vertical-align: middle;\n",
       "    }\n",
       "\n",
       "    .dataframe tbody tr th {\n",
       "        vertical-align: top;\n",
       "    }\n",
       "\n",
       "    .dataframe thead th {\n",
       "        text-align: right;\n",
       "    }\n",
       "</style>\n",
       "<table border=\"1\" class=\"dataframe\">\n",
       "  <thead>\n",
       "    <tr style=\"text-align: right;\">\n",
       "      <th></th>\n",
       "      <th>Muscle.loss</th>\n",
       "    </tr>\n",
       "  </thead>\n",
       "  <tbody>\n",
       "    <tr>\n",
       "      <th>count</th>\n",
       "      <td>77</td>\n",
       "    </tr>\n",
       "    <tr>\n",
       "      <th>unique</th>\n",
       "      <td>2</td>\n",
       "    </tr>\n",
       "    <tr>\n",
       "      <th>top</th>\n",
       "      <td>cachexic</td>\n",
       "    </tr>\n",
       "    <tr>\n",
       "      <th>freq</th>\n",
       "      <td>47</td>\n",
       "    </tr>\n",
       "  </tbody>\n",
       "</table>\n",
       "</div>"
      ],
      "text/plain": [
       "       Muscle.loss\n",
       "count           77\n",
       "unique           2\n",
       "top       cachexic\n",
       "freq            47"
      ]
     },
     "execution_count": 4,
     "metadata": {},
     "output_type": "execute_result"
    }
   ],
   "source": [
    "meta.describe()"
   ]
  },
  {
   "cell_type": "markdown",
   "metadata": {
    "pycharm": {
     "name": "#%% md\n"
    }
   },
   "source": [
    "Frequência de cada categoria nos metadados"
   ]
  },
  {
   "cell_type": "code",
   "execution_count": 5,
   "metadata": {
    "pycharm": {
     "name": "#%%\n"
    }
   },
   "outputs": [
    {
     "data": {
      "text/plain": [
       "Muscle.loss\n",
       "cachexic    47\n",
       "control     30\n",
       "dtype: int64"
      ]
     },
     "execution_count": 5,
     "metadata": {},
     "output_type": "execute_result"
    }
   ],
   "source": [
    "meta.groupby(\"Muscle.loss\").size()"
   ]
  },
  {
   "cell_type": "markdown",
   "metadata": {
    "pycharm": {
     "name": "#%% md\n"
    }
   },
   "source": [
    "Verificar que não há valores em falta."
   ]
  },
  {
   "cell_type": "code",
   "execution_count": 6,
   "metadata": {
    "pycharm": {
     "name": "#%%\n"
    }
   },
   "outputs": [
    {
     "data": {
      "text/plain": [
       "0"
      ]
     },
     "execution_count": 6,
     "metadata": {},
     "output_type": "execute_result"
    }
   ],
   "source": [
    "data.isnull().sum().sum()"
   ]
  },
  {
   "cell_type": "markdown",
   "metadata": {
    "pycharm": {
     "name": "#%% md\n"
    }
   },
   "source": [
    "Para cada coluna apresentar o intervalo de valores"
   ]
  },
  {
   "cell_type": "code",
   "execution_count": 7,
   "metadata": {
    "pycharm": {
     "name": "#%%\n"
    }
   },
   "outputs": [
    {
     "data": {
      "text/plain": [
       "1.6-Anhydro-beta-D-glucose       4.71---685.4\n",
       "1-Methylnicotinamide           6.42---1032.77\n",
       "2-Aminobutyrate                 1.28---172.43\n",
       "2-Hydroxyisobutyrate             4.85---93.69\n",
       "2-Oxoglutarate                 5.53---2465.13\n",
       "                                   ...       \n",
       "cis-Aconitate                 12.94---1863.11\n",
       "myo-Inositol                   11.59---854.06\n",
       "trans-Aconitate                  4.9---217.02\n",
       "pi-Methylhistidine            11.36---2697.28\n",
       "tau-Methylhistidine              8.0---317.35\n",
       "Length: 63, dtype: object"
      ]
     },
     "execution_count": 7,
     "metadata": {},
     "output_type": "execute_result"
    }
   ],
   "source": [
    "data.apply(lambda x: str(x.min())+\"---\"+str( x.max()))"
   ]
  },
  {
   "cell_type": "markdown",
   "metadata": {
    "pycharm": {
     "name": "#%% md\n"
    }
   },
   "source": [
    "Criar um gráfico que permita visualizar os valores dos metabolitos \"Alanine\", \"Citrate\" e \"Creatinine\" para os pacientes de control. "
   ]
  },
  {
   "cell_type": "code",
   "execution_count": 8,
   "metadata": {
    "pycharm": {
     "name": "#%%\n"
    }
   },
   "outputs": [
    {
     "data": {
      "text/plain": [
       "<AxesSubplot:xlabel='Patient ID'>"
      ]
     },
     "execution_count": 8,
     "metadata": {},
     "output_type": "execute_result"
    },
    {
     "data": {
      "image/png": "[encoded data removed]",
      "text/plain": [
       "<Figure size 432x288 with 1 Axes>"
      ]
     },
     "metadata": {
      "needs_background": "light"
     },
     "output_type": "display_data"
    }
   ],
   "source": [
    "data_control = data[meta[\"Muscle.loss\"]==\"control\"]\n",
    "data_control.iloc[:,[13,17,19]].plot.bar()"
   ]
  },
  {
   "cell_type": "markdown",
   "metadata": {
    "pycharm": {
     "name": "#%% md\n"
    }
   },
   "source": [
    "Exemplo de discretização de dados - alterar os dados do metabolito Citrate de valor continuo para discretos: \n",
    "    \"elevado\", \"baixo\" consoante o valor seja: maior ou menor que a média."
   ]
  },
  {
   "cell_type": "code",
   "execution_count": 9,
   "metadata": {
    "pycharm": {
     "name": "#%%\n"
    }
   },
   "outputs": [
    {
     "data": {
      "text/plain": [
       "Patient ID\n",
       "PIF_178         elevado\n",
       "PIF_087         elevado\n",
       "PIF_090           baixo\n",
       "NETL_005_V1     elevado\n",
       "PIF_115           baixo\n",
       "                 ...   \n",
       "NETCR_019_V2    elevado\n",
       "NETL_012_V1       baixo\n",
       "NETL_012_V2       baixo\n",
       "NETL_003_V1       baixo\n",
       "NETL_003_V2       baixo\n",
       "Name: Citrate, Length: 77, dtype: object"
      ]
     },
     "execution_count": 9,
     "metadata": {},
     "output_type": "execute_result"
    }
   ],
   "source": [
    "cit = data.Citrate.copy()\n",
    "\n",
    "mean = cit.mean()\n",
    "cit[cit>mean]=\"elevado\"\n",
    "cit[cit!=\"elevado\"]=\"baixo\"\n",
    "cit"
   ]
  },
  {
   "cell_type": "markdown",
   "metadata": {
    "pycharm": {
     "name": "#%% md\n"
    }
   },
   "source": [
    "Standardização dos dados"
   ]
  },
  {
   "cell_type": "code",
   "execution_count": 10,
   "metadata": {
    "pycharm": {
     "name": "#%%\n"
    }
   },
   "outputs": [
    {
     "data": {
      "text/plain": [
       "<AxesSubplot:xlabel='Patient ID'>"
      ]
     },
     "execution_count": 10,
     "metadata": {},
     "output_type": "execute_result"
    },
    {
     "data": {
      "image/png": "[encoded data removed]",
      "text/plain": [
       "<Figure size 432x288 with 1 Axes>"
      ]
     },
     "metadata": {
      "needs_background": "light"
     },
     "output_type": "display_data"
    }
   ],
   "source": [
    "from sklearn import preprocessing\n",
    "array_data = preprocessing.scale(data)#, with_mean = False)\n",
    "data_scale =  pd.DataFrame(array_data, index =data.index , columns = data.columns)\n",
    "data_control = data_scale[meta[\"Muscle.loss\"]==\"control\"]\n",
    "data_control.iloc[:,[13,17,19]].plot.bar()"
   ]
  },
  {
   "cell_type": "markdown",
   "metadata": {
    "pycharm": {
     "name": "#%% md\n"
    }
   },
   "source": [
    "Cria um boxplot para ver a distribuição dos valores dos metabolitos Asparagine, Acetate, Succinate."
   ]
  },
  {
   "cell_type": "code",
   "execution_count": 11,
   "metadata": {
    "pycharm": {
     "name": "#%%\n"
    }
   },
   "outputs": [
    {
     "data": {
      "image/png": "[encoded data removed]",
      "text/plain": [
       "<Figure size 432x288 with 1 Axes>"
      ]
     },
     "metadata": {
      "needs_background": "light"
     },
     "output_type": "display_data"
    }
   ],
   "source": [
    "indexes = [ind for ind in range(len(data.columns)) if data.columns[ind] in ['Asparagine', 'Acetate', 'Succinate']]\n",
    "sel_data = data.iloc[:,indexes].values\n",
    "labels = data.columns[indexes]\n",
    "\n",
    "#ou \n",
    "sel_data = data.loc[:,['Asparagine', 'Acetate', 'Succinate']].values\n",
    "labels = ['Asparagine', 'Acetate', 'Succinate']\n",
    "\n",
    "plt.boxplot(sel_data)\n",
    "plt.xticks([1,2,3],labels)\n",
    "plt.title(\" Boxplot\")\n",
    "plt.show()\n"
   ]
  },
  {
   "cell_type": "code",
   "execution_count": 12,
   "metadata": {
    "pycharm": {
     "name": "#%%\n"
    }
   },
   "outputs": [
    {
     "data": {
      "image/png": "[encoded data removed]",
      "text/plain": [
       "<Figure size 432x288 with 1 Axes>"
      ]
     },
     "metadata": {
      "needs_background": "light"
     },
     "output_type": "display_data"
    }
   ],
   "source": [
    "indexes = [ind for ind in range(len(data.columns)) if data.columns[ind] in ['Sucrose', 'Glucose', 'Xylose']]\n",
    "sel_data = data.iloc[:,indexes].values\n",
    "labels = data.columns[indexes]\n",
    "plt.boxplot(sel_data)\n",
    "plt.xticks([1,2,3],labels)\n",
    "plt.title(\" Boxplot\")\n",
    "plt.show()"
   ]
  },
  {
   "cell_type": "markdown",
   "metadata": {
    "pycharm": {
     "name": "#%% md\n"
    }
   },
   "source": [
    "Transformação logarítmica"
   ]
  },
  {
   "cell_type": "code",
   "execution_count": 13,
   "metadata": {
    "pycharm": {
     "name": "#%%\n"
    }
   },
   "outputs": [
    {
     "data": {
      "text/plain": [
       "1.6-Anhydro-beta-D-glucose     2.2357270598380583---9.420802381631812\n",
       "1-Methylnicotinamide           2.682573297347578---10.012303283487379\n",
       "2-Aminobutyrate               0.35614381022527536---7.429866991382293\n",
       "2-Hydroxyisobutyrate           2.277984747299765---6.5498231649670045\n",
       "2-Oxoglutarate                 2.4672794804599825---11.26744801459588\n",
       "                                               ...                   \n",
       "cis-Aconitate                  3.693765712217783---10.863497139709002\n",
       "myo-Inositol                    3.534808661231747---9.738193616367314\n",
       "trans-Aconitate                 2.292781749227846---7.761684193602206\n",
       "pi-Methylhistidine            3.5058909297299574---11.397289577701605\n",
       "tau-Methylhistidine                           3.0---8.309931032395417\n",
       "Length: 63, dtype: object"
      ]
     },
     "execution_count": 13,
     "metadata": {},
     "output_type": "execute_result"
    }
   ],
   "source": [
    "log_data = np.log2(data)\n",
    "log_data.apply(lambda x: str(x.min())+\"---\"+str( x.max()))"
   ]
  },
  {
   "cell_type": "code",
   "execution_count": 14,
   "metadata": {
    "pycharm": {
     "name": "#%%\n"
    }
   },
   "outputs": [
    {
     "data": {
      "image/png": "[encoded data removed]",
      "text/plain": [
       "<Figure size 432x288 with 1 Axes>"
      ]
     },
     "metadata": {
      "needs_background": "light"
     },
     "output_type": "display_data"
    }
   ],
   "source": [
    "sel_log_data = log_data.iloc[:,indexes].values\n",
    "\n",
    "plt.boxplot(sel_log_data)\n",
    "plt.xticks([1,2,3],labels)\n",
    "plt.title(\" Boxplot\")\n",
    "plt.show()"
   ]
  },
  {
   "cell_type": "markdown",
   "metadata": {
    "pycharm": {
     "name": "#%% md\n"
    }
   },
   "source": [
    "### Exemplos com testes estatísticos\n",
    "Verifica se a distribuição do metabolito Alanine segue a distribuição normal."
   ]
  },
  {
   "cell_type": "code",
   "execution_count": 15,
   "metadata": {
    "pycharm": {
     "name": "#%%\n"
    }
   },
   "outputs": [],
   "source": [
    "import statsmodels.api as sm\n",
    "from scipy import stats"
   ]
  },
  {
   "cell_type": "code",
   "execution_count": 16,
   "metadata": {
    "pycharm": {
     "name": "#%%\n"
    }
   },
   "outputs": [
    {
     "data": {
      "text/plain": [
       "(array([31., 15., 13.,  9.,  5.,  0.,  1.,  1.,  1.,  1.]),\n",
       " array([  16.78 ,  146.393,  276.006,  405.619,  535.232,  664.845,\n",
       "         794.458,  924.071, 1053.684, 1183.297, 1312.91 ]),\n",
       " <BarContainer object of 10 artists>)"
      ]
     },
     "execution_count": 16,
     "metadata": {},
     "output_type": "execute_result"
    },
    {
     "data": {
      "image/png": "[encoded data removed]",
      "text/plain": [
       "<Figure size 432x288 with 1 Axes>"
      ]
     },
     "metadata": {
      "needs_background": "light"
     },
     "output_type": "display_data"
    }
   ],
   "source": [
    "plt.close()\n",
    "data_alanine = data.Alanine\n",
    "plt.hist(data_alanine)"
   ]
  },
  {
   "cell_type": "code",
   "execution_count": 17,
   "metadata": {
    "pycharm": {
     "name": "#%%\n"
    }
   },
   "outputs": [
    {
     "name": "stderr",
     "output_type": "stream",
     "text": [
      "/Users/miguelrocha/opt/anaconda3/lib/python3.9/site-packages/statsmodels/graphics/gofplots.py:993: UserWarning: marker is redundantly defined by the 'marker' keyword argument and the fmt string \"bo\" (-> marker='o'). The keyword argument will take precedence.\n",
      "  ax.plot(x, y, fmt, **plot_style)\n"
     ]
    },
    {
     "data": {
      "image/png": "[encoded data removed]",
      "text/plain": [
       "<Figure size 432x288 with 1 Axes>"
      ]
     },
     "execution_count": 17,
     "metadata": {},
     "output_type": "execute_result"
    },
    {
     "data": {
      "image/png": "[encoded data removed]",
      "text/plain": [
       "<Figure size 432x288 with 1 Axes>"
      ]
     },
     "metadata": {
      "needs_background": "light"
     },
     "output_type": "display_data"
    }
   ],
   "source": [
    "plt.close()\n",
    "from sklearn import preprocessing\n",
    "sm.qqplot(preprocessing.scale(data_alanine), line='45')\n"
   ]
  },
  {
   "cell_type": "code",
   "execution_count": 18,
   "metadata": {
    "pycharm": {
     "name": "#%%\n"
    }
   },
   "outputs": [
    {
     "data": {
      "text/plain": [
       "4.927390762077266e-08"
      ]
     },
     "execution_count": 18,
     "metadata": {},
     "output_type": "execute_result"
    }
   ],
   "source": [
    "#w, p_value = stats.shapiro(data_alanine)\n",
    "w, p_value = stats.shapiro(data_alanine)\n",
    "p_value\n",
    "# rejeita HO ... logo dados não seguem a distribuição normal\n"
   ]
  },
  {
   "cell_type": "code",
   "execution_count": 19,
   "metadata": {
    "pycharm": {
     "name": "#%%\n"
    }
   },
   "outputs": [
    {
     "name": "stderr",
     "output_type": "stream",
     "text": [
      "/Users/miguelrocha/opt/anaconda3/lib/python3.9/site-packages/statsmodels/graphics/gofplots.py:993: UserWarning: marker is redundantly defined by the 'marker' keyword argument and the fmt string \"bo\" (-> marker='o'). The keyword argument will take precedence.\n",
      "  ax.plot(x, y, fmt, **plot_style)\n"
     ]
    },
    {
     "data": {
      "text/plain": [
       "0.08058072626590729"
      ]
     },
     "execution_count": 19,
     "metadata": {},
     "output_type": "execute_result"
    },
    {
     "data": {
      "image/png": "[encoded data removed]",
      "text/plain": [
       "<Figure size 432x288 with 1 Axes>"
      ]
     },
     "metadata": {
      "needs_background": "light"
     },
     "output_type": "display_data"
    }
   ],
   "source": [
    "# repetir o mesmo processo para dados com transformacao logaritmica\n",
    "plt.close()\n",
    "sm.qqplot(preprocessing.scale(log_data.Alanine), line='45')\n",
    "w, p_value = stats.shapiro(log_data.Alanine)\n",
    "p_value"
   ]
  },
  {
   "cell_type": "markdown",
   "metadata": {
    "pycharm": {
     "name": "#%% md\n"
    }
   },
   "source": [
    "A concentração de Alanina entre as duas categorias é semelhante?"
   ]
  },
  {
   "cell_type": "code",
   "execution_count": 20,
   "metadata": {
    "pycharm": {
     "name": "#%%\n"
    }
   },
   "outputs": [
    {
     "data": {
      "image/png": "[encoded data removed]",
      "text/plain": [
       "<Figure size 432x288 with 1 Axes>"
      ]
     },
     "metadata": {
      "needs_background": "light"
     },
     "output_type": "display_data"
    },
    {
     "data": {
      "image/png": "[encoded data removed]",
      "text/plain": [
       "<Figure size 432x288 with 1 Axes>"
      ]
     },
     "metadata": {
      "needs_background": "light"
     },
     "output_type": "display_data"
    }
   ],
   "source": [
    "data_alanine = data.Alanine\n",
    "control = data_alanine[meta[\"Muscle.loss\"]==\"control\"]\n",
    "cachexic = data_alanine[meta[\"Muscle.loss\"]==\"cachexic\"]\n",
    "\n",
    "plt.hist(control)\n",
    "plt.show()\n",
    "plt.hist(cachexic)\n",
    "plt.show()\n"
   ]
  },
  {
   "cell_type": "code",
   "execution_count": 21,
   "metadata": {
    "pycharm": {
     "name": "#%%\n"
    }
   },
   "outputs": [
    {
     "data": {
      "text/plain": [
       "Ttest_indResult(statistic=-3.373021323629456, pvalue=0.0011788608889419753)"
      ]
     },
     "execution_count": 21,
     "metadata": {},
     "output_type": "execute_result"
    }
   ],
   "source": [
    "stats.ttest_ind(control,cachexic)\n",
    "# Rejeita-se a hipose nula (as duas amostras não tem média igual)"
   ]
  },
  {
   "cell_type": "code",
   "execution_count": 22,
   "metadata": {
    "pycharm": {
     "name": "#%%\n"
    }
   },
   "outputs": [
    {
     "data": {
      "image/png": "[encoded data removed]",
      "text/plain": [
       "<Figure size 432x288 with 1 Axes>"
      ]
     },
     "metadata": {
      "needs_background": "light"
     },
     "output_type": "display_data"
    }
   ],
   "source": [
    "plt.close()\n",
    "plt.boxplot([control,cachexic])\n",
    "plt.show()"
   ]
  },
  {
   "cell_type": "markdown",
   "metadata": {
    "pycharm": {
     "name": "#%% md\n"
    }
   },
   "source": [
    "Quais os metabolitos que têm concentrações significativamente diferentes entre os dois grupos: control e cachexic. "
   ]
  },
  {
   "cell_type": "code",
   "execution_count": 23,
   "metadata": {
    "pycharm": {
     "name": "#%%\n"
    }
   },
   "outputs": [
    {
     "data": {
      "text/plain": [
       "pandas.core.frame.DataFrame"
      ]
     },
     "execution_count": 23,
     "metadata": {},
     "output_type": "execute_result"
    }
   ],
   "source": [
    "type(data[meta['Muscle.loss']=='control'])"
   ]
  },
  {
   "cell_type": "code",
   "execution_count": 24,
   "metadata": {
    "pycharm": {
     "name": "#%%\n"
    }
   },
   "outputs": [
    {
     "data": {
      "text/plain": [
       "Index(['2-Aminobutyrate', '2-Hydroxyisobutyrate', '3-Hydroxybutyrate',\n",
       "       '3-Hydroxyisovalerate', '3-Indoxylsulfate', 'Acetate', 'Adipate',\n",
       "       'Alanine', 'Asparagine', 'Betaine', 'Citrate', 'Creatinine',\n",
       "       'Dimethylamine', 'Ethanolamine', 'Formate', 'Fucose', 'Glucose',\n",
       "       'Glutamine', 'Glycine', 'Hippurate', 'Histidine', 'Leucine',\n",
       "       'Methylamine', 'N.N-Dimethylglycine', 'Pyroglutamate', 'Pyruvate',\n",
       "       'Quinolinate', 'Serine', 'Succinate', 'Taurine', 'Threonine',\n",
       "       'Trigonelline', 'Trimethylamine N-oxide', 'Tryptophan', 'Tyrosine',\n",
       "       'Valine', 'cis-Aconitate', 'myo-Inositol', 'trans-Aconitate',\n",
       "       'tau-Methylhistidine'],\n",
       "      dtype='object')"
      ]
     },
     "execution_count": 24,
     "metadata": {},
     "output_type": "execute_result"
    }
   ],
   "source": [
    "metabs_de_tt = lambda x : stats.ttest_ind(x[meta['Muscle.loss']=='control'],x[meta['Muscle.loss']=='cachexic'])\n",
    "\n",
    "data.columns[data.apply(lambda x: metabs_de_tt(x)[1]<0.05)]"
   ]
  },
  {
   "cell_type": "markdown",
   "metadata": {
    "pycharm": {
     "name": "#%% md\n"
    }
   },
   "source": [
    "Testes não paramétricos - Mann-Whitney U test"
   ]
  },
  {
   "cell_type": "code",
   "execution_count": 25,
   "metadata": {
    "pycharm": {
     "name": "#%%\n"
    }
   },
   "outputs": [
    {
     "data": {
      "text/plain": [
       "MannwhitneyuResult(statistic=351.5, pvalue=0.0002263657422396913)"
      ]
     },
     "execution_count": 25,
     "metadata": {},
     "output_type": "execute_result"
    }
   ],
   "source": [
    "stats.mannwhitneyu(control, cachexic)"
   ]
  },
  {
   "cell_type": "code",
   "execution_count": 26,
   "metadata": {
    "pycharm": {
     "name": "#%%\n"
    }
   },
   "outputs": [
    {
     "data": {
      "text/plain": [
       "Index(['1.6-Anhydro-beta-D-glucose', '1-Methylnicotinamide', '2-Aminobutyrate',\n",
       "       '2-Hydroxyisobutyrate', '2-Oxoglutarate', '3-Hydroxybutyrate',\n",
       "       '3-Hydroxyisovalerate', '3-Indoxylsulfate', '4-Hydroxyphenylacetate',\n",
       "       'Acetate', 'Adipate', 'Alanine', 'Asparagine', 'Betaine', 'Carnitine',\n",
       "       'Citrate', 'Creatine', 'Creatinine', 'Dimethylamine', 'Ethanolamine',\n",
       "       'Formate', 'Fucose', 'Fumarate', 'Glucose', 'Glutamine', 'Glycine',\n",
       "       'Glycolate', 'Guanidoacetate', 'Hippurate', 'Histidine', 'Lactate',\n",
       "       'Leucine', 'Lysine', 'Methylamine', 'N.N-Dimethylglycine',\n",
       "       'O-Acetylcarnitine', 'Pyroglutamate', 'Pyruvate', 'Quinolinate',\n",
       "       'Serine', 'Succinate', 'Sucrose', 'Taurine', 'Threonine',\n",
       "       'Trigonelline', 'Trimethylamine N-oxide', 'Tryptophan', 'Tyrosine',\n",
       "       'Valine', 'Xylose', 'cis-Aconitate', 'myo-Inositol', 'trans-Aconitate',\n",
       "       'pi-Methylhistidine', 'tau-Methylhistidine'],\n",
       "      dtype='object')"
      ]
     },
     "execution_count": 26,
     "metadata": {},
     "output_type": "execute_result"
    }
   ],
   "source": [
    "metabs_de_mw = lambda x : stats.mannwhitneyu(x[meta['Muscle.loss']=='control'],x[meta['Muscle.loss']=='cachexic'])\n",
    "\n",
    "data.columns[data.apply(lambda x: metabs_de_mw(x)[1]<0.05)]"
   ]
  },
  {
   "cell_type": "markdown",
   "metadata": {
    "pycharm": {
     "name": "#%% md\n"
    }
   },
   "source": [
    "Correções para testes múltiplos"
   ]
  },
  {
   "cell_type": "code",
   "execution_count": 27,
   "metadata": {
    "pycharm": {
     "name": "#%%\n"
    }
   },
   "outputs": [
    {
     "data": {
      "text/plain": [
       "pandas.core.series.Series"
      ]
     },
     "execution_count": 27,
     "metadata": {},
     "output_type": "execute_result"
    }
   ],
   "source": [
    "pvalues_tt = data.apply(lambda x: metabs_de_tt(x)[1])\n",
    "pvalues_tt\n",
    "type(pvalues_tt)"
   ]
  },
  {
   "cell_type": "code",
   "execution_count": 28,
   "metadata": {
    "pycharm": {
     "name": "#%%\n"
    }
   },
   "outputs": [
    {
     "data": {
      "text/plain": [
       "array([0.07804527, 0.93431853, 0.04791323, 0.01850807, 0.26258461,\n",
       "       0.21559982, 0.00746781, 0.02241501, 0.02442245, 0.50590133,\n",
       "       0.01913057, 0.40446267, 0.04791323, 0.00746781, 0.02035566,\n",
       "       0.01346835, 0.08509583, 0.0289416 , 0.07894865, 0.00461683,\n",
       "       0.00461683, 0.04791323, 0.03663893, 0.01913057, 0.08453896,\n",
       "       0.05380258, 0.00746781, 0.04791323, 0.08253609, 0.17375383,\n",
       "       0.04432795, 0.02756776, 0.29268179, 0.17055175, 0.16123207,\n",
       "       0.0042447 , 0.31142281, 0.01021976, 0.2943504 , 0.00326413,\n",
       "       0.08509583, 0.55166451, 0.00461683, 0.03663893, 0.00326413,\n",
       "       0.014445  , 0.02756776, 0.16009031, 0.47673623, 0.05363246,\n",
       "       0.01381038, 0.0289416 , 0.06551082, 0.01021976, 0.02756776,\n",
       "       0.55166451, 0.00326413, 0.25610332, 0.014445  , 0.0107344 ,\n",
       "       0.04348116, 0.17455707, 0.04348116])"
      ]
     },
     "execution_count": 28,
     "metadata": {},
     "output_type": "execute_result"
    }
   ],
   "source": [
    "import statsmodels.stats as sm\n",
    "corr_pvalues = sm.multitest.multipletests(pvalues_tt, method = \"fdr_bh\")[1]\n",
    "corr_pvalues"
   ]
  },
  {
   "cell_type": "markdown",
   "metadata": {
    "pycharm": {
     "name": "#%% md\n"
    }
   },
   "source": [
    "### Correlações"
   ]
  },
  {
   "cell_type": "code",
   "execution_count": 29,
   "metadata": {
    "pycharm": {
     "name": "#%%\n"
    }
   },
   "outputs": [
    {
     "data": {
      "image/png": "[encoded data removed]",
      "text/plain": [
       "<Figure size 432x288 with 1 Axes>"
      ]
     },
     "metadata": {
      "needs_background": "light"
     },
     "output_type": "display_data"
    }
   ],
   "source": [
    "data_glucose = data.Glucose\n",
    "data_sucrose = data.Sucrose\n",
    "\n",
    "plt.scatter(data_glucose, data_sucrose)\n",
    "plt.show()"
   ]
  },
  {
   "cell_type": "code",
   "execution_count": 30,
   "metadata": {
    "pycharm": {
     "name": "#%%\n"
    }
   },
   "outputs": [
    {
     "data": {
      "text/plain": [
       "0.13547549419553698"
      ]
     },
     "execution_count": 30,
     "metadata": {},
     "output_type": "execute_result"
    }
   ],
   "source": [
    "corr, _ = stats.pearsonr(data_glucose, data_sucrose)\n",
    "corr"
   ]
  },
  {
   "cell_type": "code",
   "execution_count": 31,
   "metadata": {
    "pycharm": {
     "name": "#%%\n"
    }
   },
   "outputs": [
    {
     "data": {
      "text/plain": [
       "0.6074430955626448"
      ]
     },
     "execution_count": 31,
     "metadata": {},
     "output_type": "execute_result"
    }
   ],
   "source": [
    "sp_corr, _ = stats.spearmanr(data_glucose, data_sucrose)\n",
    "sp_corr"
   ]
  },
  {
   "cell_type": "code",
   "execution_count": 32,
   "metadata": {
    "pycharm": {
     "name": "#%%\n"
    }
   },
   "outputs": [
    {
     "data": {
      "text/html": [
       "<div>\n",
       "<style scoped>\n",
       "    .dataframe tbody tr th:only-of-type {\n",
       "        vertical-align: middle;\n",
       "    }\n",
       "\n",
       "    .dataframe tbody tr th {\n",
       "        vertical-align: top;\n",
       "    }\n",
       "\n",
       "    .dataframe thead th {\n",
       "        text-align: right;\n",
       "    }\n",
       "</style>\n",
       "<table border=\"1\" class=\"dataframe\">\n",
       "  <thead>\n",
       "    <tr style=\"text-align: right;\">\n",
       "      <th></th>\n",
       "      <th>1.6-Anhydro-beta-D-glucose</th>\n",
       "      <th>1-Methylnicotinamide</th>\n",
       "      <th>2-Aminobutyrate</th>\n",
       "      <th>2-Hydroxyisobutyrate</th>\n",
       "      <th>2-Oxoglutarate</th>\n",
       "      <th>3-Aminoisobutyrate</th>\n",
       "      <th>3-Hydroxybutyrate</th>\n",
       "      <th>3-Hydroxyisovalerate</th>\n",
       "      <th>3-Indoxylsulfate</th>\n",
       "      <th>4-Hydroxyphenylacetate</th>\n",
       "      <th>...</th>\n",
       "      <th>Tryptophan</th>\n",
       "      <th>Tyrosine</th>\n",
       "      <th>Uracil</th>\n",
       "      <th>Valine</th>\n",
       "      <th>Xylose</th>\n",
       "      <th>cis-Aconitate</th>\n",
       "      <th>myo-Inositol</th>\n",
       "      <th>trans-Aconitate</th>\n",
       "      <th>pi-Methylhistidine</th>\n",
       "      <th>tau-Methylhistidine</th>\n",
       "    </tr>\n",
       "  </thead>\n",
       "  <tbody>\n",
       "    <tr>\n",
       "      <th>1.6-Anhydro-beta-D-glucose</th>\n",
       "      <td>1.000000</td>\n",
       "      <td>0.058737</td>\n",
       "      <td>0.261133</td>\n",
       "      <td>0.502000</td>\n",
       "      <td>-0.011638</td>\n",
       "      <td>0.066444</td>\n",
       "      <td>0.213141</td>\n",
       "      <td>0.315203</td>\n",
       "      <td>0.284076</td>\n",
       "      <td>0.362212</td>\n",
       "      <td>...</td>\n",
       "      <td>0.477076</td>\n",
       "      <td>0.405719</td>\n",
       "      <td>0.076550</td>\n",
       "      <td>0.274734</td>\n",
       "      <td>0.239883</td>\n",
       "      <td>0.228877</td>\n",
       "      <td>0.034422</td>\n",
       "      <td>0.227732</td>\n",
       "      <td>0.283274</td>\n",
       "      <td>0.305215</td>\n",
       "    </tr>\n",
       "    <tr>\n",
       "      <th>1-Methylnicotinamide</th>\n",
       "      <td>0.058737</td>\n",
       "      <td>1.000000</td>\n",
       "      <td>0.001473</td>\n",
       "      <td>0.319200</td>\n",
       "      <td>0.070344</td>\n",
       "      <td>0.020080</td>\n",
       "      <td>0.143886</td>\n",
       "      <td>0.353414</td>\n",
       "      <td>0.350952</td>\n",
       "      <td>0.193748</td>\n",
       "      <td>...</td>\n",
       "      <td>0.193252</td>\n",
       "      <td>0.213351</td>\n",
       "      <td>0.153604</td>\n",
       "      <td>0.265853</td>\n",
       "      <td>0.073942</td>\n",
       "      <td>0.174632</td>\n",
       "      <td>0.217717</td>\n",
       "      <td>0.363028</td>\n",
       "      <td>0.101935</td>\n",
       "      <td>0.209146</td>\n",
       "    </tr>\n",
       "    <tr>\n",
       "      <th>2-Aminobutyrate</th>\n",
       "      <td>0.261133</td>\n",
       "      <td>0.001473</td>\n",
       "      <td>1.000000</td>\n",
       "      <td>0.386207</td>\n",
       "      <td>0.267917</td>\n",
       "      <td>0.312870</td>\n",
       "      <td>0.602727</td>\n",
       "      <td>0.111230</td>\n",
       "      <td>0.318236</td>\n",
       "      <td>0.288714</td>\n",
       "      <td>...</td>\n",
       "      <td>0.442360</td>\n",
       "      <td>0.455340</td>\n",
       "      <td>0.051508</td>\n",
       "      <td>0.394220</td>\n",
       "      <td>0.044776</td>\n",
       "      <td>0.623086</td>\n",
       "      <td>0.333103</td>\n",
       "      <td>0.232460</td>\n",
       "      <td>0.165093</td>\n",
       "      <td>0.356491</td>\n",
       "    </tr>\n",
       "    <tr>\n",
       "      <th>2-Hydroxyisobutyrate</th>\n",
       "      <td>0.502000</td>\n",
       "      <td>0.319200</td>\n",
       "      <td>0.386207</td>\n",
       "      <td>1.000000</td>\n",
       "      <td>0.390898</td>\n",
       "      <td>0.137614</td>\n",
       "      <td>0.523609</td>\n",
       "      <td>0.423808</td>\n",
       "      <td>0.387808</td>\n",
       "      <td>0.442970</td>\n",
       "      <td>...</td>\n",
       "      <td>0.616427</td>\n",
       "      <td>0.460935</td>\n",
       "      <td>0.365786</td>\n",
       "      <td>0.616313</td>\n",
       "      <td>0.283124</td>\n",
       "      <td>0.492954</td>\n",
       "      <td>0.521393</td>\n",
       "      <td>0.532692</td>\n",
       "      <td>0.242757</td>\n",
       "      <td>0.542963</td>\n",
       "    </tr>\n",
       "    <tr>\n",
       "      <th>2-Oxoglutarate</th>\n",
       "      <td>-0.011638</td>\n",
       "      <td>0.070344</td>\n",
       "      <td>0.267917</td>\n",
       "      <td>0.390898</td>\n",
       "      <td>1.000000</td>\n",
       "      <td>0.107302</td>\n",
       "      <td>0.463864</td>\n",
       "      <td>0.081948</td>\n",
       "      <td>0.088126</td>\n",
       "      <td>0.269571</td>\n",
       "      <td>...</td>\n",
       "      <td>0.326844</td>\n",
       "      <td>0.196630</td>\n",
       "      <td>0.464388</td>\n",
       "      <td>0.276786</td>\n",
       "      <td>0.001352</td>\n",
       "      <td>0.620086</td>\n",
       "      <td>0.226030</td>\n",
       "      <td>0.045211</td>\n",
       "      <td>0.121393</td>\n",
       "      <td>0.423475</td>\n",
       "    </tr>\n",
       "    <tr>\n",
       "      <th>...</th>\n",
       "      <td>...</td>\n",
       "      <td>...</td>\n",
       "      <td>...</td>\n",
       "      <td>...</td>\n",
       "      <td>...</td>\n",
       "      <td>...</td>\n",
       "      <td>...</td>\n",
       "      <td>...</td>\n",
       "      <td>...</td>\n",
       "      <td>...</td>\n",
       "      <td>...</td>\n",
       "      <td>...</td>\n",
       "      <td>...</td>\n",
       "      <td>...</td>\n",
       "      <td>...</td>\n",
       "      <td>...</td>\n",
       "      <td>...</td>\n",
       "      <td>...</td>\n",
       "      <td>...</td>\n",
       "      <td>...</td>\n",
       "      <td>...</td>\n",
       "    </tr>\n",
       "    <tr>\n",
       "      <th>cis-Aconitate</th>\n",
       "      <td>0.228877</td>\n",
       "      <td>0.174632</td>\n",
       "      <td>0.623086</td>\n",
       "      <td>0.492954</td>\n",
       "      <td>0.620086</td>\n",
       "      <td>0.280719</td>\n",
       "      <td>0.788881</td>\n",
       "      <td>0.493663</td>\n",
       "      <td>0.442458</td>\n",
       "      <td>0.375749</td>\n",
       "      <td>...</td>\n",
       "      <td>0.534450</td>\n",
       "      <td>0.693191</td>\n",
       "      <td>0.489057</td>\n",
       "      <td>0.620082</td>\n",
       "      <td>0.131992</td>\n",
       "      <td>1.000000</td>\n",
       "      <td>0.234888</td>\n",
       "      <td>0.347724</td>\n",
       "      <td>0.246590</td>\n",
       "      <td>0.555248</td>\n",
       "    </tr>\n",
       "    <tr>\n",
       "      <th>myo-Inositol</th>\n",
       "      <td>0.034422</td>\n",
       "      <td>0.217717</td>\n",
       "      <td>0.333103</td>\n",
       "      <td>0.521393</td>\n",
       "      <td>0.226030</td>\n",
       "      <td>0.050170</td>\n",
       "      <td>0.327568</td>\n",
       "      <td>0.247363</td>\n",
       "      <td>0.187753</td>\n",
       "      <td>0.308272</td>\n",
       "      <td>...</td>\n",
       "      <td>0.303620</td>\n",
       "      <td>0.275511</td>\n",
       "      <td>0.196810</td>\n",
       "      <td>0.520342</td>\n",
       "      <td>0.035814</td>\n",
       "      <td>0.234888</td>\n",
       "      <td>1.000000</td>\n",
       "      <td>0.298212</td>\n",
       "      <td>0.087485</td>\n",
       "      <td>0.167867</td>\n",
       "    </tr>\n",
       "    <tr>\n",
       "      <th>trans-Aconitate</th>\n",
       "      <td>0.227732</td>\n",
       "      <td>0.363028</td>\n",
       "      <td>0.232460</td>\n",
       "      <td>0.532692</td>\n",
       "      <td>0.045211</td>\n",
       "      <td>0.157105</td>\n",
       "      <td>0.443377</td>\n",
       "      <td>0.562218</td>\n",
       "      <td>0.453476</td>\n",
       "      <td>0.519558</td>\n",
       "      <td>...</td>\n",
       "      <td>0.393377</td>\n",
       "      <td>0.469261</td>\n",
       "      <td>0.299285</td>\n",
       "      <td>0.586871</td>\n",
       "      <td>0.152449</td>\n",
       "      <td>0.347724</td>\n",
       "      <td>0.298212</td>\n",
       "      <td>1.000000</td>\n",
       "      <td>0.043348</td>\n",
       "      <td>0.284674</td>\n",
       "    </tr>\n",
       "    <tr>\n",
       "      <th>pi-Methylhistidine</th>\n",
       "      <td>0.283274</td>\n",
       "      <td>0.101935</td>\n",
       "      <td>0.165093</td>\n",
       "      <td>0.242757</td>\n",
       "      <td>0.121393</td>\n",
       "      <td>0.035706</td>\n",
       "      <td>0.122016</td>\n",
       "      <td>0.318782</td>\n",
       "      <td>0.110577</td>\n",
       "      <td>0.157999</td>\n",
       "      <td>...</td>\n",
       "      <td>0.274903</td>\n",
       "      <td>0.308888</td>\n",
       "      <td>0.323873</td>\n",
       "      <td>0.320151</td>\n",
       "      <td>-0.042070</td>\n",
       "      <td>0.246590</td>\n",
       "      <td>0.087485</td>\n",
       "      <td>0.043348</td>\n",
       "      <td>1.000000</td>\n",
       "      <td>0.560223</td>\n",
       "    </tr>\n",
       "    <tr>\n",
       "      <th>tau-Methylhistidine</th>\n",
       "      <td>0.305215</td>\n",
       "      <td>0.209146</td>\n",
       "      <td>0.356491</td>\n",
       "      <td>0.542963</td>\n",
       "      <td>0.423475</td>\n",
       "      <td>0.217209</td>\n",
       "      <td>0.488435</td>\n",
       "      <td>0.396623</td>\n",
       "      <td>0.278144</td>\n",
       "      <td>0.232352</td>\n",
       "      <td>...</td>\n",
       "      <td>0.419729</td>\n",
       "      <td>0.451684</td>\n",
       "      <td>0.396324</td>\n",
       "      <td>0.497842</td>\n",
       "      <td>0.087570</td>\n",
       "      <td>0.555248</td>\n",
       "      <td>0.167867</td>\n",
       "      <td>0.284674</td>\n",
       "      <td>0.560223</td>\n",
       "      <td>1.000000</td>\n",
       "    </tr>\n",
       "  </tbody>\n",
       "</table>\n",
       "<p>63 rows × 63 columns</p>\n",
       "</div>"
      ],
      "text/plain": [
       "                            1.6-Anhydro-beta-D-glucose  1-Methylnicotinamide  \\\n",
       "1.6-Anhydro-beta-D-glucose                    1.000000              0.058737   \n",
       "1-Methylnicotinamide                          0.058737              1.000000   \n",
       "2-Aminobutyrate                               0.261133              0.001473   \n",
       "2-Hydroxyisobutyrate                          0.502000              0.319200   \n",
       "2-Oxoglutarate                               -0.011638              0.070344   \n",
       "...                                                ...                   ...   \n",
       "cis-Aconitate                                 0.228877              0.174632   \n",
       "myo-Inositol                                  0.034422              0.217717   \n",
       "trans-Aconitate                               0.227732              0.363028   \n",
       "pi-Methylhistidine                            0.283274              0.101935   \n",
       "tau-Methylhistidine                           0.305215              0.209146   \n",
       "\n",
       "                            2-Aminobutyrate  2-Hydroxyisobutyrate  \\\n",
       "1.6-Anhydro-beta-D-glucose         0.261133              0.502000   \n",
       "1-Methylnicotinamide               0.001473              0.319200   \n",
       "2-Aminobutyrate                    1.000000              0.386207   \n",
       "2-Hydroxyisobutyrate               0.386207              1.000000   \n",
       "2-Oxoglutarate                     0.267917              0.390898   \n",
       "...                                     ...                   ...   \n",
       "cis-Aconitate                      0.623086              0.492954   \n",
       "myo-Inositol                       0.333103              0.521393   \n",
       "trans-Aconitate                    0.232460              0.532692   \n",
       "pi-Methylhistidine                 0.165093              0.242757   \n",
       "tau-Methylhistidine                0.356491              0.542963   \n",
       "\n",
       "                            2-Oxoglutarate  3-Aminoisobutyrate  \\\n",
       "1.6-Anhydro-beta-D-glucose       -0.011638            0.066444   \n",
       "1-Methylnicotinamide              0.070344            0.020080   \n",
       "2-Aminobutyrate                   0.267917            0.312870   \n",
       "2-Hydroxyisobutyrate              0.390898            0.137614   \n",
       "2-Oxoglutarate                    1.000000            0.107302   \n",
       "...                                    ...                 ...   \n",
       "cis-Aconitate                     0.620086            0.280719   \n",
       "myo-Inositol                      0.226030            0.050170   \n",
       "trans-Aconitate                   0.045211            0.157105   \n",
       "pi-Methylhistidine                0.121393            0.035706   \n",
       "tau-Methylhistidine               0.423475            0.217209   \n",
       "\n",
       "                            3-Hydroxybutyrate  3-Hydroxyisovalerate  \\\n",
       "1.6-Anhydro-beta-D-glucose           0.213141              0.315203   \n",
       "1-Methylnicotinamide                 0.143886              0.353414   \n",
       "2-Aminobutyrate                      0.602727              0.111230   \n",
       "2-Hydroxyisobutyrate                 0.523609              0.423808   \n",
       "2-Oxoglutarate                       0.463864              0.081948   \n",
       "...                                       ...                   ...   \n",
       "cis-Aconitate                        0.788881              0.493663   \n",
       "myo-Inositol                         0.327568              0.247363   \n",
       "trans-Aconitate                      0.443377              0.562218   \n",
       "pi-Methylhistidine                   0.122016              0.318782   \n",
       "tau-Methylhistidine                  0.488435              0.396623   \n",
       "\n",
       "                            3-Indoxylsulfate  4-Hydroxyphenylacetate  ...  \\\n",
       "1.6-Anhydro-beta-D-glucose          0.284076                0.362212  ...   \n",
       "1-Methylnicotinamide                0.350952                0.193748  ...   \n",
       "2-Aminobutyrate                     0.318236                0.288714  ...   \n",
       "2-Hydroxyisobutyrate                0.387808                0.442970  ...   \n",
       "2-Oxoglutarate                      0.088126                0.269571  ...   \n",
       "...                                      ...                     ...  ...   \n",
       "cis-Aconitate                       0.442458                0.375749  ...   \n",
       "myo-Inositol                        0.187753                0.308272  ...   \n",
       "trans-Aconitate                     0.453476                0.519558  ...   \n",
       "pi-Methylhistidine                  0.110577                0.157999  ...   \n",
       "tau-Methylhistidine                 0.278144                0.232352  ...   \n",
       "\n",
       "                            Tryptophan  Tyrosine    Uracil    Valine  \\\n",
       "1.6-Anhydro-beta-D-glucose    0.477076  0.405719  0.076550  0.274734   \n",
       "1-Methylnicotinamide          0.193252  0.213351  0.153604  0.265853   \n",
       "2-Aminobutyrate               0.442360  0.455340  0.051508  0.394220   \n",
       "2-Hydroxyisobutyrate          0.616427  0.460935  0.365786  0.616313   \n",
       "2-Oxoglutarate                0.326844  0.196630  0.464388  0.276786   \n",
       "...                                ...       ...       ...       ...   \n",
       "cis-Aconitate                 0.534450  0.693191  0.489057  0.620082   \n",
       "myo-Inositol                  0.303620  0.275511  0.196810  0.520342   \n",
       "trans-Aconitate               0.393377  0.469261  0.299285  0.586871   \n",
       "pi-Methylhistidine            0.274903  0.308888  0.323873  0.320151   \n",
       "tau-Methylhistidine           0.419729  0.451684  0.396324  0.497842   \n",
       "\n",
       "                              Xylose  cis-Aconitate  myo-Inositol  \\\n",
       "1.6-Anhydro-beta-D-glucose  0.239883       0.228877      0.034422   \n",
       "1-Methylnicotinamide        0.073942       0.174632      0.217717   \n",
       "2-Aminobutyrate             0.044776       0.623086      0.333103   \n",
       "2-Hydroxyisobutyrate        0.283124       0.492954      0.521393   \n",
       "2-Oxoglutarate              0.001352       0.620086      0.226030   \n",
       "...                              ...            ...           ...   \n",
       "cis-Aconitate               0.131992       1.000000      0.234888   \n",
       "myo-Inositol                0.035814       0.234888      1.000000   \n",
       "trans-Aconitate             0.152449       0.347724      0.298212   \n",
       "pi-Methylhistidine         -0.042070       0.246590      0.087485   \n",
       "tau-Methylhistidine         0.087570       0.555248      0.167867   \n",
       "\n",
       "                            trans-Aconitate  pi-Methylhistidine  \\\n",
       "1.6-Anhydro-beta-D-glucose         0.227732            0.283274   \n",
       "1-Methylnicotinamide               0.363028            0.101935   \n",
       "2-Aminobutyrate                    0.232460            0.165093   \n",
       "2-Hydroxyisobutyrate               0.532692            0.242757   \n",
       "2-Oxoglutarate                     0.045211            0.121393   \n",
       "...                                     ...                 ...   \n",
       "cis-Aconitate                      0.347724            0.246590   \n",
       "myo-Inositol                       0.298212            0.087485   \n",
       "trans-Aconitate                    1.000000            0.043348   \n",
       "pi-Methylhistidine                 0.043348            1.000000   \n",
       "tau-Methylhistidine                0.284674            0.560223   \n",
       "\n",
       "                            tau-Methylhistidine  \n",
       "1.6-Anhydro-beta-D-glucose             0.305215  \n",
       "1-Methylnicotinamide                   0.209146  \n",
       "2-Aminobutyrate                        0.356491  \n",
       "2-Hydroxyisobutyrate                   0.542963  \n",
       "2-Oxoglutarate                         0.423475  \n",
       "...                                         ...  \n",
       "cis-Aconitate                          0.555248  \n",
       "myo-Inositol                           0.167867  \n",
       "trans-Aconitate                        0.284674  \n",
       "pi-Methylhistidine                     0.560223  \n",
       "tau-Methylhistidine                    1.000000  \n",
       "\n",
       "[63 rows x 63 columns]"
      ]
     },
     "execution_count": 32,
     "metadata": {},
     "output_type": "execute_result"
    }
   ],
   "source": [
    "corr_matrix = data.corr()\n",
    "corr_matrix"
   ]
  },
  {
   "cell_type": "code",
   "execution_count": 33,
   "metadata": {
    "pycharm": {
     "name": "#%%\n"
    }
   },
   "outputs": [
    {
     "data": {
      "text/plain": [
       "pandas.core.frame.DataFrame"
      ]
     },
     "execution_count": 33,
     "metadata": {},
     "output_type": "execute_result"
    }
   ],
   "source": [
    "type(corr_matrix)"
   ]
  },
  {
   "cell_type": "code",
   "execution_count": 34,
   "metadata": {
    "pycharm": {
     "name": "#%%\n"
    }
   },
   "outputs": [
    {
     "data": {
      "text/html": [
       "<div>\n",
       "<style scoped>\n",
       "    .dataframe tbody tr th:only-of-type {\n",
       "        vertical-align: middle;\n",
       "    }\n",
       "\n",
       "    .dataframe tbody tr th {\n",
       "        vertical-align: top;\n",
       "    }\n",
       "\n",
       "    .dataframe thead th {\n",
       "        text-align: right;\n",
       "    }\n",
       "</style>\n",
       "<table border=\"1\" class=\"dataframe\">\n",
       "  <thead>\n",
       "    <tr style=\"text-align: right;\">\n",
       "      <th></th>\n",
       "      <th>1.6-Anhydro-beta-D-glucose</th>\n",
       "      <th>1-Methylnicotinamide</th>\n",
       "      <th>2-Aminobutyrate</th>\n",
       "      <th>2-Hydroxyisobutyrate</th>\n",
       "      <th>2-Oxoglutarate</th>\n",
       "      <th>3-Aminoisobutyrate</th>\n",
       "      <th>3-Hydroxybutyrate</th>\n",
       "      <th>3-Hydroxyisovalerate</th>\n",
       "      <th>3-Indoxylsulfate</th>\n",
       "      <th>4-Hydroxyphenylacetate</th>\n",
       "      <th>...</th>\n",
       "      <th>Tryptophan</th>\n",
       "      <th>Tyrosine</th>\n",
       "      <th>Uracil</th>\n",
       "      <th>Valine</th>\n",
       "      <th>Xylose</th>\n",
       "      <th>cis-Aconitate</th>\n",
       "      <th>myo-Inositol</th>\n",
       "      <th>trans-Aconitate</th>\n",
       "      <th>pi-Methylhistidine</th>\n",
       "      <th>tau-Methylhistidine</th>\n",
       "    </tr>\n",
       "  </thead>\n",
       "  <tbody>\n",
       "    <tr>\n",
       "      <th>1.6-Anhydro-beta-D-glucose</th>\n",
       "      <td>1.000000</td>\n",
       "      <td>0.213791</td>\n",
       "      <td>0.393353</td>\n",
       "      <td>0.431107</td>\n",
       "      <td>0.190138</td>\n",
       "      <td>0.362646</td>\n",
       "      <td>0.413739</td>\n",
       "      <td>0.476159</td>\n",
       "      <td>0.456510</td>\n",
       "      <td>0.541459</td>\n",
       "      <td>...</td>\n",
       "      <td>0.535440</td>\n",
       "      <td>0.537393</td>\n",
       "      <td>0.183508</td>\n",
       "      <td>0.485542</td>\n",
       "      <td>0.443694</td>\n",
       "      <td>0.491823</td>\n",
       "      <td>0.268319</td>\n",
       "      <td>0.567942</td>\n",
       "      <td>0.333336</td>\n",
       "      <td>0.339278</td>\n",
       "    </tr>\n",
       "    <tr>\n",
       "      <th>1-Methylnicotinamide</th>\n",
       "      <td>0.213791</td>\n",
       "      <td>1.000000</td>\n",
       "      <td>0.393188</td>\n",
       "      <td>0.636827</td>\n",
       "      <td>0.502639</td>\n",
       "      <td>0.271462</td>\n",
       "      <td>0.603773</td>\n",
       "      <td>0.560133</td>\n",
       "      <td>0.452754</td>\n",
       "      <td>0.499284</td>\n",
       "      <td>...</td>\n",
       "      <td>0.539492</td>\n",
       "      <td>0.452002</td>\n",
       "      <td>0.655150</td>\n",
       "      <td>0.642429</td>\n",
       "      <td>0.573562</td>\n",
       "      <td>0.688882</td>\n",
       "      <td>0.548590</td>\n",
       "      <td>0.459577</td>\n",
       "      <td>0.493338</td>\n",
       "      <td>0.524524</td>\n",
       "    </tr>\n",
       "    <tr>\n",
       "      <th>2-Aminobutyrate</th>\n",
       "      <td>0.393353</td>\n",
       "      <td>0.393188</td>\n",
       "      <td>1.000000</td>\n",
       "      <td>0.498981</td>\n",
       "      <td>0.479472</td>\n",
       "      <td>0.581374</td>\n",
       "      <td>0.629076</td>\n",
       "      <td>0.482654</td>\n",
       "      <td>0.511512</td>\n",
       "      <td>0.460158</td>\n",
       "      <td>...</td>\n",
       "      <td>0.559952</td>\n",
       "      <td>0.618317</td>\n",
       "      <td>0.378080</td>\n",
       "      <td>0.567748</td>\n",
       "      <td>0.401733</td>\n",
       "      <td>0.578391</td>\n",
       "      <td>0.407998</td>\n",
       "      <td>0.520544</td>\n",
       "      <td>0.447989</td>\n",
       "      <td>0.591802</td>\n",
       "    </tr>\n",
       "    <tr>\n",
       "      <th>2-Hydroxyisobutyrate</th>\n",
       "      <td>0.431107</td>\n",
       "      <td>0.636827</td>\n",
       "      <td>0.498981</td>\n",
       "      <td>1.000000</td>\n",
       "      <td>0.596095</td>\n",
       "      <td>0.439205</td>\n",
       "      <td>0.711460</td>\n",
       "      <td>0.605999</td>\n",
       "      <td>0.554724</td>\n",
       "      <td>0.672081</td>\n",
       "      <td>...</td>\n",
       "      <td>0.774912</td>\n",
       "      <td>0.723448</td>\n",
       "      <td>0.628799</td>\n",
       "      <td>0.805676</td>\n",
       "      <td>0.714340</td>\n",
       "      <td>0.763064</td>\n",
       "      <td>0.740098</td>\n",
       "      <td>0.692825</td>\n",
       "      <td>0.526674</td>\n",
       "      <td>0.638895</td>\n",
       "    </tr>\n",
       "    <tr>\n",
       "      <th>2-Oxoglutarate</th>\n",
       "      <td>0.190138</td>\n",
       "      <td>0.502639</td>\n",
       "      <td>0.479472</td>\n",
       "      <td>0.596095</td>\n",
       "      <td>1.000000</td>\n",
       "      <td>0.437903</td>\n",
       "      <td>0.580499</td>\n",
       "      <td>0.293015</td>\n",
       "      <td>0.404922</td>\n",
       "      <td>0.479153</td>\n",
       "      <td>...</td>\n",
       "      <td>0.563615</td>\n",
       "      <td>0.522086</td>\n",
       "      <td>0.652269</td>\n",
       "      <td>0.596582</td>\n",
       "      <td>0.411852</td>\n",
       "      <td>0.625973</td>\n",
       "      <td>0.563596</td>\n",
       "      <td>0.425654</td>\n",
       "      <td>0.557482</td>\n",
       "      <td>0.599155</td>\n",
       "    </tr>\n",
       "    <tr>\n",
       "      <th>...</th>\n",
       "      <td>...</td>\n",
       "      <td>...</td>\n",
       "      <td>...</td>\n",
       "      <td>...</td>\n",
       "      <td>...</td>\n",
       "      <td>...</td>\n",
       "      <td>...</td>\n",
       "      <td>...</td>\n",
       "      <td>...</td>\n",
       "      <td>...</td>\n",
       "      <td>...</td>\n",
       "      <td>...</td>\n",
       "      <td>...</td>\n",
       "      <td>...</td>\n",
       "      <td>...</td>\n",
       "      <td>...</td>\n",
       "      <td>...</td>\n",
       "      <td>...</td>\n",
       "      <td>...</td>\n",
       "      <td>...</td>\n",
       "      <td>...</td>\n",
       "    </tr>\n",
       "    <tr>\n",
       "      <th>cis-Aconitate</th>\n",
       "      <td>0.491823</td>\n",
       "      <td>0.688882</td>\n",
       "      <td>0.578391</td>\n",
       "      <td>0.763064</td>\n",
       "      <td>0.625973</td>\n",
       "      <td>0.522051</td>\n",
       "      <td>0.750574</td>\n",
       "      <td>0.665107</td>\n",
       "      <td>0.624316</td>\n",
       "      <td>0.685012</td>\n",
       "      <td>...</td>\n",
       "      <td>0.760204</td>\n",
       "      <td>0.716129</td>\n",
       "      <td>0.673580</td>\n",
       "      <td>0.861338</td>\n",
       "      <td>0.677572</td>\n",
       "      <td>1.000000</td>\n",
       "      <td>0.613480</td>\n",
       "      <td>0.643595</td>\n",
       "      <td>0.686625</td>\n",
       "      <td>0.754080</td>\n",
       "    </tr>\n",
       "    <tr>\n",
       "      <th>myo-Inositol</th>\n",
       "      <td>0.268319</td>\n",
       "      <td>0.548590</td>\n",
       "      <td>0.407998</td>\n",
       "      <td>0.740098</td>\n",
       "      <td>0.563596</td>\n",
       "      <td>0.435302</td>\n",
       "      <td>0.700047</td>\n",
       "      <td>0.517511</td>\n",
       "      <td>0.525290</td>\n",
       "      <td>0.645951</td>\n",
       "      <td>...</td>\n",
       "      <td>0.677629</td>\n",
       "      <td>0.659590</td>\n",
       "      <td>0.508289</td>\n",
       "      <td>0.752611</td>\n",
       "      <td>0.629287</td>\n",
       "      <td>0.613480</td>\n",
       "      <td>1.000000</td>\n",
       "      <td>0.622045</td>\n",
       "      <td>0.479164</td>\n",
       "      <td>0.538338</td>\n",
       "    </tr>\n",
       "    <tr>\n",
       "      <th>trans-Aconitate</th>\n",
       "      <td>0.567942</td>\n",
       "      <td>0.459577</td>\n",
       "      <td>0.520544</td>\n",
       "      <td>0.692825</td>\n",
       "      <td>0.425654</td>\n",
       "      <td>0.498100</td>\n",
       "      <td>0.716560</td>\n",
       "      <td>0.627119</td>\n",
       "      <td>0.623671</td>\n",
       "      <td>0.746480</td>\n",
       "      <td>...</td>\n",
       "      <td>0.652186</td>\n",
       "      <td>0.692916</td>\n",
       "      <td>0.406347</td>\n",
       "      <td>0.702386</td>\n",
       "      <td>0.653301</td>\n",
       "      <td>0.643595</td>\n",
       "      <td>0.622045</td>\n",
       "      <td>1.000000</td>\n",
       "      <td>0.398379</td>\n",
       "      <td>0.510287</td>\n",
       "    </tr>\n",
       "    <tr>\n",
       "      <th>pi-Methylhistidine</th>\n",
       "      <td>0.333336</td>\n",
       "      <td>0.493338</td>\n",
       "      <td>0.447989</td>\n",
       "      <td>0.526674</td>\n",
       "      <td>0.557482</td>\n",
       "      <td>0.477799</td>\n",
       "      <td>0.542471</td>\n",
       "      <td>0.472058</td>\n",
       "      <td>0.389262</td>\n",
       "      <td>0.455820</td>\n",
       "      <td>...</td>\n",
       "      <td>0.585607</td>\n",
       "      <td>0.569284</td>\n",
       "      <td>0.550082</td>\n",
       "      <td>0.605840</td>\n",
       "      <td>0.410909</td>\n",
       "      <td>0.686625</td>\n",
       "      <td>0.479164</td>\n",
       "      <td>0.398379</td>\n",
       "      <td>1.000000</td>\n",
       "      <td>0.745966</td>\n",
       "    </tr>\n",
       "    <tr>\n",
       "      <th>tau-Methylhistidine</th>\n",
       "      <td>0.339278</td>\n",
       "      <td>0.524524</td>\n",
       "      <td>0.591802</td>\n",
       "      <td>0.638895</td>\n",
       "      <td>0.599155</td>\n",
       "      <td>0.517590</td>\n",
       "      <td>0.644068</td>\n",
       "      <td>0.572597</td>\n",
       "      <td>0.518089</td>\n",
       "      <td>0.549377</td>\n",
       "      <td>...</td>\n",
       "      <td>0.627689</td>\n",
       "      <td>0.672589</td>\n",
       "      <td>0.605401</td>\n",
       "      <td>0.711802</td>\n",
       "      <td>0.530648</td>\n",
       "      <td>0.754080</td>\n",
       "      <td>0.538338</td>\n",
       "      <td>0.510287</td>\n",
       "      <td>0.745966</td>\n",
       "      <td>1.000000</td>\n",
       "    </tr>\n",
       "  </tbody>\n",
       "</table>\n",
       "<p>63 rows × 63 columns</p>\n",
       "</div>"
      ],
      "text/plain": [
       "                            1.6-Anhydro-beta-D-glucose  1-Methylnicotinamide  \\\n",
       "1.6-Anhydro-beta-D-glucose                    1.000000              0.213791   \n",
       "1-Methylnicotinamide                          0.213791              1.000000   \n",
       "2-Aminobutyrate                               0.393353              0.393188   \n",
       "2-Hydroxyisobutyrate                          0.431107              0.636827   \n",
       "2-Oxoglutarate                                0.190138              0.502639   \n",
       "...                                                ...                   ...   \n",
       "cis-Aconitate                                 0.491823              0.688882   \n",
       "myo-Inositol                                  0.268319              0.548590   \n",
       "trans-Aconitate                               0.567942              0.459577   \n",
       "pi-Methylhistidine                            0.333336              0.493338   \n",
       "tau-Methylhistidine                           0.339278              0.524524   \n",
       "\n",
       "                            2-Aminobutyrate  2-Hydroxyisobutyrate  \\\n",
       "1.6-Anhydro-beta-D-glucose         0.393353              0.431107   \n",
       "1-Methylnicotinamide               0.393188              0.636827   \n",
       "2-Aminobutyrate                    1.000000              0.498981   \n",
       "2-Hydroxyisobutyrate               0.498981              1.000000   \n",
       "2-Oxoglutarate                     0.479472              0.596095   \n",
       "...                                     ...                   ...   \n",
       "cis-Aconitate                      0.578391              0.763064   \n",
       "myo-Inositol                       0.407998              0.740098   \n",
       "trans-Aconitate                    0.520544              0.692825   \n",
       "pi-Methylhistidine                 0.447989              0.526674   \n",
       "tau-Methylhistidine                0.591802              0.638895   \n",
       "\n",
       "                            2-Oxoglutarate  3-Aminoisobutyrate  \\\n",
       "1.6-Anhydro-beta-D-glucose        0.190138            0.362646   \n",
       "1-Methylnicotinamide              0.502639            0.271462   \n",
       "2-Aminobutyrate                   0.479472            0.581374   \n",
       "2-Hydroxyisobutyrate              0.596095            0.439205   \n",
       "2-Oxoglutarate                    1.000000            0.437903   \n",
       "...                                    ...                 ...   \n",
       "cis-Aconitate                     0.625973            0.522051   \n",
       "myo-Inositol                      0.563596            0.435302   \n",
       "trans-Aconitate                   0.425654            0.498100   \n",
       "pi-Methylhistidine                0.557482            0.477799   \n",
       "tau-Methylhistidine               0.599155            0.517590   \n",
       "\n",
       "                            3-Hydroxybutyrate  3-Hydroxyisovalerate  \\\n",
       "1.6-Anhydro-beta-D-glucose           0.413739              0.476159   \n",
       "1-Methylnicotinamide                 0.603773              0.560133   \n",
       "2-Aminobutyrate                      0.629076              0.482654   \n",
       "2-Hydroxyisobutyrate                 0.711460              0.605999   \n",
       "2-Oxoglutarate                       0.580499              0.293015   \n",
       "...                                       ...                   ...   \n",
       "cis-Aconitate                        0.750574              0.665107   \n",
       "myo-Inositol                         0.700047              0.517511   \n",
       "trans-Aconitate                      0.716560              0.627119   \n",
       "pi-Methylhistidine                   0.542471              0.472058   \n",
       "tau-Methylhistidine                  0.644068              0.572597   \n",
       "\n",
       "                            3-Indoxylsulfate  4-Hydroxyphenylacetate  ...  \\\n",
       "1.6-Anhydro-beta-D-glucose          0.456510                0.541459  ...   \n",
       "1-Methylnicotinamide                0.452754                0.499284  ...   \n",
       "2-Aminobutyrate                     0.511512                0.460158  ...   \n",
       "2-Hydroxyisobutyrate                0.554724                0.672081  ...   \n",
       "2-Oxoglutarate                      0.404922                0.479153  ...   \n",
       "...                                      ...                     ...  ...   \n",
       "cis-Aconitate                       0.624316                0.685012  ...   \n",
       "myo-Inositol                        0.525290                0.645951  ...   \n",
       "trans-Aconitate                     0.623671                0.746480  ...   \n",
       "pi-Methylhistidine                  0.389262                0.455820  ...   \n",
       "tau-Methylhistidine                 0.518089                0.549377  ...   \n",
       "\n",
       "                            Tryptophan  Tyrosine    Uracil    Valine  \\\n",
       "1.6-Anhydro-beta-D-glucose    0.535440  0.537393  0.183508  0.485542   \n",
       "1-Methylnicotinamide          0.539492  0.452002  0.655150  0.642429   \n",
       "2-Aminobutyrate               0.559952  0.618317  0.378080  0.567748   \n",
       "2-Hydroxyisobutyrate          0.774912  0.723448  0.628799  0.805676   \n",
       "2-Oxoglutarate                0.563615  0.522086  0.652269  0.596582   \n",
       "...                                ...       ...       ...       ...   \n",
       "cis-Aconitate                 0.760204  0.716129  0.673580  0.861338   \n",
       "myo-Inositol                  0.677629  0.659590  0.508289  0.752611   \n",
       "trans-Aconitate               0.652186  0.692916  0.406347  0.702386   \n",
       "pi-Methylhistidine            0.585607  0.569284  0.550082  0.605840   \n",
       "tau-Methylhistidine           0.627689  0.672589  0.605401  0.711802   \n",
       "\n",
       "                              Xylose  cis-Aconitate  myo-Inositol  \\\n",
       "1.6-Anhydro-beta-D-glucose  0.443694       0.491823      0.268319   \n",
       "1-Methylnicotinamide        0.573562       0.688882      0.548590   \n",
       "2-Aminobutyrate             0.401733       0.578391      0.407998   \n",
       "2-Hydroxyisobutyrate        0.714340       0.763064      0.740098   \n",
       "2-Oxoglutarate              0.411852       0.625973      0.563596   \n",
       "...                              ...            ...           ...   \n",
       "cis-Aconitate               0.677572       1.000000      0.613480   \n",
       "myo-Inositol                0.629287       0.613480      1.000000   \n",
       "trans-Aconitate             0.653301       0.643595      0.622045   \n",
       "pi-Methylhistidine          0.410909       0.686625      0.479164   \n",
       "tau-Methylhistidine         0.530648       0.754080      0.538338   \n",
       "\n",
       "                            trans-Aconitate  pi-Methylhistidine  \\\n",
       "1.6-Anhydro-beta-D-glucose         0.567942            0.333336   \n",
       "1-Methylnicotinamide               0.459577            0.493338   \n",
       "2-Aminobutyrate                    0.520544            0.447989   \n",
       "2-Hydroxyisobutyrate               0.692825            0.526674   \n",
       "2-Oxoglutarate                     0.425654            0.557482   \n",
       "...                                     ...                 ...   \n",
       "cis-Aconitate                      0.643595            0.686625   \n",
       "myo-Inositol                       0.622045            0.479164   \n",
       "trans-Aconitate                    1.000000            0.398379   \n",
       "pi-Methylhistidine                 0.398379            1.000000   \n",
       "tau-Methylhistidine                0.510287            0.745966   \n",
       "\n",
       "                            tau-Methylhistidine  \n",
       "1.6-Anhydro-beta-D-glucose             0.339278  \n",
       "1-Methylnicotinamide                   0.524524  \n",
       "2-Aminobutyrate                        0.591802  \n",
       "2-Hydroxyisobutyrate                   0.638895  \n",
       "2-Oxoglutarate                         0.599155  \n",
       "...                                         ...  \n",
       "cis-Aconitate                          0.754080  \n",
       "myo-Inositol                           0.538338  \n",
       "trans-Aconitate                        0.510287  \n",
       "pi-Methylhistidine                     0.745966  \n",
       "tau-Methylhistidine                    1.000000  \n",
       "\n",
       "[63 rows x 63 columns]"
      ]
     },
     "execution_count": 34,
     "metadata": {},
     "output_type": "execute_result"
    }
   ],
   "source": [
    "corr_matrix_sp = data.corr(method = \"spearman\")\n",
    "corr_matrix_sp"
   ]
  },
  {
   "cell_type": "code",
   "execution_count": 35,
   "metadata": {
    "pycharm": {
     "name": "#%%\n"
    }
   },
   "outputs": [
    {
     "data": {
      "image/png": "[encoded data removed]",
      "text/plain": [
       "<Figure size 432x288 with 2 Axes>"
      ]
     },
     "metadata": {
      "needs_background": "light"
     },
     "output_type": "display_data"
    }
   ],
   "source": [
    "import seaborn as sn\n",
    "sn.heatmap(corr_matrix.iloc[1:10,1:10], annot=True)\n",
    "plt.show()"
   ]
  },
  {
   "cell_type": "code",
   "execution_count": 36,
   "metadata": {
    "pycharm": {
     "name": "#%%\n"
    }
   },
   "outputs": [
    {
     "data": {
      "image/png": "[encoded data removed]",
      "text/plain": [
       "<Figure size 432x288 with 2 Axes>"
      ]
     },
     "metadata": {
      "needs_background": "light"
     },
     "output_type": "display_data"
    }
   ],
   "source": [
    "sn.heatmap(corr_matrix.iloc[1:20,1:20], annot=False)\n",
    "plt.show()"
   ]
  },
  {
   "cell_type": "markdown",
   "metadata": {
    "pycharm": {
     "name": "#%% md\n"
    }
   },
   "source": [
    "Análise de variância / regressão linear"
   ]
  },
  {
   "cell_type": "code",
   "execution_count": 37,
   "metadata": {
    "pycharm": {
     "name": "#%%\n"
    }
   },
   "outputs": [
    {
     "data": {
      "text/html": [
       "<div>\n",
       "<style scoped>\n",
       "    .dataframe tbody tr th:only-of-type {\n",
       "        vertical-align: middle;\n",
       "    }\n",
       "\n",
       "    .dataframe tbody tr th {\n",
       "        vertical-align: top;\n",
       "    }\n",
       "\n",
       "    .dataframe thead th {\n",
       "        text-align: right;\n",
       "    }\n",
       "</style>\n",
       "<table border=\"1\" class=\"dataframe\">\n",
       "  <thead>\n",
       "    <tr style=\"text-align: right;\">\n",
       "      <th></th>\n",
       "      <th>df</th>\n",
       "      <th>sum_sq</th>\n",
       "      <th>mean_sq</th>\n",
       "      <th>F</th>\n",
       "      <th>PR(&gt;F)</th>\n",
       "    </tr>\n",
       "  </thead>\n",
       "  <tbody>\n",
       "    <tr>\n",
       "      <th>data.Valine</th>\n",
       "      <td>1.0</td>\n",
       "      <td>27270.744263</td>\n",
       "      <td>27270.744263</td>\n",
       "      <td>258.526482</td>\n",
       "      <td>5.176821e-26</td>\n",
       "    </tr>\n",
       "    <tr>\n",
       "      <th>Residual</th>\n",
       "      <td>75.0</td>\n",
       "      <td>7911.397719</td>\n",
       "      <td>105.485303</td>\n",
       "      <td>NaN</td>\n",
       "      <td>NaN</td>\n",
       "    </tr>\n",
       "  </tbody>\n",
       "</table>\n",
       "</div>"
      ],
      "text/plain": [
       "               df        sum_sq       mean_sq           F        PR(>F)\n",
       "data.Valine   1.0  27270.744263  27270.744263  258.526482  5.176821e-26\n",
       "Residual     75.0   7911.397719    105.485303         NaN           NaN"
      ]
     },
     "execution_count": 37,
     "metadata": {},
     "output_type": "execute_result"
    }
   ],
   "source": [
    "from statsmodels.formula.api import ols\n",
    "from statsmodels.stats.anova import anova_lm\n",
    "\n",
    "lm = ols(\"data.Leucine~data.Valine\", data).fit()\n",
    "anova_lm(lm)\n"
   ]
  },
  {
   "cell_type": "code",
   "execution_count": 38,
   "metadata": {
    "pycharm": {
     "name": "#%%\n"
    }
   },
   "outputs": [
    {
     "data": {
      "text/html": [
       "<table class=\"simpletable\">\n",
       "<caption>OLS Regression Results</caption>\n",
       "<tr>\n",
       "  <th>Dep. Variable:</th>      <td>data.Leucine</td>   <th>  R-squared:         </th> <td>   0.775</td>\n",
       "</tr>\n",
       "<tr>\n",
       "  <th>Model:</th>                   <td>OLS</td>       <th>  Adj. R-squared:    </th> <td>   0.772</td>\n",
       "</tr>\n",
       "<tr>\n",
       "  <th>Method:</th>             <td>Least Squares</td>  <th>  F-statistic:       </th> <td>   258.5</td>\n",
       "</tr>\n",
       "<tr>\n",
       "  <th>Date:</th>             <td>Mon, 26 Sep 2022</td> <th>  Prob (F-statistic):</th> <td>5.18e-26</td>\n",
       "</tr>\n",
       "<tr>\n",
       "  <th>Time:</th>                 <td>16:34:49</td>     <th>  Log-Likelihood:    </th> <td> -287.60</td>\n",
       "</tr>\n",
       "<tr>\n",
       "  <th>No. Observations:</th>      <td>    77</td>      <th>  AIC:               </th> <td>   579.2</td>\n",
       "</tr>\n",
       "<tr>\n",
       "  <th>Df Residuals:</th>          <td>    75</td>      <th>  BIC:               </th> <td>   583.9</td>\n",
       "</tr>\n",
       "<tr>\n",
       "  <th>Df Model:</th>              <td>     1</td>      <th>                     </th>     <td> </td>   \n",
       "</tr>\n",
       "<tr>\n",
       "  <th>Covariance Type:</th>      <td>nonrobust</td>    <th>                     </th>     <td> </td>   \n",
       "</tr>\n",
       "</table>\n",
       "<table class=\"simpletable\">\n",
       "<tr>\n",
       "       <td></td>          <th>coef</th>     <th>std err</th>      <th>t</th>      <th>P>|t|</th>  <th>[0.025</th>    <th>0.975]</th>  \n",
       "</tr>\n",
       "<tr>\n",
       "  <th>Intercept</th>   <td>    1.6132</td> <td>    1.836</td> <td>    0.878</td> <td> 0.382</td> <td>   -2.045</td> <td>    5.271</td>\n",
       "</tr>\n",
       "<tr>\n",
       "  <th>data.Valine</th> <td>    0.6379</td> <td>    0.040</td> <td>   16.079</td> <td> 0.000</td> <td>    0.559</td> <td>    0.717</td>\n",
       "</tr>\n",
       "</table>\n",
       "<table class=\"simpletable\">\n",
       "<tr>\n",
       "  <th>Omnibus:</th>       <td>43.791</td> <th>  Durbin-Watson:     </th> <td>   1.844</td>\n",
       "</tr>\n",
       "<tr>\n",
       "  <th>Prob(Omnibus):</th> <td> 0.000</td> <th>  Jarque-Bera (JB):  </th> <td> 227.747</td>\n",
       "</tr>\n",
       "<tr>\n",
       "  <th>Skew:</th>          <td> 1.550</td> <th>  Prob(JB):          </th> <td>3.51e-50</td>\n",
       "</tr>\n",
       "<tr>\n",
       "  <th>Kurtosis:</th>      <td>10.834</td> <th>  Cond. No.          </th> <td>    72.6</td>\n",
       "</tr>\n",
       "</table><br/><br/>Notes:<br/>[1] Standard Errors assume that the covariance matrix of the errors is correctly specified."
      ],
      "text/plain": [
       "<class 'statsmodels.iolib.summary.Summary'>\n",
       "\"\"\"\n",
       "                            OLS Regression Results                            \n",
       "==============================================================================\n",
       "Dep. Variable:           data.Leucine   R-squared:                       0.775\n",
       "Model:                            OLS   Adj. R-squared:                  0.772\n",
       "Method:                 Least Squares   F-statistic:                     258.5\n",
       "Date:                Mon, 26 Sep 2022   Prob (F-statistic):           5.18e-26\n",
       "Time:                        16:34:49   Log-Likelihood:                -287.60\n",
       "No. Observations:                  77   AIC:                             579.2\n",
       "Df Residuals:                      75   BIC:                             583.9\n",
       "Df Model:                           1                                         \n",
       "Covariance Type:            nonrobust                                         \n",
       "===============================================================================\n",
       "                  coef    std err          t      P>|t|      [0.025      0.975]\n",
       "-------------------------------------------------------------------------------\n",
       "Intercept       1.6132      1.836      0.878      0.382      -2.045       5.271\n",
       "data.Valine     0.6379      0.040     16.079      0.000       0.559       0.717\n",
       "==============================================================================\n",
       "Omnibus:                       43.791   Durbin-Watson:                   1.844\n",
       "Prob(Omnibus):                  0.000   Jarque-Bera (JB):              227.747\n",
       "Skew:                           1.550   Prob(JB):                     3.51e-50\n",
       "Kurtosis:                      10.834   Cond. No.                         72.6\n",
       "==============================================================================\n",
       "\n",
       "Notes:\n",
       "[1] Standard Errors assume that the covariance matrix of the errors is correctly specified.\n",
       "\"\"\""
      ]
     },
     "execution_count": 38,
     "metadata": {},
     "output_type": "execute_result"
    }
   ],
   "source": [
    "lm.summary()"
   ]
  },
  {
   "cell_type": "code",
   "execution_count": 39,
   "metadata": {
    "pycharm": {
     "name": "#%%\n"
    }
   },
   "outputs": [
    {
     "data": {
      "text/plain": [
       "0.7751302998380194"
      ]
     },
     "execution_count": 39,
     "metadata": {},
     "output_type": "execute_result"
    }
   ],
   "source": [
    "lm.rsquared"
   ]
  },
  {
   "cell_type": "code",
   "execution_count": 40,
   "metadata": {
    "pycharm": {
     "name": "#%%\n"
    }
   },
   "outputs": [],
   "source": [
    "lm2 = ols(\"data.Leucine~data.Valine+ data.Glucose\", data).fit()"
   ]
  },
  {
   "cell_type": "code",
   "execution_count": 41,
   "metadata": {
    "pycharm": {
     "name": "#%%\n"
    }
   },
   "outputs": [
    {
     "data": {
      "text/html": [
       "<table class=\"simpletable\">\n",
       "<caption>OLS Regression Results</caption>\n",
       "<tr>\n",
       "  <th>Dep. Variable:</th>      <td>data.Leucine</td>   <th>  R-squared:         </th> <td>   0.777</td>\n",
       "</tr>\n",
       "<tr>\n",
       "  <th>Model:</th>                   <td>OLS</td>       <th>  Adj. R-squared:    </th> <td>   0.771</td>\n",
       "</tr>\n",
       "<tr>\n",
       "  <th>Method:</th>             <td>Least Squares</td>  <th>  F-statistic:       </th> <td>   128.6</td>\n",
       "</tr>\n",
       "<tr>\n",
       "  <th>Date:</th>             <td>Mon, 26 Sep 2022</td> <th>  Prob (F-statistic):</th> <td>8.29e-25</td>\n",
       "</tr>\n",
       "<tr>\n",
       "  <th>Time:</th>                 <td>16:34:49</td>     <th>  Log-Likelihood:    </th> <td> -287.35</td>\n",
       "</tr>\n",
       "<tr>\n",
       "  <th>No. Observations:</th>      <td>    77</td>      <th>  AIC:               </th> <td>   580.7</td>\n",
       "</tr>\n",
       "<tr>\n",
       "  <th>Df Residuals:</th>          <td>    74</td>      <th>  BIC:               </th> <td>   587.7</td>\n",
       "</tr>\n",
       "<tr>\n",
       "  <th>Df Model:</th>              <td>     2</td>      <th>                     </th>     <td> </td>   \n",
       "</tr>\n",
       "<tr>\n",
       "  <th>Covariance Type:</th>      <td>nonrobust</td>    <th>                     </th>     <td> </td>   \n",
       "</tr>\n",
       "</table>\n",
       "<table class=\"simpletable\">\n",
       "<tr>\n",
       "        <td></td>          <th>coef</th>     <th>std err</th>      <th>t</th>      <th>P>|t|</th>  <th>[0.025</th>    <th>0.975]</th>  \n",
       "</tr>\n",
       "<tr>\n",
       "  <th>Intercept</th>    <td>    1.8647</td> <td>    1.879</td> <td>    0.993</td> <td> 0.324</td> <td>   -1.878</td> <td>    5.608</td>\n",
       "</tr>\n",
       "<tr>\n",
       "  <th>data.Valine</th>  <td>    0.6198</td> <td>    0.048</td> <td>   12.995</td> <td> 0.000</td> <td>    0.525</td> <td>    0.715</td>\n",
       "</tr>\n",
       "<tr>\n",
       "  <th>data.Glucose</th> <td>    0.0007</td> <td>    0.001</td> <td>    0.689</td> <td> 0.493</td> <td>   -0.001</td> <td>    0.003</td>\n",
       "</tr>\n",
       "</table>\n",
       "<table class=\"simpletable\">\n",
       "<tr>\n",
       "  <th>Omnibus:</th>       <td>47.059</td> <th>  Durbin-Watson:     </th> <td>   1.873</td>\n",
       "</tr>\n",
       "<tr>\n",
       "  <th>Prob(Omnibus):</th> <td> 0.000</td> <th>  Jarque-Bera (JB):  </th> <td> 246.660</td>\n",
       "</tr>\n",
       "<tr>\n",
       "  <th>Skew:</th>          <td> 1.703</td> <th>  Prob(JB):          </th> <td>2.74e-54</td>\n",
       "</tr>\n",
       "<tr>\n",
       "  <th>Kurtosis:</th>      <td>11.079</td> <th>  Cond. No.          </th> <td>2.38e+03</td>\n",
       "</tr>\n",
       "</table><br/><br/>Notes:<br/>[1] Standard Errors assume that the covariance matrix of the errors is correctly specified.<br/>[2] The condition number is large, 2.38e+03. This might indicate that there are<br/>strong multicollinearity or other numerical problems."
      ],
      "text/plain": [
       "<class 'statsmodels.iolib.summary.Summary'>\n",
       "\"\"\"\n",
       "                            OLS Regression Results                            \n",
       "==============================================================================\n",
       "Dep. Variable:           data.Leucine   R-squared:                       0.777\n",
       "Model:                            OLS   Adj. R-squared:                  0.771\n",
       "Method:                 Least Squares   F-statistic:                     128.6\n",
       "Date:                Mon, 26 Sep 2022   Prob (F-statistic):           8.29e-25\n",
       "Time:                        16:34:49   Log-Likelihood:                -287.35\n",
       "No. Observations:                  77   AIC:                             580.7\n",
       "Df Residuals:                      74   BIC:                             587.7\n",
       "Df Model:                           2                                         \n",
       "Covariance Type:            nonrobust                                         \n",
       "================================================================================\n",
       "                   coef    std err          t      P>|t|      [0.025      0.975]\n",
       "--------------------------------------------------------------------------------\n",
       "Intercept        1.8647      1.879      0.993      0.324      -1.878       5.608\n",
       "data.Valine      0.6198      0.048     12.995      0.000       0.525       0.715\n",
       "data.Glucose     0.0007      0.001      0.689      0.493      -0.001       0.003\n",
       "==============================================================================\n",
       "Omnibus:                       47.059   Durbin-Watson:                   1.873\n",
       "Prob(Omnibus):                  0.000   Jarque-Bera (JB):              246.660\n",
       "Skew:                           1.703   Prob(JB):                     2.74e-54\n",
       "Kurtosis:                      11.079   Cond. No.                     2.38e+03\n",
       "==============================================================================\n",
       "\n",
       "Notes:\n",
       "[1] Standard Errors assume that the covariance matrix of the errors is correctly specified.\n",
       "[2] The condition number is large, 2.38e+03. This might indicate that there are\n",
       "strong multicollinearity or other numerical problems.\n",
       "\"\"\""
      ]
     },
     "execution_count": 41,
     "metadata": {},
     "output_type": "execute_result"
    }
   ],
   "source": [
    "lm2.summary()"
   ]
  },
  {
   "cell_type": "code",
   "execution_count": 42,
   "metadata": {
    "pycharm": {
     "name": "#%%\n"
    }
   },
   "outputs": [],
   "source": [
    "data[\"MuscleLoss\"] = meta[\"Muscle.loss\"]"
   ]
  },
  {
   "cell_type": "code",
   "execution_count": 43,
   "metadata": {
    "pycharm": {
     "name": "#%%\n"
    }
   },
   "outputs": [],
   "source": [
    "lm3 = ols(\"data.Leucine~data.MuscleLoss\", data).fit()"
   ]
  },
  {
   "cell_type": "code",
   "execution_count": 44,
   "metadata": {
    "pycharm": {
     "name": "#%%\n"
    }
   },
   "outputs": [
    {
     "data": {
      "text/html": [
       "<table class=\"simpletable\">\n",
       "<caption>OLS Regression Results</caption>\n",
       "<tr>\n",
       "  <th>Dep. Variable:</th>      <td>data.Leucine</td>   <th>  R-squared:         </th> <td>   0.163</td>\n",
       "</tr>\n",
       "<tr>\n",
       "  <th>Model:</th>                   <td>OLS</td>       <th>  Adj. R-squared:    </th> <td>   0.152</td>\n",
       "</tr>\n",
       "<tr>\n",
       "  <th>Method:</th>             <td>Least Squares</td>  <th>  F-statistic:       </th> <td>   14.62</td>\n",
       "</tr>\n",
       "<tr>\n",
       "  <th>Date:</th>             <td>Mon, 26 Sep 2022</td> <th>  Prob (F-statistic):</th> <td>0.000270</td>\n",
       "</tr>\n",
       "<tr>\n",
       "  <th>Time:</th>                 <td>16:34:49</td>     <th>  Log-Likelihood:    </th> <td> -338.19</td>\n",
       "</tr>\n",
       "<tr>\n",
       "  <th>No. Observations:</th>      <td>    77</td>      <th>  AIC:               </th> <td>   680.4</td>\n",
       "</tr>\n",
       "<tr>\n",
       "  <th>Df Residuals:</th>          <td>    75</td>      <th>  BIC:               </th> <td>   685.1</td>\n",
       "</tr>\n",
       "<tr>\n",
       "  <th>Df Model:</th>              <td>     1</td>      <th>                     </th>     <td> </td>   \n",
       "</tr>\n",
       "<tr>\n",
       "  <th>Covariance Type:</th>      <td>nonrobust</td>    <th>                     </th>     <td> </td>   \n",
       "</tr>\n",
       "</table>\n",
       "<table class=\"simpletable\">\n",
       "<tr>\n",
       "               <td></td>                 <th>coef</th>     <th>std err</th>      <th>t</th>      <th>P>|t|</th>  <th>[0.025</th>    <th>0.975]</th>  \n",
       "</tr>\n",
       "<tr>\n",
       "  <th>Intercept</th>                  <td>   31.2617</td> <td>    2.890</td> <td>   10.817</td> <td> 0.000</td> <td>   25.504</td> <td>   37.019</td>\n",
       "</tr>\n",
       "<tr>\n",
       "  <th>data.MuscleLoss[T.control]</th> <td>  -17.7050</td> <td>    4.630</td> <td>   -3.824</td> <td> 0.000</td> <td>  -26.929</td> <td>   -8.481</td>\n",
       "</tr>\n",
       "</table>\n",
       "<table class=\"simpletable\">\n",
       "<tr>\n",
       "  <th>Omnibus:</th>       <td>40.574</td> <th>  Durbin-Watson:     </th> <td>   1.642</td>\n",
       "</tr>\n",
       "<tr>\n",
       "  <th>Prob(Omnibus):</th> <td> 0.000</td> <th>  Jarque-Bera (JB):  </th> <td>  99.271</td>\n",
       "</tr>\n",
       "<tr>\n",
       "  <th>Skew:</th>          <td> 1.826</td> <th>  Prob(JB):          </th> <td>2.78e-22</td>\n",
       "</tr>\n",
       "<tr>\n",
       "  <th>Kurtosis:</th>      <td> 7.195</td> <th>  Cond. No.          </th> <td>    2.44</td>\n",
       "</tr>\n",
       "</table><br/><br/>Notes:<br/>[1] Standard Errors assume that the covariance matrix of the errors is correctly specified."
      ],
      "text/plain": [
       "<class 'statsmodels.iolib.summary.Summary'>\n",
       "\"\"\"\n",
       "                            OLS Regression Results                            \n",
       "==============================================================================\n",
       "Dep. Variable:           data.Leucine   R-squared:                       0.163\n",
       "Model:                            OLS   Adj. R-squared:                  0.152\n",
       "Method:                 Least Squares   F-statistic:                     14.62\n",
       "Date:                Mon, 26 Sep 2022   Prob (F-statistic):           0.000270\n",
       "Time:                        16:34:49   Log-Likelihood:                -338.19\n",
       "No. Observations:                  77   AIC:                             680.4\n",
       "Df Residuals:                      75   BIC:                             685.1\n",
       "Df Model:                           1                                         \n",
       "Covariance Type:            nonrobust                                         \n",
       "==============================================================================================\n",
       "                                 coef    std err          t      P>|t|      [0.025      0.975]\n",
       "----------------------------------------------------------------------------------------------\n",
       "Intercept                     31.2617      2.890     10.817      0.000      25.504      37.019\n",
       "data.MuscleLoss[T.control]   -17.7050      4.630     -3.824      0.000     -26.929      -8.481\n",
       "==============================================================================\n",
       "Omnibus:                       40.574   Durbin-Watson:                   1.642\n",
       "Prob(Omnibus):                  0.000   Jarque-Bera (JB):               99.271\n",
       "Skew:                           1.826   Prob(JB):                     2.78e-22\n",
       "Kurtosis:                       7.195   Cond. No.                         2.44\n",
       "==============================================================================\n",
       "\n",
       "Notes:\n",
       "[1] Standard Errors assume that the covariance matrix of the errors is correctly specified.\n",
       "\"\"\""
      ]
     },
     "execution_count": 44,
     "metadata": {},
     "output_type": "execute_result"
    }
   ],
   "source": [
    "lm3.summary()"
   ]
  },
  {
   "cell_type": "code",
   "execution_count": null,
   "metadata": {
    "pycharm": {
     "name": "#%%\n"
    }
   },
   "outputs": [],
   "source": []
  }
 ],
 "metadata": {
  "anaconda-cloud": {},
  "kernelspec": {
   "display_name": "Python 3 (ipykernel)",
   "language": "python",
   "name": "python3"
  },
  "language_info": {
   "codemirror_mode": {
    "name": "ipython",
    "version": 3
   },
   "file_extension": ".py",
   "mimetype": "text/x-python",
   "name": "python",
   "nbconvert_exporter": "python",
   "pygments_lexer": "ipython3",
   "version": "3.9.7"
  }
 },
 "nbformat": 4,
 "nbformat_minor": 1
}