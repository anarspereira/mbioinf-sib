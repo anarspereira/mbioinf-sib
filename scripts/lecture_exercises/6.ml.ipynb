{
 "cells": [
  {
   "cell_type": "markdown",
   "metadata": {
    "pycharm": {
     "name": "#%% md\n"
    }
   },
   "source": [
    "## Conceitos e modelos complementares/ avançados de machine learning - exemplos"
   ]
  },
  {
   "cell_type": "markdown",
   "metadata": {
    "pycharm": {
     "name": "#%% md\n"
    }
   },
   "source": [
    "### Carregar os datasets e pre-processamento"
   ]
  },
  {
   "cell_type": "code",
   "execution_count": 1,
   "metadata": {
    "pycharm": {
     "name": "#%%\n"
    }
   },
   "outputs": [
    {
     "name": "stdout",
     "output_type": "stream",
     "text": [
      "(150, 4)\n"
     ]
    }
   ],
   "source": [
    "from sklearn import datasets\n",
    "import numpy as np\n",
    "\n",
    "iris = datasets.load_iris()\n",
    "print(iris.data.shape)"
   ]
  },
  {
   "cell_type": "code",
   "execution_count": 2,
   "metadata": {
    "pycharm": {
     "name": "#%%\n"
    }
   },
   "outputs": [],
   "source": [
    "indices = np.random.permutation(len(iris.data))\n",
    "iris_X_train = iris.data[indices[:-10]]\n",
    "iris_y_train = iris.target[indices[:-10]]\n",
    "iris_X_test = iris.data[indices[-10:]]\n",
    "iris_y_test = iris.target[indices[-10:]]"
   ]
  },
  {
   "cell_type": "code",
   "execution_count": 3,
   "metadata": {
    "pycharm": {
     "name": "#%%\n"
    }
   },
   "outputs": [
    {
     "name": "stdout",
     "output_type": "stream",
     "text": [
      "(1797, 64)\n"
     ]
    }
   ],
   "source": [
    "from sklearn import datasets\n",
    "digits = datasets.load_digits()\n",
    "print(digits.data.shape)"
   ]
  },
  {
   "cell_type": "code",
   "execution_count": 4,
   "metadata": {
    "pycharm": {
     "name": "#%%\n"
    }
   },
   "outputs": [],
   "source": [
    "from sklearn import datasets\n",
    "diabetes = datasets.load_diabetes()\n",
    "diab_X_train = diabetes.data[:-20]\n",
    "diab_X_test = diabetes.data[-20:]\n",
    "diab_y_train = diabetes.target[:-20]\n",
    "diab_y_test = diabetes.target[-20:]"
   ]
  },
  {
   "cell_type": "markdown",
   "metadata": {
    "pycharm": {
     "name": "#%% md\n"
    }
   },
   "source": [
    "Standardização dos dados"
   ]
  },
  {
   "cell_type": "code",
   "execution_count": 5,
   "metadata": {
    "pycharm": {
     "name": "#%%\n"
    }
   },
   "outputs": [],
   "source": [
    "from sklearn.preprocessing import StandardScaler\n",
    "iris_scaler = StandardScaler()\n",
    "iris_scaler.fit(iris_X_train)\n",
    "iris_sc_X_train = iris_scaler.transform(iris_X_train)\n",
    "iris_sc_X_test = iris_scaler.transform(iris_X_test)"
   ]
  },
  {
   "cell_type": "markdown",
   "metadata": {
    "pycharm": {
     "name": "#%% md\n"
    }
   },
   "source": [
    "## SVMs"
   ]
  },
  {
   "cell_type": "code",
   "execution_count": 6,
   "metadata": {
    "pycharm": {
     "name": "#%%\n"
    }
   },
   "outputs": [
    {
     "name": "stdout",
     "output_type": "stream",
     "text": [
      "SVC()\n",
      "Valores previstos:  [2 2 1 0 0 1 2 1 1 2]\n",
      "Valores reais:  [2 2 1 0 0 1 2 1 1 2]\n"
     ]
    }
   ],
   "source": [
    "from sklearn import svm\n",
    "\n",
    "svm_iris = svm.SVC()\n",
    "svm_iris = svm_iris.fit(iris_sc_X_train, iris_y_train)\n",
    "print(svm_iris)\n",
    "\n",
    "print(\"Valores previstos: \" , svm_iris.predict(iris_sc_X_test))\n",
    "print(\"Valores reais: \" , iris_y_test)"
   ]
  },
  {
   "cell_type": "code",
   "execution_count": 7,
   "metadata": {
    "pycharm": {
     "name": "#%%\n"
    }
   },
   "outputs": [
    {
     "name": "stdout",
     "output_type": "stream",
     "text": [
      "SVC(C=100.0, gamma=0.001)\n",
      "[8]\n",
      "8\n"
     ]
    },
    {
     "data": {
      "image/png": "[encoded data removed]",
      "text/plain": [
       "<Figure size 216x216 with 1 Axes>"
      ]
     },
     "metadata": {
      "needs_background": "light"
     },
     "output_type": "display_data"
    }
   ],
   "source": [
    "clf = svm.SVC(gamma=0.001, C=100.)\n",
    "trData_inp = digits.data[:-1]\n",
    "trData_out = digits.target[:-1]\n",
    "\n",
    "svm_model = clf.fit(trData_inp, trData_out)\n",
    "print(svm_model)\n",
    "print(clf.predict([digits.data[-1]]))\n",
    "print(digits.target[-1])\n",
    "\n",
    "import matplotlib.pyplot as plt\n",
    "plt.figure(1, figsize=(3, 3))\n",
    "plt.imshow(digits.images[-1], cmap=plt.cm.gray_r,           \n",
    " interpolation='nearest')\n",
    "plt.show()"
   ]
  },
  {
   "cell_type": "code",
   "execution_count": 8,
   "metadata": {
    "pycharm": {
     "name": "#%%\n"
    }
   },
   "outputs": [
    {
     "name": "stdout",
     "output_type": "stream",
     "text": [
      "SVR(C=100, kernel='linear')\n",
      "Valores previstos:  [179.61733446 155.31912079 163.87920841  99.89105685 170.29423186\n",
      " 131.26891746 238.19169769 105.01797182 121.79320974 125.61703134\n",
      " 201.03922698  76.71706683 134.10335922 120.75495582  65.2368481\n",
      " 180.30941613 121.1293702  132.57166098 184.18155351  64.77051292]\n",
      "Valores reais:  [233.  91. 111. 152. 120.  67. 310.  94. 183.  66. 173.  72.  49.  64.\n",
      "  48. 178. 104. 132. 220.  57.]\n"
     ]
    }
   ],
   "source": [
    "from sklearn.svm import SVR\n",
    "regr_svm = SVR(kernel = \"linear\", C = 100)\n",
    "regr_svm = regr_svm.fit(diab_X_train, diab_y_train)\n",
    "print(regr_svm)\n",
    "pred_diab = regr_svm.predict(diab_X_test)\n",
    "print(\"Valores previstos: \" , pred_diab)\n",
    "print(\"Valores reais: \" , diab_y_test)\n"
   ]
  },
  {
   "cell_type": "markdown",
   "metadata": {
    "pycharm": {
     "name": "#%% md\n"
    }
   },
   "source": [
    "### Estimação do erro"
   ]
  },
  {
   "cell_type": "code",
   "execution_count": 9,
   "metadata": {
    "pycharm": {
     "name": "#%%\n"
    }
   },
   "outputs": [
    {
     "name": "stdout",
     "output_type": "stream",
     "text": [
      "(105, 4) (105,)\n",
      "(45, 4) (45,)\n",
      "1.0\n"
     ]
    }
   ],
   "source": [
    "from sklearn import svm\n",
    "from sklearn.model_selection import cross_val_score, train_test_split\n",
    "\n",
    "iris_X_train, iris_X_test, iris_y_train, iris_y_test = train_test_split(iris.data, iris.target, test_size= 0.3)\n",
    "print(iris_X_train.shape, iris_y_train.shape)\n",
    "print(iris_X_test.shape, iris_y_test.shape)\n",
    "\n",
    "svm_model = svm.SVC(kernel='linear', C=1)\n",
    "svm_model.fit(iris_X_train, iris_y_train)\n",
    "print(svm_model.score(iris_X_test, iris_y_test))\n"
   ]
  },
  {
   "cell_type": "code",
   "execution_count": 10,
   "metadata": {
    "pycharm": {
     "name": "#%%\n"
    }
   },
   "outputs": [
    {
     "name": "stdout",
     "output_type": "stream",
     "text": [
      "[0.96666667 1.         0.96666667 0.96666667 1.        ]\n",
      "0.9800000000000001\n"
     ]
    }
   ],
   "source": [
    "from sklearn.model_selection import cross_val_score\n",
    "\n",
    "scores = cross_val_score(svm_model, iris.data, iris.target, cv = 5)\n",
    "print(scores)\n",
    "print(scores.mean())\n"
   ]
  },
  {
   "cell_type": "code",
   "execution_count": 11,
   "metadata": {
    "pycharm": {
     "name": "#%%\n"
    }
   },
   "outputs": [
    {
     "name": "stdout",
     "output_type": "stream",
     "text": [
      "Funcao scoring: F1\n",
      "[0.96658312 1.         0.96658312 0.96658312 1.        ]\n",
      "0.9799498746867169\n"
     ]
    }
   ],
   "source": [
    "print(\"Funcao scoring: F1\")\n",
    "scores_f1 = cross_val_score(svm_model, iris.data, y = iris.target, scoring = \"f1_weighted\", cv = 5)\n",
    "print(scores_f1)\n",
    "print(scores_f1.mean())\n"
   ]
  },
  {
   "cell_type": "code",
   "execution_count": 12,
   "metadata": {
    "pycharm": {
     "name": "#%%\n"
    }
   },
   "outputs": [
    {
     "name": "stdout",
     "output_type": "stream",
     "text": [
      "0.98\n"
     ]
    }
   ],
   "source": [
    "from sklearn.model_selection import LeaveOneOut\n",
    "loo_cv = LeaveOneOut()\n",
    "scores_loo = cross_val_score(svm_model, iris.data, iris.target, cv=loo_cv)\n",
    "\n",
    "print(scores_loo.mean())\n"
   ]
  },
  {
   "cell_type": "code",
   "execution_count": 13,
   "metadata": {
    "pycharm": {
     "name": "#%%\n"
    }
   },
   "outputs": [
    {
     "name": "stdout",
     "output_type": "stream",
     "text": [
      "[0.14739166 0.12560752 0.18203803 0.12242334 0.15658678]\n",
      "0.14680946577304238\n"
     ]
    }
   ],
   "source": [
    "regr_model1 = SVR()\n",
    "scores_r2 = cross_val_score(regr_model1, diabetes.data, y = diabetes.target, scoring = \"r2\", cv = 5)\n",
    "print(scores_r2)\n",
    "print(scores_r2.mean())"
   ]
  },
  {
   "cell_type": "code",
   "execution_count": 14,
   "metadata": {
    "pycharm": {
     "name": "#%%\n"
    }
   },
   "outputs": [
    {
     "name": "stdout",
     "output_type": "stream",
     "text": [
      "[-0.00149039 -0.06184001  0.00870314 -0.03402417 -0.01126642]\n",
      "-0.019983570466736444\n"
     ]
    }
   ],
   "source": [
    "regr_model2 = SVR(kernel = \"linear\")\n",
    "scores_r2_2 = cross_val_score(regr_model2, diabetes.data, y = diabetes.target, scoring = \"r2\", cv = 5)\n",
    "print(scores_r2_2)\n",
    "print(scores_r2_2.mean())"
   ]
  },
  {
   "cell_type": "code",
   "execution_count": 15,
   "metadata": {
    "pycharm": {
     "name": "#%%\n"
    }
   },
   "outputs": [
    {
     "name": "stdout",
     "output_type": "stream",
     "text": [
      "[0.38527112 0.4772064  0.46589587 0.43557539 0.47379338]\n",
      "0.44754843144591316\n"
     ]
    }
   ],
   "source": [
    "regr_model3 = SVR(kernel = \"linear\", C = 100)\n",
    "scores_r2_3 = cross_val_score(regr_model3, diabetes.data, y = diabetes.target, scoring = \"r2\", cv = 5)\n",
    "print(scores_r2_3)\n",
    "print(scores_r2_3.mean())"
   ]
  },
  {
   "cell_type": "code",
   "execution_count": 16,
   "metadata": {
    "pycharm": {
     "name": "#%%\n"
    }
   },
   "outputs": [
    {
     "name": "stdout",
     "output_type": "stream",
     "text": [
      "[-2995.73609754 -3316.82913438 -3342.73590218 -2961.12281127\n",
      " -3404.93054379]\n",
      "[-44.31909878 -45.48850766 -49.78554522 -44.36873269 -47.95313532]\n"
     ]
    }
   ],
   "source": [
    "scores_mse = cross_val_score(estimator = regr_model3, X= diabetes.data, y= diabetes.target, scoring= \"neg_mean_squared_error\", cv= 5)\n",
    "print (scores_mse)\n",
    "scores_mad = cross_val_score(estimator = regr_model3, X= diabetes.data, scoring = \"neg_mean_absolute_error\", y= diabetes.target, cv= 5)\n",
    "print (scores_mad)\n"
   ]
  },
  {
   "cell_type": "code",
   "execution_count": 17,
   "metadata": {
    "pycharm": {
     "name": "#%%\n"
    }
   },
   "outputs": [
    {
     "name": "stdout",
     "output_type": "stream",
     "text": [
      "Media modelo RBF:  0.13281190620785324\n",
      "Desvio padrao modelo RBF: 0.038594915354014346\n",
      "Media modelo Linear:  0.4417239577095945\n",
      "Desvio padrao modelo Linear: 0.037895102666974295\n"
     ]
    }
   ],
   "source": [
    "from sklearn.model_selection import ShuffleSplit\n",
    "\n",
    "ss = ShuffleSplit(n_splits = 30, test_size=0.3)\n",
    "scores_ss1 = cross_val_score(regr_model1, diabetes.data, y = diabetes.target, scoring = \"r2\", cv = ss)\n",
    "print (\"Media modelo RBF: \", scores_ss1.mean())\n",
    "print (\"Desvio padrao modelo RBF:\", scores_ss1.std())\n",
    "\n",
    "scores_ss2 = cross_val_score(regr_model3, diabetes.data, y = diabetes.target, scoring = \"r2\", cv = ss)\n",
    "print (\"Media modelo Linear: \",scores_ss2.mean())\n",
    "print (\"Desvio padrao modelo Linear:\",scores_ss2.std())"
   ]
  },
  {
   "cell_type": "markdown",
   "metadata": {
    "pycharm": {
     "name": "#%% md\n"
    }
   },
   "source": [
    "### Ensembles"
   ]
  },
  {
   "cell_type": "markdown",
   "metadata": {
    "pycharm": {
     "name": "#%% md\n"
    }
   },
   "source": [
    "Bagging"
   ]
  },
  {
   "cell_type": "code",
   "execution_count": 18,
   "metadata": {
    "pycharm": {
     "name": "#%%\n"
    }
   },
   "outputs": [
    {
     "name": "stdout",
     "output_type": "stream",
     "text": [
      "[0.93333333 0.96666667 0.93333333 0.93333333 1.        ]\n"
     ]
    }
   ],
   "source": [
    "from sklearn.ensemble import BaggingClassifier\n",
    "from sklearn.neighbors import KNeighborsClassifier\n",
    "from sklearn.model_selection import cross_val_score\n",
    "\n",
    "bagged_model = BaggingClassifier(KNeighborsClassifier(), max_samples=0.5, max_features=0.5)\n",
    "\n",
    "scores_bag = cross_val_score(bagged_model, iris.data, iris.target, cv = 5)\n",
    "print (scores_bag)\n"
   ]
  },
  {
   "cell_type": "code",
   "execution_count": 19,
   "metadata": {
    "pycharm": {
     "name": "#%%\n"
    }
   },
   "outputs": [
    {
     "name": "stdout",
     "output_type": "stream",
     "text": [
      "[0.96666667 0.96666667 0.9        0.93333333 0.93333333]\n"
     ]
    }
   ],
   "source": [
    "from sklearn.ensemble import BaggingClassifier\n",
    "from sklearn import tree\n",
    "from sklearn.model_selection import cross_val_score\n",
    "\n",
    "bagged_model2 = BaggingClassifier(tree.DecisionTreeClassifier(), max_samples=0.5, max_features=0.5)\n",
    "\n",
    "scores_bag2 = cross_val_score(bagged_model2, iris.data, iris.target, cv = 5)\n",
    "\n",
    "print(scores_bag2)"
   ]
  },
  {
   "cell_type": "markdown",
   "metadata": {
    "pycharm": {
     "name": "#%% md\n"
    }
   },
   "source": [
    "Random Forests"
   ]
  },
  {
   "cell_type": "code",
   "execution_count": 20,
   "metadata": {
    "pycharm": {
     "name": "#%%\n"
    }
   },
   "outputs": [
    {
     "name": "stdout",
     "output_type": "stream",
     "text": [
      "[0.96666667 0.96666667 0.93333333 0.93333333 1.        ]\n",
      "0.96\n"
     ]
    }
   ],
   "source": [
    "from sklearn.ensemble import RandomForestClassifier\n",
    "\n",
    "rf_model = RandomForestClassifier(n_estimators=100)\n",
    "\n",
    "scores_rf = cross_val_score(rf_model, iris.data, iris.target, cv = 5)\n",
    "\n",
    "print (scores_rf)\n",
    "print (scores_rf.mean())"
   ]
  },
  {
   "cell_type": "code",
   "execution_count": 21,
   "metadata": {
    "pycharm": {
     "name": "#%%\n"
    }
   },
   "outputs": [
    {
     "name": "stdout",
     "output_type": "stream",
     "text": [
      "[0.34024353 0.50669595 0.42497514 0.36762542 0.42902397]\n",
      "0.41371280191290427\n"
     ]
    }
   ],
   "source": [
    "from sklearn.ensemble import RandomForestRegressor\n",
    "\n",
    "rf_regr = RandomForestRegressor()\n",
    "\n",
    "scores_rf2 = cross_val_score(rf_regr, diabetes.data, diabetes.target, cv = 5)\n",
    "\n",
    "print (scores_rf2)\n",
    "print (scores_rf2.mean())"
   ]
  },
  {
   "cell_type": "markdown",
   "metadata": {
    "pycharm": {
     "name": "#%% md\n"
    }
   },
   "source": [
    "Exemplos com boosting"
   ]
  },
  {
   "cell_type": "code",
   "execution_count": 22,
   "metadata": {
    "pycharm": {
     "name": "#%%\n"
    }
   },
   "outputs": [
    {
     "name": "stdout",
     "output_type": "stream",
     "text": [
      "[0.96666667 0.93333333 0.93333333 0.9        1.        ]\n",
      "0.9466666666666665\n"
     ]
    }
   ],
   "source": [
    "from sklearn.ensemble import AdaBoostClassifier\n",
    "\n",
    "ada_tree = AdaBoostClassifier(n_estimators=100)\n",
    "\n",
    "scores_ada = cross_val_score(ada_tree, iris.data, iris.target, cv = 5)\n",
    "\n",
    "print (scores_ada)\n",
    "print (scores_ada.mean())"
   ]
  },
  {
   "cell_type": "code",
   "execution_count": 23,
   "metadata": {
    "pycharm": {
     "name": "#%%\n"
    }
   },
   "outputs": [
    {
     "name": "stdout",
     "output_type": "stream",
     "text": [
      "[0.38894375 0.47685632 0.41545755 0.34264877 0.42196293]\n",
      "0.4091738622092859\n"
     ]
    }
   ],
   "source": [
    "from sklearn.ensemble import AdaBoostRegressor\n",
    "\n",
    "ada_reg = AdaBoostRegressor(n_estimators=100)\n",
    "\n",
    "scores_ada_reg = cross_val_score(ada_reg, diabetes.data, diabetes.target, cv = 5)\n",
    "\n",
    "print (scores_ada_reg)\n",
    "print (scores_ada_reg.mean())"
   ]
  },
  {
   "cell_type": "markdown",
   "metadata": {
    "pycharm": {
     "name": "#%% md\n"
    }
   },
   "source": [
    "Gradient boosting"
   ]
  },
  {
   "cell_type": "code",
   "execution_count": 24,
   "metadata": {
    "pycharm": {
     "name": "#%%\n"
    }
   },
   "outputs": [
    {
     "name": "stdout",
     "output_type": "stream",
     "text": [
      "MSE: 2383.6\n",
      "[0.36776872 0.4967016  0.39154611 0.32516094 0.40390455]\n",
      "0.3970163825004532\n"
     ]
    }
   ],
   "source": [
    "from sklearn import ensemble\n",
    "from sklearn.metrics import mean_squared_error\n",
    "\n",
    "params = {'n_estimators': 500, 'max_depth': 4, 'min_samples_split': 2,\n",
    "          'learning_rate': 0.01, 'loss': 'ls'}\n",
    "clf = ensemble.GradientBoostingRegressor(**params)\n",
    "clf.fit(diab_X_train, diab_y_train)\n",
    "mse = mean_squared_error(diab_y_test, clf.predict(diab_X_test))\n",
    "print(\"MSE: %.1f\" % mse)\n",
    "\n",
    "scores_r2 = cross_val_score(estimator = clf, X= diabetes.data, scoring = \"r2\", y = diabetes.target)\n",
    "print(scores_r2)\n",
    "print(scores_r2.mean())"
   ]
  },
  {
   "cell_type": "markdown",
   "metadata": {
    "pycharm": {
     "name": "#%% md\n"
    }
   },
   "source": [
    "Voting classifiers"
   ]
  },
  {
   "cell_type": "code",
   "execution_count": 25,
   "metadata": {
    "pycharm": {
     "name": "#%%\n"
    }
   },
   "outputs": [
    {
     "name": "stdout",
     "output_type": "stream",
     "text": [
      "Accur.: 0.96 (std 0.04) [Logistic]\n",
      "Accur.: 0.97 (std 0.02) [RF]\n",
      "Accur.: 0.95 (std 0.03) [NB]\n",
      "Accur.: 0.95 (std 0.03) [Ensemble]\n"
     ]
    }
   ],
   "source": [
    "## classificadores distintos; votação simples\n",
    "from sklearn.linear_model import LogisticRegression\n",
    "from sklearn.naive_bayes import GaussianNB\n",
    "from sklearn.ensemble import RandomForestClassifier\n",
    "from sklearn.ensemble import VotingClassifier\n",
    "\n",
    "clf1 = LogisticRegression(solver='lbfgs', multi_class='multinomial', random_state=1)\n",
    "clf2 = RandomForestClassifier(n_estimators=50, random_state=1)\n",
    "clf3 = GaussianNB()\n",
    "eclf = VotingClassifier(estimators=[('lr', clf1), ('rf', clf2), ('gnb', clf3)], voting='hard')\n",
    "\n",
    "iris_scaler = StandardScaler()\n",
    "iris_scaler.fit(iris.data)\n",
    "iris_sc = iris_scaler.transform(iris.data)\n",
    "\n",
    "for clf, label in zip([clf1, clf2, clf3, eclf], ['Logistic', \"RF\", \"NB\", 'Ensemble']):\n",
    "    scores = cross_val_score(clf, iris_sc, iris.target, cv=5, scoring='accuracy')\n",
    "    print(\"Accur.: %0.2f (std %0.2f) [%s]\" % (scores.mean(), scores.std(), label))"
   ]
  },
  {
   "cell_type": "code",
   "execution_count": 26,
   "metadata": {
    "pycharm": {
     "name": "#%%\n"
    }
   },
   "outputs": [
    {
     "name": "stdout",
     "output_type": "stream",
     "text": [
      "0.9555555555555556\n"
     ]
    }
   ],
   "source": [
    "## classificadores distintos; votação com pesos\n",
    "from sklearn.model_selection import train_test_split\n",
    "from sklearn.tree import DecisionTreeClassifier\n",
    "from sklearn.neighbors import KNeighborsClassifier\n",
    "from sklearn.svm import SVC\n",
    "\n",
    "iris_X_train, iris_X_test, iris_y_train, iris_y_test = train_test_split(iris_sc, iris.target, test_size= 0.3)\n",
    "\n",
    "clf4 = DecisionTreeClassifier(max_depth=4)\n",
    "clf5 = KNeighborsClassifier(n_neighbors=7)\n",
    "clf6 = SVC(gamma='scale', kernel='rbf', probability=True)\n",
    "eclf = VotingClassifier(estimators=[('dt', clf4), ('knn', clf5), ('svc', clf6)], voting='soft', weights=[1, 2, 3])\n",
    "\n",
    "eclf = eclf.fit(iris_X_train, iris_y_train)\n",
    "print(eclf.score(iris_X_test, iris_y_test))"
   ]
  },
  {
   "cell_type": "markdown",
   "metadata": {
    "pycharm": {
     "name": "#%% md\n"
    }
   },
   "source": [
    "### Seleção de atributos"
   ]
  },
  {
   "cell_type": "markdown",
   "metadata": {
    "pycharm": {
     "name": "#%% md\n"
    }
   },
   "source": [
    "Filtros por variabilidade"
   ]
  },
  {
   "cell_type": "code",
   "execution_count": 27,
   "metadata": {
    "pycharm": {
     "name": "#%%\n"
    }
   },
   "outputs": [
    {
     "name": "stdout",
     "output_type": "stream",
     "text": [
      "(1797, 64)\n",
      "(1797, 53)\n"
     ]
    }
   ],
   "source": [
    "# filtrar features constantes\n",
    "from sklearn import svm\n",
    "from sklearn.feature_selection import VarianceThreshold\n",
    "from sklearn.model_selection import cross_val_score\n",
    "\n",
    "sel_const = VarianceThreshold(threshold=0.1)\n",
    "digits_no_const = sel_const.fit_transform(digits.data)\n",
    "\n",
    "print(digits.data.shape)\n",
    "print (digits_no_const.shape)"
   ]
  },
  {
   "cell_type": "code",
   "execution_count": 28,
   "metadata": {
    "pycharm": {
     "name": "#%%\n"
    }
   },
   "outputs": [
    {
     "name": "stdout",
     "output_type": "stream",
     "text": [
      "0.9810738671632526\n",
      "0.9810738671632526\n"
     ]
    }
   ],
   "source": [
    "svm_mod = svm.SVC(gamma=0.001, C=100.)\n",
    "\n",
    "\n",
    "scores= cross_val_score(svm_mod, digits.data, digits.target, cv= 10)\n",
    "print (scores.mean())\n",
    "\n",
    "scores_vt= cross_val_score(svm_mod, digits_no_const, digits.target, cv= 10)\n",
    "print (scores_vt.mean())"
   ]
  },
  {
   "cell_type": "code",
   "execution_count": 29,
   "metadata": {
    "pycharm": {
     "name": "#%%\n"
    }
   },
   "outputs": [
    {
     "name": "stdout",
     "output_type": "stream",
     "text": [
      "(1797, 29)\n",
      "0.9777405338299193\n"
     ]
    }
   ],
   "source": [
    "sel = VarianceThreshold(threshold=20)\n",
    "filt = sel.fit_transform(digits.data)\n",
    "\n",
    "print (filt.shape)\n",
    "\n",
    "scores_vt= cross_val_score(svm_mod, filt, digits.target, cv= 10)\n",
    "print (scores_vt.mean())"
   ]
  },
  {
   "cell_type": "markdown",
   "metadata": {
    "pycharm": {
     "name": "#%% md\n"
    }
   },
   "source": [
    "Filtros por análise estatística univariada (aplicada a cada variável independenten)"
   ]
  },
  {
   "cell_type": "code",
   "execution_count": 30,
   "metadata": {
    "pycharm": {
     "name": "#%%\n"
    }
   },
   "outputs": [
    {
     "name": "stdout",
     "output_type": "stream",
     "text": [
      "0.9721818746120421\n"
     ]
    }
   ],
   "source": [
    "from sklearn.feature_selection import SelectKBest, chi2, f_classif\n",
    "\n",
    "filt_kb = SelectKBest(chi2, k=30).fit_transform(digits_no_const, digits.target)\n",
    "scores_kb = cross_val_score(svm_mod, filt_kb, digits.target, cv = 10)\n",
    "print (scores_kb.mean())"
   ]
  },
  {
   "cell_type": "code",
   "execution_count": 31,
   "metadata": {
    "pycharm": {
     "name": "#%%\n"
    }
   },
   "outputs": [
    {
     "name": "stdout",
     "output_type": "stream",
     "text": [
      "0.9738578522656735\n"
     ]
    }
   ],
   "source": [
    "filt_kb2 = SelectKBest(f_classif, k=30).fit_transform(digits_no_const, digits.target)\n",
    "scores_kb2 = cross_val_score(svm_mod, filt_kb2, digits.target, cv = 10)\n",
    "print (scores_kb2.mean())"
   ]
  },
  {
   "cell_type": "markdown",
   "metadata": {
    "pycharm": {
     "name": "#%% md\n"
    }
   },
   "source": [
    "Wrapper: recursive feature elimination (RFE)"
   ]
  },
  {
   "cell_type": "code",
   "execution_count": 32,
   "metadata": {
    "pycharm": {
     "name": "#%%\n"
    }
   },
   "outputs": [
    {
     "name": "stdout",
     "output_type": "stream",
     "text": [
      "0.946576660459342\n"
     ]
    }
   ],
   "source": [
    "from sklearn.feature_selection import RFE\n",
    "\n",
    "svm_model = svm.SVC(kernel = \"linear\", C=100.)\n",
    "\n",
    "rfe = RFE(estimator=svm_model, n_features_to_select=30, step=2)\n",
    "\n",
    "scores_rfe = cross_val_score(rfe, digits_no_const, digits.target, cv = 10)\n",
    "print (scores_rfe.mean())"
   ]
  },
  {
   "cell_type": "markdown",
   "metadata": {
    "pycharm": {
     "name": "#%% md\n"
    }
   },
   "source": [
    "### Otimização de hiperparâmetros"
   ]
  },
  {
   "cell_type": "markdown",
   "metadata": {
    "pycharm": {
     "name": "#%% md\n"
    }
   },
   "source": [
    "Procura em grelha"
   ]
  },
  {
   "cell_type": "code",
   "execution_count": 33,
   "metadata": {
    "pycharm": {
     "name": "#%%\n"
    }
   },
   "outputs": [
    {
     "name": "stdout",
     "output_type": "stream",
     "text": [
      "SVC(C=1, gamma=0.001)\n",
      "0.972185082017951\n"
     ]
    }
   ],
   "source": [
    "from sklearn.model_selection import GridSearchCV\n",
    "\n",
    "parameters = {'kernel':('linear', 'rbf'), 'C':[1, 3, 10, 100], 'gamma':[0.01, 0.001]}\n",
    "svm_model_d = svm.SVC( )\n",
    "\n",
    "opt_model_d = GridSearchCV(svm_model_d, parameters, cv = 5)\n",
    "opt_model_d.fit(digits.data, digits.target)\n",
    "print (opt_model_d.best_estimator_)\n",
    "scores_gs = cross_val_score(opt_model_d, digits.data,  digits.target, cv = 5)\n",
    "print (scores_gs.mean())"
   ]
  },
  {
   "cell_type": "markdown",
   "metadata": {
    "pycharm": {
     "name": "#%% md\n"
    }
   },
   "source": [
    "Procura aleatória"
   ]
  },
  {
   "cell_type": "code",
   "execution_count": 34,
   "metadata": {
    "pycharm": {
     "name": "#%%\n"
    }
   },
   "outputs": [],
   "source": [
    "def report(results, n_top=3):\n",
    "    for i in range(1, n_top + 1):\n",
    "        candidates = np.flatnonzero(results['rank_test_score'] == i)\n",
    "        for candidate in candidates:\n",
    "            print(\"Model with rank: {0}\".format(i))\n",
    "            print(\"Mean validation score: {0:.3f} (std: {1:.3f})\".format(\n",
    "                  results['mean_test_score'][candidate],\n",
    "                  results['std_test_score'][candidate]))\n",
    "            print(\"Parameters: {0}\".format(results['params'][candidate]))\n",
    "            print(\"\")"
   ]
  },
  {
   "cell_type": "code",
   "execution_count": 35,
   "metadata": {
    "pycharm": {
     "name": "#%%\n"
    }
   },
   "outputs": [
    {
     "name": "stdout",
     "output_type": "stream",
     "text": [
      "SVC(C=30, gamma=0.001)\n",
      "Model with rank: 1\n",
      "Mean validation score: 0.972 (std: 0.013)\n",
      "Parameters: {'kernel': 'rbf', 'gamma': 0.001, 'C': 30}\n",
      "\n",
      "Model with rank: 1\n",
      "Mean validation score: 0.972 (std: 0.013)\n",
      "Parameters: {'kernel': 'rbf', 'gamma': 0.001, 'C': 10}\n",
      "\n",
      "Model with rank: 1\n",
      "Mean validation score: 0.972 (std: 0.013)\n",
      "Parameters: {'kernel': 'rbf', 'gamma': 0.001, 'C': 3}\n",
      "\n",
      " 0.973\n"
     ]
    }
   ],
   "source": [
    "from sklearn.model_selection import RandomizedSearchCV\n",
    "\n",
    "parameters = {'kernel':('linear', 'rbf'), 'C':[0.1, 0.5, 1, 3, 10, 30, 100, 1000], 'gamma':[0.1, 0.01, 0.05, 0.001]}\n",
    "\n",
    "\n",
    "rand_search = RandomizedSearchCV(svm_model_d, param_distributions=parameters, n_iter=20, cv = 5)\n",
    "\n",
    "rand_search.fit(digits.data, digits.target)\n",
    "\n",
    "print (rand_search.best_estimator_)\n",
    "report(rand_search.cv_results_)\n",
    "\n",
    "scores_rs = cross_val_score(rand_search, digits.data, digits.target, cv = 5)\n",
    "print (\"% .3f\" %scores_rs.mean())"
   ]
  },
  {
   "cell_type": "code",
   "execution_count": 36,
   "metadata": {
    "pycharm": {
     "name": "#%%\n"
    }
   },
   "outputs": [
    {
     "name": "stdout",
     "output_type": "stream",
     "text": [
      "RandomForestClassifier(bootstrap=False, max_features=4, min_samples_leaf=2)\n",
      "Model with rank: 1\n",
      "Mean validation score: 0.940 (std: 0.018)\n",
      "Parameters: {'min_samples_split': 2, 'min_samples_leaf': 2, 'max_features': 4, 'max_depth': None, 'criterion': 'gini', 'bootstrap': False}\n",
      "\n",
      "Model with rank: 2\n",
      "Mean validation score: 0.938 (std: 0.022)\n",
      "Parameters: {'min_samples_split': 4, 'min_samples_leaf': 2, 'max_features': 4, 'max_depth': None, 'criterion': 'gini', 'bootstrap': False}\n",
      "\n",
      "Model with rank: 3\n",
      "Mean validation score: 0.933 (std: 0.019)\n",
      "Parameters: {'min_samples_split': 2, 'min_samples_leaf': 6, 'max_features': 4, 'max_depth': None, 'criterion': 'entropy', 'bootstrap': False}\n",
      "\n",
      " 0.940\n"
     ]
    }
   ],
   "source": [
    "from sklearn.model_selection import RandomizedSearchCV\n",
    "from sklearn.ensemble import RandomForestClassifier\n",
    "\n",
    "rf_model = RandomForestClassifier(n_estimators=100)\n",
    "\n",
    "param_dist = {\"max_depth\": [2, 3, None], \"max_features\": [2,4,6], \"min_samples_split\": [2,4,6],\n",
    "              \"min_samples_leaf\": [2,4,6], \"bootstrap\": [True, False], \"criterion\": [\"gini\", \"entropy\"]}\n",
    "\n",
    "rand_search = RandomizedSearchCV(rf_model, param_distributions=param_dist, n_iter=20, cv = 5)\n",
    "\n",
    "rand_search.fit(digits.data, digits.target)\n",
    "\n",
    "print (rand_search.best_estimator_)\n",
    "report(rand_search.cv_results_)\n",
    "\n",
    "scores_rs = cross_val_score(rand_search, digits.data, digits.target, cv = 5)\n",
    "print (\"% .3f\" %scores_rs.mean())"
   ]
  },
  {
   "cell_type": "code",
   "execution_count": null,
   "metadata": {
    "pycharm": {
     "name": "#%%\n"
    }
   },
   "outputs": [],
   "source": []
  }
 ],
 "metadata": {
  "kernelspec": {
   "display_name": "Python 3",
   "language": "python",
   "name": "python3"
  },
  "language_info": {
   "codemirror_mode": {
    "name": "ipython",
    "version": 3
   },
   "file_extension": ".py",
   "mimetype": "text/x-python",
   "name": "python",
   "nbconvert_exporter": "python",
   "pygments_lexer": "ipython3",
   "version": "3.8.5"
  }
 },
 "nbformat": 4,
 "nbformat_minor": 4
}