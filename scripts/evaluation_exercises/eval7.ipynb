{
 "cells": [
  {
   "cell_type": "markdown",
   "source": [
    "# Exercício 6 - Randomized Search"
   ],
   "metadata": {
    "collapsed": false,
    "pycharm": {
     "name": "#%% md\n"
    }
   }
  },
  {
   "cell_type": "code",
   "execution_count": 1,
   "metadata": {
    "collapsed": true,
    "pycharm": {
     "name": "#%%\n"
    }
   },
   "outputs": [],
   "source": [
    "# imports\n",
    "from si.io_package.csv_file import read_csv\n",
    "from sklearn.preprocessing import StandardScaler\n",
    "from si.linear_model.logistic_regression import LogisticRegression\n",
    "from si.model_selection.randomized_search import randomized_search_cv\n",
    "import numpy as np"
   ]
  },
  {
   "cell_type": "code",
   "execution_count": 2,
   "outputs": [],
   "source": [
    "# dataset\n",
    "filename_bb = \"C:/Users/Ana/Documents/GitHub/mbioinf-sib/datasets/breast-bin.csv\"\n",
    "breast_bin_dataset = read_csv(filename_bb, sep=\",\", features=False, label=True)"
   ],
   "metadata": {
    "collapsed": false,
    "pycharm": {
     "name": "#%%\n"
    }
   }
  },
  {
   "cell_type": "code",
   "execution_count": 3,
   "outputs": [
    {
     "data": {
      "text/plain": "array([[ 0.20885295, -0.69912815, -0.74242297, ..., -1.0000359 ,\n        -0.61132565, -0.34418721],\n       [-0.8578253 , -0.69912815, -0.74242297, ..., -0.58991542,\n        -0.61132565, -0.34418721],\n       [-0.8578253 , -0.69912815, -0.74242297, ..., -0.17979494,\n        -0.61132565, -0.34418721],\n       ...,\n       [ 0.20885295, -0.37139715, -0.40592217, ..., -1.0000359 ,\n        -0.61132565,  0.23892607],\n       [-0.8578253 , -0.04366616, -0.40592217, ..., -0.17979494,\n        -0.61132565, -0.34418721],\n       [ 0.91997179,  0.93952681,  0.94008103, ...,  1.46068699,\n        -0.61132565, -0.34418721]])"
     },
     "execution_count": 3,
     "metadata": {},
     "output_type": "execute_result"
    }
   ],
   "source": [
    "# standardization\n",
    "breast_bin_dataset.X = StandardScaler().fit_transform(breast_bin_dataset.X)\n",
    "breast_bin_dataset.X"
   ],
   "metadata": {
    "collapsed": false,
    "pycharm": {
     "name": "#%%\n"
    }
   }
  },
  {
   "cell_type": "code",
   "execution_count": 4,
   "outputs": [],
   "source": [
    "# creating the Logistic Regression model\n",
    "lg_model = LogisticRegression(l2_penalty=1, alpha=0.001, max_iter=1000)\n",
    "lg_model_param = {'l2_penalty': np.linspace(1, 10, 10),\n",
    "                  'alpha': np.linspace(0.001, 0.0001, 100),\n",
    "                  'max_iter': np.linspace(1000, 2000, 200)}"
   ],
   "metadata": {
    "collapsed": false,
    "pycharm": {
     "name": "#%%\n"
    }
   }
  },
  {
   "cell_type": "code",
   "execution_count": 5,
   "outputs": [
    {
     "ename": "TypeError",
     "evalue": "'numpy.float64' object cannot be interpreted as an integer",
     "output_type": "error",
     "traceback": [
      "\u001B[1;31m---------------------------------------------------------------------------\u001B[0m",
      "\u001B[1;31mTypeError\u001B[0m                                 Traceback (most recent call last)",
      "Cell \u001B[1;32mIn [5], line 1\u001B[0m\n\u001B[1;32m----> 1\u001B[0m scores \u001B[38;5;241m=\u001B[39m randomized_search_cv(lg_model, breast_bin_dataset, lg_model_param, cv\u001B[38;5;241m=\u001B[39m\u001B[38;5;241m3\u001B[39m)\n\u001B[0;32m      2\u001B[0m scores\n",
      "File \u001B[1;32m~\\Documents\\GitHub\\mbioinf-sib\\src\\si\\model_selection\\randomized_search.py:60\u001B[0m, in \u001B[0;36mrandomized_search_cv\u001B[1;34m(model, dataset, parameter_distribution, scoring, cv, n_iter, test_size)\u001B[0m\n\u001B[0;32m     57\u001B[0m     \u001B[38;5;28msetattr\u001B[39m(model, parameter, value)\n\u001B[0;32m     59\u001B[0m \u001B[38;5;66;03m# get scores from cross_validation\u001B[39;00m\n\u001B[1;32m---> 60\u001B[0m score \u001B[38;5;241m=\u001B[39m \u001B[43mcross_validate\u001B[49m\u001B[43m(\u001B[49m\u001B[43mmodel\u001B[49m\u001B[38;5;241;43m=\u001B[39;49m\u001B[43mmodel\u001B[49m\u001B[43m,\u001B[49m\u001B[43m \u001B[49m\u001B[43mdataset\u001B[49m\u001B[38;5;241;43m=\u001B[39;49m\u001B[43mdataset\u001B[49m\u001B[43m,\u001B[49m\u001B[43m \u001B[49m\u001B[43mscoring\u001B[49m\u001B[38;5;241;43m=\u001B[39;49m\u001B[43mscoring\u001B[49m\u001B[43m,\u001B[49m\u001B[43m \u001B[49m\u001B[43mcv\u001B[49m\u001B[38;5;241;43m=\u001B[39;49m\u001B[43mcv\u001B[49m\u001B[43m,\u001B[49m\u001B[43m \u001B[49m\u001B[43mtest_size\u001B[49m\u001B[38;5;241;43m=\u001B[39;49m\u001B[43mtest_size\u001B[49m\u001B[43m)\u001B[49m\n\u001B[0;32m     62\u001B[0m \u001B[38;5;66;03m# stores the parameter combination and the obtained scores to the dictionary\u001B[39;00m\n\u001B[0;32m     63\u001B[0m scores[\u001B[38;5;124m'\u001B[39m\u001B[38;5;124mparameters\u001B[39m\u001B[38;5;124m'\u001B[39m]\u001B[38;5;241m.\u001B[39mappend(parameters)\n",
      "File \u001B[1;32m~\\Documents\\GitHub\\mbioinf-sib\\src\\si\\model_selection\\cross_validate.py:44\u001B[0m, in \u001B[0;36mcross_validate\u001B[1;34m(model, dataset, scoring, cv, test_size)\u001B[0m\n\u001B[0;32m     41\u001B[0m train, test \u001B[38;5;241m=\u001B[39m train_test_split(dataset\u001B[38;5;241m=\u001B[39mdataset, test_size\u001B[38;5;241m=\u001B[39mtest_size, random_state\u001B[38;5;241m=\u001B[39mrandom_state)\n\u001B[0;32m     43\u001B[0m \u001B[38;5;66;03m# fit the model on the train set\u001B[39;00m\n\u001B[1;32m---> 44\u001B[0m \u001B[43mmodel\u001B[49m\u001B[38;5;241;43m.\u001B[39;49m\u001B[43mfit\u001B[49m\u001B[43m(\u001B[49m\u001B[43mtrain\u001B[49m\u001B[43m)\u001B[49m\n\u001B[0;32m     46\u001B[0m \u001B[38;5;66;03m# score the model on the test set\u001B[39;00m\n\u001B[0;32m     47\u001B[0m \u001B[38;5;66;03m# o utilizador pode querer usar a scoring function que está no nosso modelo\u001B[39;00m\n\u001B[0;32m     48\u001B[0m \u001B[38;5;28;01mif\u001B[39;00m scoring \u001B[38;5;129;01mis\u001B[39;00m \u001B[38;5;28;01mNone\u001B[39;00m:\n\u001B[0;32m     49\u001B[0m \n\u001B[0;32m     50\u001B[0m     \u001B[38;5;66;03m# store the train score\u001B[39;00m\n",
      "File \u001B[1;32m~\\Documents\\GitHub\\mbioinf-sib\\src\\si\\linear_model\\logistic_regression.py:74\u001B[0m, in \u001B[0;36mLogisticRegression.fit\u001B[1;34m(self, dataset)\u001B[0m\n\u001B[0;32m     71\u001B[0m threshold \u001B[38;5;241m=\u001B[39m \u001B[38;5;241m0.0001\u001B[39m\n\u001B[0;32m     73\u001B[0m \u001B[38;5;66;03m# gradient descent\u001B[39;00m\n\u001B[1;32m---> 74\u001B[0m \u001B[38;5;28;01mfor\u001B[39;00m i \u001B[38;5;129;01min\u001B[39;00m \u001B[38;5;28;43mrange\u001B[39;49m\u001B[43m(\u001B[49m\u001B[38;5;28;43mself\u001B[39;49m\u001B[38;5;241;43m.\u001B[39;49m\u001B[43mmax_iter\u001B[49m\u001B[43m)\u001B[49m:\n\u001B[0;32m     75\u001B[0m     \u001B[38;5;66;03m# computing cost and updating cost_history\u001B[39;00m\n\u001B[0;32m     76\u001B[0m     \u001B[38;5;28mself\u001B[39m\u001B[38;5;241m.\u001B[39mcost_history[i] \u001B[38;5;241m=\u001B[39m \u001B[38;5;28mself\u001B[39m\u001B[38;5;241m.\u001B[39mcost(dataset\u001B[38;5;241m=\u001B[39mdataset)\n\u001B[0;32m     78\u001B[0m     \u001B[38;5;28;01mif\u001B[39;00m i \u001B[38;5;241m>\u001B[39m \u001B[38;5;241m1\u001B[39m \u001B[38;5;129;01mand\u001B[39;00m (\u001B[38;5;28mself\u001B[39m\u001B[38;5;241m.\u001B[39mcost_history[i \u001B[38;5;241m-\u001B[39m \u001B[38;5;241m1\u001B[39m] \u001B[38;5;241m-\u001B[39m \u001B[38;5;28mself\u001B[39m\u001B[38;5;241m.\u001B[39mcost_history[i] \u001B[38;5;241m<\u001B[39m threshold):\n",
      "\u001B[1;31mTypeError\u001B[0m: 'numpy.float64' object cannot be interpreted as an integer"
     ]
    }
   ],
   "source": [
    "scores = randomized_search_cv(lg_model, breast_bin_dataset, lg_model_param, cv=3)\n",
    "scores\n",
    "#TODO: ERRO"
   ],
   "metadata": {
    "collapsed": false,
    "pycharm": {
     "name": "#%%\n"
    }
   }
  }
 ],
 "metadata": {
  "kernelspec": {
   "display_name": "Python 3",
   "language": "python",
   "name": "python3"
  },
  "language_info": {
   "codemirror_mode": {
    "name": "ipython",
    "version": 2
   },
   "file_extension": ".py",
   "mimetype": "text/x-python",
   "name": "python",
   "nbconvert_exporter": "python",
   "pygments_lexer": "ipython2",
   "version": "2.7.6"
  }
 },
 "nbformat": 4,
 "nbformat_minor": 0
}