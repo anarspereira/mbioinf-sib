{
 "cells": [
  {
   "cell_type": "markdown",
   "source": [
    "# Exercício 6 - RidgeRegression e LogisticRegression\n",
    "A implementação dos novos métodos está nos módulos do subpackage si/linear_model e a testagem destes algoritmos está em scripts/lecture_scripts/test_model_linear.ipynb."
   ],
   "metadata": {
    "collapsed": false,
    "pycharm": {
     "name": "#%% md\n"
    }
   }
  }
 ],
 "metadata": {
  "kernelspec": {
   "display_name": "Python 3",
   "language": "python",
   "name": "python3"
  },
  "language_info": {
   "codemirror_mode": {
    "name": "ipython",
    "version": 2
   },
   "file_extension": ".py",
   "mimetype": "text/x-python",
   "name": "python",
   "nbconvert_exporter": "python",
   "pygments_lexer": "ipython2",
   "version": "2.7.6"
  }
 },
 "nbformat": 4,
 "nbformat_minor": 0
}