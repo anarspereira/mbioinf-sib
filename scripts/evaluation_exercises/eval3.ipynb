{
 "cells": [
  {
   "cell_type": "markdown",
   "source": [],
   "metadata": {
    "collapsed": false,
    "pycharm": {
     "name": "#%% md\n"
    }
   }
  },
  {
   "cell_type": "code",
   "execution_count": 21,
   "metadata": {
    "collapsed": true,
    "pycharm": {
     "name": "#%%\n"
    }
   },
   "outputs": [],
   "source": [
    "from si.statistics.f_classification import f_classification\n",
    "from si.feature_selection.select_percentile import SelectPercentile\n",
    "from si.io_package.csv_file import read_csv"
   ]
  },
  {
   "cell_type": "code",
   "execution_count": 22,
   "outputs": [
    {
     "data": {
      "text/plain": "                sepal_length  sepal_width  petal_length  petal_width\nIris-setosa              5.1          3.5           1.4          0.2\nIris-setosa              4.9          3.0           1.4          0.2\nIris-setosa              4.7          3.2           1.3          0.2\nIris-setosa              4.6          3.1           1.5          0.2\nIris-setosa              5.0          3.6           1.4          0.2\n...                      ...          ...           ...          ...\nIris-virginica           6.7          3.0           5.2          2.3\nIris-virginica           6.3          2.5           5.0          1.9\nIris-virginica           6.5          3.0           5.2          2.0\nIris-virginica           6.2          3.4           5.4          2.3\nIris-virginica           5.9          3.0           5.1          1.8\n\n[150 rows x 4 columns]",
      "text/html": "<div>\n<style scoped>\n    .dataframe tbody tr th:only-of-type {\n        vertical-align: middle;\n    }\n\n    .dataframe tbody tr th {\n        vertical-align: top;\n    }\n\n    .dataframe thead th {\n        text-align: right;\n    }\n</style>\n<table border=\"1\" class=\"dataframe\">\n  <thead>\n    <tr style=\"text-align: right;\">\n      <th></th>\n      <th>sepal_length</th>\n      <th>sepal_width</th>\n      <th>petal_length</th>\n      <th>petal_width</th>\n    </tr>\n  </thead>\n  <tbody>\n    <tr>\n      <th>Iris-setosa</th>\n      <td>5.1</td>\n      <td>3.5</td>\n      <td>1.4</td>\n      <td>0.2</td>\n    </tr>\n    <tr>\n      <th>Iris-setosa</th>\n      <td>4.9</td>\n      <td>3.0</td>\n      <td>1.4</td>\n      <td>0.2</td>\n    </tr>\n    <tr>\n      <th>Iris-setosa</th>\n      <td>4.7</td>\n      <td>3.2</td>\n      <td>1.3</td>\n      <td>0.2</td>\n    </tr>\n    <tr>\n      <th>Iris-setosa</th>\n      <td>4.6</td>\n      <td>3.1</td>\n      <td>1.5</td>\n      <td>0.2</td>\n    </tr>\n    <tr>\n      <th>Iris-setosa</th>\n      <td>5.0</td>\n      <td>3.6</td>\n      <td>1.4</td>\n      <td>0.2</td>\n    </tr>\n    <tr>\n      <th>...</th>\n      <td>...</td>\n      <td>...</td>\n      <td>...</td>\n      <td>...</td>\n    </tr>\n    <tr>\n      <th>Iris-virginica</th>\n      <td>6.7</td>\n      <td>3.0</td>\n      <td>5.2</td>\n      <td>2.3</td>\n    </tr>\n    <tr>\n      <th>Iris-virginica</th>\n      <td>6.3</td>\n      <td>2.5</td>\n      <td>5.0</td>\n      <td>1.9</td>\n    </tr>\n    <tr>\n      <th>Iris-virginica</th>\n      <td>6.5</td>\n      <td>3.0</td>\n      <td>5.2</td>\n      <td>2.0</td>\n    </tr>\n    <tr>\n      <th>Iris-virginica</th>\n      <td>6.2</td>\n      <td>3.4</td>\n      <td>5.4</td>\n      <td>2.3</td>\n    </tr>\n    <tr>\n      <th>Iris-virginica</th>\n      <td>5.9</td>\n      <td>3.0</td>\n      <td>5.1</td>\n      <td>1.8</td>\n    </tr>\n  </tbody>\n</table>\n<p>150 rows × 4 columns</p>\n</div>"
     },
     "execution_count": 22,
     "metadata": {},
     "output_type": "execute_result"
    }
   ],
   "source": [
    "filename = \"C:/Users/Ana/Documents/GitHub/mbioinf-sib/datasets/iris.csv\"\n",
    "iris = read_csv(filename, sep=\",\", label=True, features=True)\n",
    "iris.print_dataframe()"
   ],
   "metadata": {
    "collapsed": false,
    "pycharm": {
     "name": "#%%\n"
    }
   }
  },
  {
   "cell_type": "code",
   "execution_count": 31,
   "outputs": [],
   "source": [
    "selector = SelectPercentile(percentile=50, score_func=f_classification)"
   ],
   "metadata": {
    "collapsed": false,
    "pycharm": {
     "name": "#%%\n"
    }
   }
  },
  {
   "cell_type": "code",
   "execution_count": 33,
   "outputs": [
    {
     "ename": "TypeError",
     "evalue": "unsupported operand type(s) for /: 'function' and 'int'",
     "output_type": "error",
     "traceback": [
      "\u001B[1;31m---------------------------------------------------------------------------\u001B[0m",
      "\u001B[1;31mTypeError\u001B[0m                                 Traceback (most recent call last)",
      "Cell \u001B[1;32mIn [33], line 1\u001B[0m\n\u001B[1;32m----> 1\u001B[0m selector\u001B[38;5;241m.\u001B[39mfit_transform(iris)\n",
      "File \u001B[1;32m~\\Documents\\GitHub\\mbioinf-sib\\src\\si\\feature_selection\\select_percentile.py:85\u001B[0m, in \u001B[0;36mSelectPercentile.fit_transform\u001B[1;34m(self, dataset)\u001B[0m\n\u001B[0;32m     77\u001B[0m \u001B[38;5;124;03m\"\"\"\u001B[39;00m\n\u001B[0;32m     78\u001B[0m \u001B[38;5;124;03mMétodo que executa o método fit e depois o método transform\u001B[39;00m\n\u001B[0;32m     79\u001B[0m \n\u001B[1;32m   (...)\u001B[0m\n\u001B[0;32m     82\u001B[0m \u001B[38;5;124;03m:return: dataset com as variáveis selecionadas\u001B[39;00m\n\u001B[0;32m     83\u001B[0m \u001B[38;5;124;03m\"\"\"\u001B[39;00m\n\u001B[0;32m     84\u001B[0m \u001B[38;5;28mself\u001B[39m\u001B[38;5;241m.\u001B[39mfit(dataset)\n\u001B[1;32m---> 85\u001B[0m \u001B[38;5;28;01mreturn\u001B[39;00m \u001B[38;5;28;43mself\u001B[39;49m\u001B[38;5;241;43m.\u001B[39;49m\u001B[43mtransform\u001B[49m\u001B[43m(\u001B[49m\u001B[43mdataset\u001B[49m\u001B[43m)\u001B[49m\n",
      "File \u001B[1;32m~\\Documents\\GitHub\\mbioinf-sib\\src\\si\\feature_selection\\select_percentile.py:59\u001B[0m, in \u001B[0;36mSelectPercentile.transform\u001B[1;34m(self, dataset)\u001B[0m\n\u001B[0;32m     51\u001B[0m \u001B[38;5;124;03m\"\"\"\u001B[39;00m\n\u001B[0;32m     52\u001B[0m \u001B[38;5;124;03mMétodo que seleciona as features com o valor de F mais alto no percentil pretendido\u001B[39;00m\n\u001B[0;32m     53\u001B[0m \n\u001B[1;32m   (...)\u001B[0m\n\u001B[0;32m     56\u001B[0m \u001B[38;5;124;03m:return: Dataset, dataset com as features selecionadas\u001B[39;00m\n\u001B[0;32m     57\u001B[0m \u001B[38;5;124;03m\"\"\"\u001B[39;00m\n\u001B[0;32m     58\u001B[0m value \u001B[38;5;241m=\u001B[39m \u001B[38;5;28mlen\u001B[39m(dataset\u001B[38;5;241m.\u001B[39mfeatures_names) \u001B[38;5;66;03m# valor total de features no dataset\u001B[39;00m\n\u001B[1;32m---> 59\u001B[0m mask \u001B[38;5;241m=\u001B[39m value \u001B[38;5;241m*\u001B[39m (\u001B[43mnp\u001B[49m\u001B[38;5;241;43m.\u001B[39;49m\u001B[43mpercentile\u001B[49m\u001B[38;5;241;43m/\u001B[39;49m\u001B[38;5;241;43m100\u001B[39;49m) \u001B[38;5;66;03m# percentil dado em percentagem\u001B[39;00m\n\u001B[0;32m     60\u001B[0m idxs \u001B[38;5;241m=\u001B[39m np\u001B[38;5;241m.\u001B[39margsort(\u001B[38;5;28mself\u001B[39m\u001B[38;5;241m.\u001B[39mF)[\u001B[38;5;241m-\u001B[39m mask:]\n\u001B[0;32m     61\u001B[0m features \u001B[38;5;241m=\u001B[39m np\u001B[38;5;241m.\u001B[39marray(dataset\u001B[38;5;241m.\u001B[39mfeatures_names)[idxs]  \u001B[38;5;66;03m# vai selecionar as features utilizando os indxs\u001B[39;00m\n",
      "\u001B[1;31mTypeError\u001B[0m: unsupported operand type(s) for /: 'function' and 'int'"
     ]
    }
   ],
   "source": [
    "selector.fit_transform(iris)"
   ],
   "metadata": {
    "collapsed": false,
    "pycharm": {
     "name": "#%%\n"
    }
   }
  },
  {
   "cell_type": "code",
   "execution_count": 34,
   "outputs": [
    {
     "data": {
      "text/plain": "array([ 119.26450218,   47.3644614 , 1179.0343277 ,  959.32440573])"
     },
     "execution_count": 34,
     "metadata": {},
     "output_type": "execute_result"
    }
   ],
   "source": [
    "selector.F"
   ],
   "metadata": {
    "collapsed": false,
    "pycharm": {
     "name": "#%%\n"
    }
   }
  },
  {
   "cell_type": "code",
   "execution_count": 24,
   "outputs": [
    {
     "data": {
      "text/plain": "array([1.66966919e-31, 1.32791652e-16, 3.05197580e-91, 4.37695696e-85])"
     },
     "execution_count": 24,
     "metadata": {},
     "output_type": "execute_result"
    }
   ],
   "source": [
    "selector.p"
   ],
   "metadata": {
    "collapsed": false,
    "pycharm": {
     "name": "#%%\n"
    }
   }
  },
  {
   "cell_type": "code",
   "execution_count": 37,
   "outputs": [
    {
     "ename": "TypeError",
     "evalue": "unsupported operand type(s) for /: 'function' and 'int'",
     "output_type": "error",
     "traceback": [
      "\u001B[1;31m---------------------------------------------------------------------------\u001B[0m",
      "\u001B[1;31mTypeError\u001B[0m                                 Traceback (most recent call last)",
      "Cell \u001B[1;32mIn [37], line 1\u001B[0m\n\u001B[1;32m----> 1\u001B[0m selected_iris \u001B[38;5;241m=\u001B[39m selector\u001B[38;5;241m.\u001B[39mfit_transform(iris)\n\u001B[0;32m      2\u001B[0m selected_iris\u001B[38;5;241m.\u001B[39mshape()\n",
      "File \u001B[1;32m~\\Documents\\GitHub\\mbioinf-sib\\src\\si\\feature_selection\\select_percentile.py:85\u001B[0m, in \u001B[0;36mSelectPercentile.fit_transform\u001B[1;34m(self, dataset)\u001B[0m\n\u001B[0;32m     77\u001B[0m \u001B[38;5;124;03m\"\"\"\u001B[39;00m\n\u001B[0;32m     78\u001B[0m \u001B[38;5;124;03mMétodo que executa o método fit e depois o método transform\u001B[39;00m\n\u001B[0;32m     79\u001B[0m \n\u001B[1;32m   (...)\u001B[0m\n\u001B[0;32m     82\u001B[0m \u001B[38;5;124;03m:return: dataset com as variáveis selecionadas\u001B[39;00m\n\u001B[0;32m     83\u001B[0m \u001B[38;5;124;03m\"\"\"\u001B[39;00m\n\u001B[0;32m     84\u001B[0m \u001B[38;5;28mself\u001B[39m\u001B[38;5;241m.\u001B[39mfit(dataset)\n\u001B[1;32m---> 85\u001B[0m \u001B[38;5;28;01mreturn\u001B[39;00m \u001B[38;5;28;43mself\u001B[39;49m\u001B[38;5;241;43m.\u001B[39;49m\u001B[43mtransform\u001B[49m\u001B[43m(\u001B[49m\u001B[43mdataset\u001B[49m\u001B[43m)\u001B[49m\n",
      "File \u001B[1;32m~\\Documents\\GitHub\\mbioinf-sib\\src\\si\\feature_selection\\select_percentile.py:59\u001B[0m, in \u001B[0;36mSelectPercentile.transform\u001B[1;34m(self, dataset)\u001B[0m\n\u001B[0;32m     51\u001B[0m \u001B[38;5;124;03m\"\"\"\u001B[39;00m\n\u001B[0;32m     52\u001B[0m \u001B[38;5;124;03mMétodo que seleciona as features com o valor de F mais alto no percentil pretendido\u001B[39;00m\n\u001B[0;32m     53\u001B[0m \n\u001B[1;32m   (...)\u001B[0m\n\u001B[0;32m     56\u001B[0m \u001B[38;5;124;03m:return: Dataset, dataset com as features selecionadas\u001B[39;00m\n\u001B[0;32m     57\u001B[0m \u001B[38;5;124;03m\"\"\"\u001B[39;00m\n\u001B[0;32m     58\u001B[0m value \u001B[38;5;241m=\u001B[39m \u001B[38;5;28mlen\u001B[39m(dataset\u001B[38;5;241m.\u001B[39mfeatures_names) \u001B[38;5;66;03m# valor total de features no dataset\u001B[39;00m\n\u001B[1;32m---> 59\u001B[0m mask \u001B[38;5;241m=\u001B[39m value \u001B[38;5;241m*\u001B[39m (\u001B[43mnp\u001B[49m\u001B[38;5;241;43m.\u001B[39;49m\u001B[43mpercentile\u001B[49m\u001B[38;5;241;43m/\u001B[39;49m\u001B[38;5;241;43m100\u001B[39;49m) \u001B[38;5;66;03m# percentil dado em percentagem\u001B[39;00m\n\u001B[0;32m     60\u001B[0m idxs \u001B[38;5;241m=\u001B[39m np\u001B[38;5;241m.\u001B[39margsort(\u001B[38;5;28mself\u001B[39m\u001B[38;5;241m.\u001B[39mF)[\u001B[38;5;241m-\u001B[39m mask:]\n\u001B[0;32m     61\u001B[0m features \u001B[38;5;241m=\u001B[39m np\u001B[38;5;241m.\u001B[39marray(dataset\u001B[38;5;241m.\u001B[39mfeatures_names)[idxs]  \u001B[38;5;66;03m# vai selecionar as features utilizando os indxs\u001B[39;00m\n",
      "\u001B[1;31mTypeError\u001B[0m: unsupported operand type(s) for /: 'function' and 'int'"
     ]
    }
   ],
   "source": [
    "selected_iris = selector.fit_transform(iris)\n",
    "selected_iris.shape()"
   ],
   "metadata": {
    "collapsed": false,
    "pycharm": {
     "name": "#%%\n"
    }
   }
  }
 ],
 "metadata": {
  "kernelspec": {
   "display_name": "Python 3",
   "language": "python",
   "name": "python3"
  },
  "language_info": {
   "codemirror_mode": {
    "name": "ipython",
    "version": 2
   },
   "file_extension": ".py",
   "mimetype": "text/x-python",
   "name": "python",
   "nbconvert_exporter": "python",
   "pygments_lexer": "ipython2",
   "version": "2.7.6"
  }
 },
 "nbformat": 4,
 "nbformat_minor": 0
}