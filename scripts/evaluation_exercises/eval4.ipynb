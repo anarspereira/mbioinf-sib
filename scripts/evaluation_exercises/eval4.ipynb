{
 "cells": [
  {
   "cell_type": "markdown",
   "source": [
    "# Exercício 3 - KNN Regressor\n",
    "3.3. Testar class KNN Regressor usando o dataset cpu.csv (regressão)."
   ],
   "metadata": {
    "collapsed": false,
    "pycharm": {
     "name": "#%% md\n"
    }
   }
  },
  {
   "cell_type": "code",
   "execution_count": 17,
   "metadata": {
    "collapsed": true,
    "pycharm": {
     "name": "#%%\n"
    }
   },
   "outputs": [],
   "source": [
    "from si.neighbors.knn_regressor import KNNRegressor\n",
    "from si.model_selection.split import train_test_split\n",
    "from si.io_package.csv_file import read_csv"
   ]
  },
  {
   "cell_type": "code",
   "execution_count": 18,
   "outputs": [
    {
     "data": {
      "text/plain": "     syct  mmin   mmax  cach  chmin  chmax\n198   125   256   6000   256     16    128\n269    29  8000  32000    32      8     32\n220    29  8000  32000    32      8     32\n172    29  8000  32000    32      8     32\n132    29  8000  16000    32      8     16\n..    ...   ...    ...   ...    ...    ...\n42    124  1000   8000     0      1      8\n46     98  1000   8000    32      2      8\n52    125  2000   8000     0      2     14\n67    480   512   8000    32      0      0\n45    480  1000   4000     0      0      0\n\n[209 rows x 6 columns]",
      "text/html": "<div>\n<style scoped>\n    .dataframe tbody tr th:only-of-type {\n        vertical-align: middle;\n    }\n\n    .dataframe tbody tr th {\n        vertical-align: top;\n    }\n\n    .dataframe thead th {\n        text-align: right;\n    }\n</style>\n<table border=\"1\" class=\"dataframe\">\n  <thead>\n    <tr style=\"text-align: right;\">\n      <th></th>\n      <th>syct</th>\n      <th>mmin</th>\n      <th>mmax</th>\n      <th>cach</th>\n      <th>chmin</th>\n      <th>chmax</th>\n    </tr>\n  </thead>\n  <tbody>\n    <tr>\n      <th>198</th>\n      <td>125</td>\n      <td>256</td>\n      <td>6000</td>\n      <td>256</td>\n      <td>16</td>\n      <td>128</td>\n    </tr>\n    <tr>\n      <th>269</th>\n      <td>29</td>\n      <td>8000</td>\n      <td>32000</td>\n      <td>32</td>\n      <td>8</td>\n      <td>32</td>\n    </tr>\n    <tr>\n      <th>220</th>\n      <td>29</td>\n      <td>8000</td>\n      <td>32000</td>\n      <td>32</td>\n      <td>8</td>\n      <td>32</td>\n    </tr>\n    <tr>\n      <th>172</th>\n      <td>29</td>\n      <td>8000</td>\n      <td>32000</td>\n      <td>32</td>\n      <td>8</td>\n      <td>32</td>\n    </tr>\n    <tr>\n      <th>132</th>\n      <td>29</td>\n      <td>8000</td>\n      <td>16000</td>\n      <td>32</td>\n      <td>8</td>\n      <td>16</td>\n    </tr>\n    <tr>\n      <th>...</th>\n      <td>...</td>\n      <td>...</td>\n      <td>...</td>\n      <td>...</td>\n      <td>...</td>\n      <td>...</td>\n    </tr>\n    <tr>\n      <th>42</th>\n      <td>124</td>\n      <td>1000</td>\n      <td>8000</td>\n      <td>0</td>\n      <td>1</td>\n      <td>8</td>\n    </tr>\n    <tr>\n      <th>46</th>\n      <td>98</td>\n      <td>1000</td>\n      <td>8000</td>\n      <td>32</td>\n      <td>2</td>\n      <td>8</td>\n    </tr>\n    <tr>\n      <th>52</th>\n      <td>125</td>\n      <td>2000</td>\n      <td>8000</td>\n      <td>0</td>\n      <td>2</td>\n      <td>14</td>\n    </tr>\n    <tr>\n      <th>67</th>\n      <td>480</td>\n      <td>512</td>\n      <td>8000</td>\n      <td>32</td>\n      <td>0</td>\n      <td>0</td>\n    </tr>\n    <tr>\n      <th>45</th>\n      <td>480</td>\n      <td>1000</td>\n      <td>4000</td>\n      <td>0</td>\n      <td>0</td>\n      <td>0</td>\n    </tr>\n  </tbody>\n</table>\n<p>209 rows × 6 columns</p>\n</div>"
     },
     "execution_count": 18,
     "metadata": {},
     "output_type": "execute_result"
    }
   ],
   "source": [
    "filename = \"C:/Users/Ana/Documents/GitHub/mbioinf-sib/datasets/cpu.csv\"\n",
    "cpu = read_csv(filename, sep=\",\", label=True, features=True)\n",
    "cpu.print_dataframe()"
   ],
   "metadata": {
    "collapsed": false,
    "pycharm": {
     "name": "#%%\n"
    }
   }
  },
  {
   "cell_type": "code",
   "execution_count": 19,
   "outputs": [],
   "source": [
    "train_dataset, test_dataset = train_test_split(cpu)"
   ],
   "metadata": {
    "collapsed": false,
    "pycharm": {
     "name": "#%%\n"
    }
   }
  },
  {
   "cell_type": "code",
   "execution_count": 20,
   "outputs": [
    {
     "data": {
      "text/plain": "      syct   mmin   mmax  cach  chmin  chmax\n34      56   4000   8000     0      1      8\n214     40   8000  16000    32      8     16\n465     26  16000  32000    64      8     24\n1150    30   8000  64000   128     12    176\n32     105   1000   4000     0      3     24\n...    ...    ...    ...   ...    ...    ...\n32     400   4000   8000     0      1      1\n10     350     64     64     0      1      4\n22     140   2000   4000     8      1     20\n60     160   1000   8000    16      1     14\n7     1100    512   1500     0      1      1\n\n[168 rows x 6 columns]",
      "text/html": "<div>\n<style scoped>\n    .dataframe tbody tr th:only-of-type {\n        vertical-align: middle;\n    }\n\n    .dataframe tbody tr th {\n        vertical-align: top;\n    }\n\n    .dataframe thead th {\n        text-align: right;\n    }\n</style>\n<table border=\"1\" class=\"dataframe\">\n  <thead>\n    <tr style=\"text-align: right;\">\n      <th></th>\n      <th>syct</th>\n      <th>mmin</th>\n      <th>mmax</th>\n      <th>cach</th>\n      <th>chmin</th>\n      <th>chmax</th>\n    </tr>\n  </thead>\n  <tbody>\n    <tr>\n      <th>34</th>\n      <td>56</td>\n      <td>4000</td>\n      <td>8000</td>\n      <td>0</td>\n      <td>1</td>\n      <td>8</td>\n    </tr>\n    <tr>\n      <th>214</th>\n      <td>40</td>\n      <td>8000</td>\n      <td>16000</td>\n      <td>32</td>\n      <td>8</td>\n      <td>16</td>\n    </tr>\n    <tr>\n      <th>465</th>\n      <td>26</td>\n      <td>16000</td>\n      <td>32000</td>\n      <td>64</td>\n      <td>8</td>\n      <td>24</td>\n    </tr>\n    <tr>\n      <th>1150</th>\n      <td>30</td>\n      <td>8000</td>\n      <td>64000</td>\n      <td>128</td>\n      <td>12</td>\n      <td>176</td>\n    </tr>\n    <tr>\n      <th>32</th>\n      <td>105</td>\n      <td>1000</td>\n      <td>4000</td>\n      <td>0</td>\n      <td>3</td>\n      <td>24</td>\n    </tr>\n    <tr>\n      <th>...</th>\n      <td>...</td>\n      <td>...</td>\n      <td>...</td>\n      <td>...</td>\n      <td>...</td>\n      <td>...</td>\n    </tr>\n    <tr>\n      <th>32</th>\n      <td>400</td>\n      <td>4000</td>\n      <td>8000</td>\n      <td>0</td>\n      <td>1</td>\n      <td>1</td>\n    </tr>\n    <tr>\n      <th>10</th>\n      <td>350</td>\n      <td>64</td>\n      <td>64</td>\n      <td>0</td>\n      <td>1</td>\n      <td>4</td>\n    </tr>\n    <tr>\n      <th>22</th>\n      <td>140</td>\n      <td>2000</td>\n      <td>4000</td>\n      <td>8</td>\n      <td>1</td>\n      <td>20</td>\n    </tr>\n    <tr>\n      <th>60</th>\n      <td>160</td>\n      <td>1000</td>\n      <td>8000</td>\n      <td>16</td>\n      <td>1</td>\n      <td>14</td>\n    </tr>\n    <tr>\n      <th>7</th>\n      <td>1100</td>\n      <td>512</td>\n      <td>1500</td>\n      <td>0</td>\n      <td>1</td>\n      <td>1</td>\n    </tr>\n  </tbody>\n</table>\n<p>168 rows × 6 columns</p>\n</div>"
     },
     "execution_count": 20,
     "metadata": {},
     "output_type": "execute_result"
    }
   ],
   "source": [
    "train_dataset.print_dataframe()"
   ],
   "metadata": {
    "collapsed": false,
    "pycharm": {
     "name": "#%%\n"
    }
   }
  },
  {
   "cell_type": "code",
   "execution_count": 21,
   "outputs": [
    {
     "data": {
      "text/plain": "      syct   mmin   mmax  cach  chmin  chmax\n274     25   1310   2620   131     12     24\n30     200   1000   4000     0      1      4\n22     330   1000   4000     0      3      6\n915     30   8000  64000    96     12    176\n16     800    256   8000     0      1      4\n326     38   8000  32000    64      8     24\n72     133   1000   8000     9      3     12\n6      240    512   1000     8      1      3\n1144    23  32000  64000   128     32     64\n208     50   2000  32000    48     26     52\n65      50   2000  16000    24      6     16\n130     52   4000  16000    32      4     12\n52     125   2000   8000     0      2     14\n45      50   2000   8000     8      3      6\n35     200    512  16000     0      4     32\n36     300    768   3000     0      6     24\n51      38   4000   8000    32     16     32\n31     143   1000   2000     0      5     16\n100     38   8000  16000    64      4      8\n132     57   4000  16000     1      6     12\n50     300    768  12000     6      6     24\n60     110   1000  12000    16      1      2\n110     50   4000  16000    64      5     10\n18     900   1000   4000     4      1      2\n11     900    512   1000     0      1      2\n50      92   2000   8000     4      1      6\n69     320    512   2000     4      1      3\n27      50   2000   4000     0      3      6\n19     167    524   2000     8      4     15\n41     200   2000   8000    64      1      5\n248     26   8000  32000    64     12     16\n32     105   2000   4000     8      3     19\n45     115    512   6000    16      1      6\n26     105    256   2000     0      3     10\n16     600    768   2000     0      1      1\n26     100   1000   8000    24      2      6\n67     480    512   8000    32      0      0\n465     26  16000  32000    64     16     24\n38     300   1000  16000     8      2    112\n17      56   1000   4000     0      1      6\n307     50   2000  32000   112     52    104",
      "text/html": "<div>\n<style scoped>\n    .dataframe tbody tr th:only-of-type {\n        vertical-align: middle;\n    }\n\n    .dataframe tbody tr th {\n        vertical-align: top;\n    }\n\n    .dataframe thead th {\n        text-align: right;\n    }\n</style>\n<table border=\"1\" class=\"dataframe\">\n  <thead>\n    <tr style=\"text-align: right;\">\n      <th></th>\n      <th>syct</th>\n      <th>mmin</th>\n      <th>mmax</th>\n      <th>cach</th>\n      <th>chmin</th>\n      <th>chmax</th>\n    </tr>\n  </thead>\n  <tbody>\n    <tr>\n      <th>274</th>\n      <td>25</td>\n      <td>1310</td>\n      <td>2620</td>\n      <td>131</td>\n      <td>12</td>\n      <td>24</td>\n    </tr>\n    <tr>\n      <th>30</th>\n      <td>200</td>\n      <td>1000</td>\n      <td>4000</td>\n      <td>0</td>\n      <td>1</td>\n      <td>4</td>\n    </tr>\n    <tr>\n      <th>22</th>\n      <td>330</td>\n      <td>1000</td>\n      <td>4000</td>\n      <td>0</td>\n      <td>3</td>\n      <td>6</td>\n    </tr>\n    <tr>\n      <th>915</th>\n      <td>30</td>\n      <td>8000</td>\n      <td>64000</td>\n      <td>96</td>\n      <td>12</td>\n      <td>176</td>\n    </tr>\n    <tr>\n      <th>16</th>\n      <td>800</td>\n      <td>256</td>\n      <td>8000</td>\n      <td>0</td>\n      <td>1</td>\n      <td>4</td>\n    </tr>\n    <tr>\n      <th>326</th>\n      <td>38</td>\n      <td>8000</td>\n      <td>32000</td>\n      <td>64</td>\n      <td>8</td>\n      <td>24</td>\n    </tr>\n    <tr>\n      <th>72</th>\n      <td>133</td>\n      <td>1000</td>\n      <td>8000</td>\n      <td>9</td>\n      <td>3</td>\n      <td>12</td>\n    </tr>\n    <tr>\n      <th>6</th>\n      <td>240</td>\n      <td>512</td>\n      <td>1000</td>\n      <td>8</td>\n      <td>1</td>\n      <td>3</td>\n    </tr>\n    <tr>\n      <th>1144</th>\n      <td>23</td>\n      <td>32000</td>\n      <td>64000</td>\n      <td>128</td>\n      <td>32</td>\n      <td>64</td>\n    </tr>\n    <tr>\n      <th>208</th>\n      <td>50</td>\n      <td>2000</td>\n      <td>32000</td>\n      <td>48</td>\n      <td>26</td>\n      <td>52</td>\n    </tr>\n    <tr>\n      <th>65</th>\n      <td>50</td>\n      <td>2000</td>\n      <td>16000</td>\n      <td>24</td>\n      <td>6</td>\n      <td>16</td>\n    </tr>\n    <tr>\n      <th>130</th>\n      <td>52</td>\n      <td>4000</td>\n      <td>16000</td>\n      <td>32</td>\n      <td>4</td>\n      <td>12</td>\n    </tr>\n    <tr>\n      <th>52</th>\n      <td>125</td>\n      <td>2000</td>\n      <td>8000</td>\n      <td>0</td>\n      <td>2</td>\n      <td>14</td>\n    </tr>\n    <tr>\n      <th>45</th>\n      <td>50</td>\n      <td>2000</td>\n      <td>8000</td>\n      <td>8</td>\n      <td>3</td>\n      <td>6</td>\n    </tr>\n    <tr>\n      <th>35</th>\n      <td>200</td>\n      <td>512</td>\n      <td>16000</td>\n      <td>0</td>\n      <td>4</td>\n      <td>32</td>\n    </tr>\n    <tr>\n      <th>36</th>\n      <td>300</td>\n      <td>768</td>\n      <td>3000</td>\n      <td>0</td>\n      <td>6</td>\n      <td>24</td>\n    </tr>\n    <tr>\n      <th>51</th>\n      <td>38</td>\n      <td>4000</td>\n      <td>8000</td>\n      <td>32</td>\n      <td>16</td>\n      <td>32</td>\n    </tr>\n    <tr>\n      <th>31</th>\n      <td>143</td>\n      <td>1000</td>\n      <td>2000</td>\n      <td>0</td>\n      <td>5</td>\n      <td>16</td>\n    </tr>\n    <tr>\n      <th>100</th>\n      <td>38</td>\n      <td>8000</td>\n      <td>16000</td>\n      <td>64</td>\n      <td>4</td>\n      <td>8</td>\n    </tr>\n    <tr>\n      <th>132</th>\n      <td>57</td>\n      <td>4000</td>\n      <td>16000</td>\n      <td>1</td>\n      <td>6</td>\n      <td>12</td>\n    </tr>\n    <tr>\n      <th>50</th>\n      <td>300</td>\n      <td>768</td>\n      <td>12000</td>\n      <td>6</td>\n      <td>6</td>\n      <td>24</td>\n    </tr>\n    <tr>\n      <th>60</th>\n      <td>110</td>\n      <td>1000</td>\n      <td>12000</td>\n      <td>16</td>\n      <td>1</td>\n      <td>2</td>\n    </tr>\n    <tr>\n      <th>110</th>\n      <td>50</td>\n      <td>4000</td>\n      <td>16000</td>\n      <td>64</td>\n      <td>5</td>\n      <td>10</td>\n    </tr>\n    <tr>\n      <th>18</th>\n      <td>900</td>\n      <td>1000</td>\n      <td>4000</td>\n      <td>4</td>\n      <td>1</td>\n      <td>2</td>\n    </tr>\n    <tr>\n      <th>11</th>\n      <td>900</td>\n      <td>512</td>\n      <td>1000</td>\n      <td>0</td>\n      <td>1</td>\n      <td>2</td>\n    </tr>\n    <tr>\n      <th>50</th>\n      <td>92</td>\n      <td>2000</td>\n      <td>8000</td>\n      <td>4</td>\n      <td>1</td>\n      <td>6</td>\n    </tr>\n    <tr>\n      <th>69</th>\n      <td>320</td>\n      <td>512</td>\n      <td>2000</td>\n      <td>4</td>\n      <td>1</td>\n      <td>3</td>\n    </tr>\n    <tr>\n      <th>27</th>\n      <td>50</td>\n      <td>2000</td>\n      <td>4000</td>\n      <td>0</td>\n      <td>3</td>\n      <td>6</td>\n    </tr>\n    <tr>\n      <th>19</th>\n      <td>167</td>\n      <td>524</td>\n      <td>2000</td>\n      <td>8</td>\n      <td>4</td>\n      <td>15</td>\n    </tr>\n    <tr>\n      <th>41</th>\n      <td>200</td>\n      <td>2000</td>\n      <td>8000</td>\n      <td>64</td>\n      <td>1</td>\n      <td>5</td>\n    </tr>\n    <tr>\n      <th>248</th>\n      <td>26</td>\n      <td>8000</td>\n      <td>32000</td>\n      <td>64</td>\n      <td>12</td>\n      <td>16</td>\n    </tr>\n    <tr>\n      <th>32</th>\n      <td>105</td>\n      <td>2000</td>\n      <td>4000</td>\n      <td>8</td>\n      <td>3</td>\n      <td>19</td>\n    </tr>\n    <tr>\n      <th>45</th>\n      <td>115</td>\n      <td>512</td>\n      <td>6000</td>\n      <td>16</td>\n      <td>1</td>\n      <td>6</td>\n    </tr>\n    <tr>\n      <th>26</th>\n      <td>105</td>\n      <td>256</td>\n      <td>2000</td>\n      <td>0</td>\n      <td>3</td>\n      <td>10</td>\n    </tr>\n    <tr>\n      <th>16</th>\n      <td>600</td>\n      <td>768</td>\n      <td>2000</td>\n      <td>0</td>\n      <td>1</td>\n      <td>1</td>\n    </tr>\n    <tr>\n      <th>26</th>\n      <td>100</td>\n      <td>1000</td>\n      <td>8000</td>\n      <td>24</td>\n      <td>2</td>\n      <td>6</td>\n    </tr>\n    <tr>\n      <th>67</th>\n      <td>480</td>\n      <td>512</td>\n      <td>8000</td>\n      <td>32</td>\n      <td>0</td>\n      <td>0</td>\n    </tr>\n    <tr>\n      <th>465</th>\n      <td>26</td>\n      <td>16000</td>\n      <td>32000</td>\n      <td>64</td>\n      <td>16</td>\n      <td>24</td>\n    </tr>\n    <tr>\n      <th>38</th>\n      <td>300</td>\n      <td>1000</td>\n      <td>16000</td>\n      <td>8</td>\n      <td>2</td>\n      <td>112</td>\n    </tr>\n    <tr>\n      <th>17</th>\n      <td>56</td>\n      <td>1000</td>\n      <td>4000</td>\n      <td>0</td>\n      <td>1</td>\n      <td>6</td>\n    </tr>\n    <tr>\n      <th>307</th>\n      <td>50</td>\n      <td>2000</td>\n      <td>32000</td>\n      <td>112</td>\n      <td>52</td>\n      <td>104</td>\n    </tr>\n  </tbody>\n</table>\n</div>"
     },
     "execution_count": 21,
     "metadata": {},
     "output_type": "execute_result"
    }
   ],
   "source": [
    "test_dataset.print_dataframe()"
   ],
   "metadata": {
    "collapsed": false,
    "pycharm": {
     "name": "#%%\n"
    }
   }
  },
  {
   "cell_type": "code",
   "execution_count": 22,
   "outputs": [
    {
     "data": {
      "text/plain": "array([192. ,  31. ,  31. , 893. ,  18. , 323.5,  51. ,  26.5, 893. ,\n       127.5,  67. ,  76. ,  54. ,  63.5,  94. ,  30. ,  75. ,  18.5,\n       162. ,  56. ,  78. ,  78. , 115.5,  33.5,  14.5,  81.5,  21.5,\n        31. ,  21.5,  79.5, 344. ,  31. , 115.5,  21. ,  18. ,  39. ,\n        32. , 416. ,  94. ,  27.5, 127.5])"
     },
     "execution_count": 22,
     "metadata": {},
     "output_type": "execute_result"
    }
   ],
   "source": [
    "k = 2\n",
    "kmeans = KNNRegressor(k)\n",
    "kmeans.fit(train_dataset)\n",
    "predictions = kmeans.predict(test_dataset)\n",
    "predictions"
   ],
   "metadata": {
    "collapsed": false,
    "pycharm": {
     "name": "#%%\n"
    }
   }
  },
  {
   "cell_type": "code",
   "execution_count": 23,
   "outputs": [
    {
     "data": {
      "text/plain": "(61.366501945080834+0j)"
     },
     "execution_count": 23,
     "metadata": {},
     "output_type": "execute_result"
    }
   ],
   "source": [
    "kmeans.score(test_dataset)"
   ],
   "metadata": {
    "collapsed": false,
    "pycharm": {
     "name": "#%%\n"
    }
   }
  }
 ],
 "metadata": {
  "kernelspec": {
   "display_name": "Python 3",
   "language": "python",
   "name": "python3"
  },
  "language_info": {
   "codemirror_mode": {
    "name": "ipython",
    "version": 2
   },
   "file_extension": ".py",
   "mimetype": "text/x-python",
   "name": "python",
   "nbconvert_exporter": "python",
   "pygments_lexer": "ipython2",
   "version": "2.7.6"
  }
 },
 "nbformat": 4,
 "nbformat_minor": 0
}